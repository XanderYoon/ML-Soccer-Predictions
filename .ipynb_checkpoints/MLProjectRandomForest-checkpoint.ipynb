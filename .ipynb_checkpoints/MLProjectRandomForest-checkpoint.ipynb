{
 "cells": [
  {
   "cell_type": "markdown",
   "metadata": {
    "id": "XgTEGJLOhnXK"
   },
   "source": [
    "# Loading the Dataset\n",
    "Link to google drive"
   ]
  },
  {
   "cell_type": "code",
   "execution_count": null,
   "metadata": {
    "colab": {
     "base_uri": "https://localhost:8080/"
    },
    "id": "ELbR9C5jiLkM",
    "outputId": "a4ade9a8-313b-4e61-b13a-fabbd9932585"
   },
   "outputs": [
    {
     "name": "stdout",
     "output_type": "stream",
     "text": [
      "Mounted at /content/drive\n"
     ]
    }
   ],
   "source": [
    "from google.colab import drive\n",
    "drive.mount('/content/drive')"
   ]
  },
  {
   "cell_type": "code",
   "execution_count": null,
   "metadata": {
    "colab": {
     "base_uri": "https://localhost:8080/",
     "height": 52
    },
    "id": "kCw3Vg69jaT7",
    "outputId": "06e9e604-dac0-4c49-b742-91d3b851965f"
   },
   "outputs": [
    {
     "name": "stdout",
     "output_type": "stream",
     "text": [
      "\u001b[0m\u001b[01;34mdrive\u001b[0m/  \u001b[01;34msample_data\u001b[0m/\n"
     ]
    },
    {
     "data": {
      "application/vnd.google.colaboratory.intrinsic+json": {
       "type": "string"
      },
      "text/plain": [
       "'/content'"
      ]
     },
     "execution_count": 4,
     "metadata": {},
     "output_type": "execute_result"
    }
   ],
   "source": [
    "%ls\n",
    "%pwd"
   ]
  },
  {
   "cell_type": "code",
   "execution_count": 1,
   "metadata": {},
   "outputs": [],
   "source": [
    "import os\n",
    "import pandas as pd\n",
    "import sqlite3"
   ]
  },
  {
   "cell_type": "code",
   "execution_count": 2,
   "metadata": {},
   "outputs": [],
   "source": [
    "import soccer_database as sdb\n",
    "\n",
    "# load the database\n",
    "filepath = './database.sqlite'\n",
    "soccer_db = sdb.SoccerDatabase(filepath)"
   ]
  },
  {
   "cell_type": "code",
   "execution_count": 37,
   "metadata": {},
   "outputs": [
    {
     "name": "stdout",
     "output_type": "stream",
     "text": [
      "['sqlite_sequence', 'Player_Attributes', 'Player', 'Match', 'League', 'Country', 'Team', 'Team_Attributes']\n",
      "        id  team_api_id  team_fifa_api_id      team_long_name team_short_name\n",
      "0        1         9987             673.0            KRC Genk             GEN\n",
      "1        2         9993             675.0        Beerschot AC             BAC\n",
      "2        3        10000           15005.0    SV Zulte-Waregem             ZUL\n",
      "3        4         9994            2007.0    Sporting Lokeren             LOK\n",
      "4        5         9984            1750.0   KSV Cercle Brugge             CEB\n",
      "..     ...          ...               ...                 ...             ...\n",
      "294  49479        10190             898.0       FC St. Gallen             GAL\n",
      "295  49837        10191            1715.0             FC Thun             THU\n",
      "296  50201         9777             324.0         Servette FC             SER\n",
      "297  50204         7730            1862.0  FC Lausanne-Sports             LAU\n",
      "298  51606         7896               NaN              Lugano             LUG\n",
      "\n",
      "[299 rows x 5 columns]\n"
     ]
    }
   ],
   "source": [
    "# print all the columns\n",
    "print(soccer_db.get_db_tables())\n",
    "\n",
    "# capture the team attributes table\n",
    "team = soccer_db.get_pandas_df('Team')\n",
    "# sort by team id and date\n",
    "print(team)\n"
   ]
  },
  {
   "cell_type": "markdown",
   "metadata": {
    "id": "bNC4pRw0ixFN"
   },
   "source": [
    "load the file from the google drive"
   ]
  },
  {
   "cell_type": "code",
   "execution_count": null,
   "metadata": {
    "colab": {
     "base_uri": "https://localhost:8080/"
    },
    "id": "0Km38vfyi7GD",
    "outputId": "f9c8e2c5-d53f-4088-8a50-f1f424642aa8"
   },
   "outputs": [
    {
     "name": "stdout",
     "output_type": "stream",
     "text": [
      "Failed to find file in google drive\n"
     ]
    }
   ],
   "source": [
    "found_file = False\n",
    "# Propp's\n",
    "try:\n",
    "  with open('/content/drive/MyDrive/Fall2023/MachineLearning/database.sqlite', 'r') as f:\n",
    "    print(\"found file\")\n",
    "    found_file = True\n",
    "except FileNotFoundError:\n",
    "  pass\n",
    "# Eli\n",
    "if(not found_file):\n",
    "  try:\n",
    "    with open('/content/drive/Shared drives/MachineLearning/database.sqlite', 'r') as f:\n",
    "      print(\"found file\")\n",
    "      found_file = True\n",
    "  except FileNotFoundError:\n",
    "    pass\n",
    "# Sabina\n",
    "if(not found_file):\n",
    "  try:\n",
    "    with open('/content/drive/Shared drives/MachineLearning/database.sqlite', 'r') as f:\n",
    "      print(\"found file\")\n",
    "      found_file = True\n",
    "  except FileNotFoundError:\n",
    "    pass\n",
    "\n",
    "if(not found_file):\n",
    "  print(\"Failed to find file in google drive\")"
   ]
  },
  {
   "cell_type": "code",
   "execution_count": null,
   "metadata": {},
   "outputs": [],
   "source": []
  }
 ],
 "metadata": {
  "colab": {
   "provenance": []
  },
  "kernelspec": {
   "display_name": "Python 3 (ipykernel)",
   "language": "python",
   "name": "python3"
  },
  "language_info": {
   "codemirror_mode": {
    "name": "ipython",
    "version": 3
   },
   "file_extension": ".py",
   "mimetype": "text/x-python",
   "name": "python",
   "nbconvert_exporter": "python",
   "pygments_lexer": "ipython3",
   "version": "3.11.5"
  }
 },
 "nbformat": 4,
 "nbformat_minor": 1
}
