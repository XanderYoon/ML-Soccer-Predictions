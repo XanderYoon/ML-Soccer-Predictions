{
 "cells": [
  {
   "cell_type": "markdown",
   "metadata": {},
   "source": [
    "# Logistic Regression\n",
    "*Daniel Öman & Xander Yoon*"
   ]
  },
  {
   "cell_type": "markdown",
   "metadata": {},
   "source": [
    "Import Dependencies"
   ]
  },
  {
   "cell_type": "code",
   "execution_count": 1,
   "metadata": {},
   "outputs": [],
   "source": [
    "%load_ext autoreload\n",
    "%autoreload 2\n",
    "%matplotlib inline\n",
    "\n",
    "import numpy as np\n",
    "import pandas as pd\n",
    "import sqlite3\n",
    "from sklearn.linear_model import LogisticRegression\n",
    "from sklearn.decomposition import PCA\n",
    "from sklearn.metrics import mean_squared_error, accuracy_score\n",
    "import matplotlib.pyplot as plt\n",
    "from mpl_toolkits.mplot3d import Axes3D\n",
    "from sklearn.preprocessing import StandardScaler\n",
    "import warnings\n",
    "import seaborn as sns\n",
    "from sklearn.inspection import permutation_importance\n",
    "from helpers import train_test, evaluate, logistic_regression, polynomial_features, poly_enhance_data, train_test_error, plot_errors, get_sorted_importances, plot_sorted_importances\n",
    "import helpers"
   ]
  },
  {
   "cell_type": "markdown",
   "metadata": {},
   "source": [
    "Read database"
   ]
  },
  {
   "cell_type": "code",
   "execution_count": 2,
   "metadata": {},
   "outputs": [],
   "source": [
    "path = \"database.sqlite\"\n",
    "connection = sqlite3.connect(path)"
   ]
  },
  {
   "cell_type": "markdown",
   "metadata": {},
   "source": [
    "# Data Cleaning and Feature Engineering"
   ]
  },
  {
   "cell_type": "code",
   "execution_count": 3,
   "metadata": {},
   "outputs": [],
   "source": [
    "# Read Match data\n",
    "matches = pd.read_sql(\"SELECT * FROM Match;\", connection)"
   ]
  },
  {
   "cell_type": "code",
   "execution_count": 4,
   "metadata": {},
   "outputs": [
    {
     "data": {
      "text/html": [
       "<div>\n",
       "<style scoped>\n",
       "    .dataframe tbody tr th:only-of-type {\n",
       "        vertical-align: middle;\n",
       "    }\n",
       "\n",
       "    .dataframe tbody tr th {\n",
       "        vertical-align: top;\n",
       "    }\n",
       "\n",
       "    .dataframe thead th {\n",
       "        text-align: right;\n",
       "    }\n",
       "</style>\n",
       "<table border=\"1\" class=\"dataframe\">\n",
       "  <thead>\n",
       "    <tr style=\"text-align: right;\">\n",
       "      <th></th>\n",
       "      <th>id</th>\n",
       "      <th>country_id</th>\n",
       "      <th>league_id</th>\n",
       "      <th>season</th>\n",
       "      <th>stage</th>\n",
       "      <th>date</th>\n",
       "      <th>match_api_id</th>\n",
       "      <th>home_team_api_id</th>\n",
       "      <th>away_team_api_id</th>\n",
       "      <th>home_team_goal</th>\n",
       "      <th>...</th>\n",
       "      <th>SJA</th>\n",
       "      <th>VCH</th>\n",
       "      <th>VCD</th>\n",
       "      <th>VCA</th>\n",
       "      <th>GBH</th>\n",
       "      <th>GBD</th>\n",
       "      <th>GBA</th>\n",
       "      <th>BSH</th>\n",
       "      <th>BSD</th>\n",
       "      <th>BSA</th>\n",
       "    </tr>\n",
       "  </thead>\n",
       "  <tbody>\n",
       "    <tr>\n",
       "      <th>0</th>\n",
       "      <td>1</td>\n",
       "      <td>1</td>\n",
       "      <td>1</td>\n",
       "      <td>2008/2009</td>\n",
       "      <td>1</td>\n",
       "      <td>2008-08-17 00:00:00</td>\n",
       "      <td>492473</td>\n",
       "      <td>9987</td>\n",
       "      <td>9993</td>\n",
       "      <td>1</td>\n",
       "      <td>...</td>\n",
       "      <td>4.00</td>\n",
       "      <td>1.65</td>\n",
       "      <td>3.40</td>\n",
       "      <td>4.50</td>\n",
       "      <td>1.78</td>\n",
       "      <td>3.25</td>\n",
       "      <td>4.00</td>\n",
       "      <td>1.73</td>\n",
       "      <td>3.40</td>\n",
       "      <td>4.20</td>\n",
       "    </tr>\n",
       "    <tr>\n",
       "      <th>1</th>\n",
       "      <td>2</td>\n",
       "      <td>1</td>\n",
       "      <td>1</td>\n",
       "      <td>2008/2009</td>\n",
       "      <td>1</td>\n",
       "      <td>2008-08-16 00:00:00</td>\n",
       "      <td>492474</td>\n",
       "      <td>10000</td>\n",
       "      <td>9994</td>\n",
       "      <td>0</td>\n",
       "      <td>...</td>\n",
       "      <td>3.80</td>\n",
       "      <td>2.00</td>\n",
       "      <td>3.25</td>\n",
       "      <td>3.25</td>\n",
       "      <td>1.85</td>\n",
       "      <td>3.25</td>\n",
       "      <td>3.75</td>\n",
       "      <td>1.91</td>\n",
       "      <td>3.25</td>\n",
       "      <td>3.60</td>\n",
       "    </tr>\n",
       "    <tr>\n",
       "      <th>2</th>\n",
       "      <td>3</td>\n",
       "      <td>1</td>\n",
       "      <td>1</td>\n",
       "      <td>2008/2009</td>\n",
       "      <td>1</td>\n",
       "      <td>2008-08-16 00:00:00</td>\n",
       "      <td>492475</td>\n",
       "      <td>9984</td>\n",
       "      <td>8635</td>\n",
       "      <td>0</td>\n",
       "      <td>...</td>\n",
       "      <td>2.50</td>\n",
       "      <td>2.35</td>\n",
       "      <td>3.25</td>\n",
       "      <td>2.65</td>\n",
       "      <td>2.50</td>\n",
       "      <td>3.20</td>\n",
       "      <td>2.50</td>\n",
       "      <td>2.30</td>\n",
       "      <td>3.20</td>\n",
       "      <td>2.75</td>\n",
       "    </tr>\n",
       "    <tr>\n",
       "      <th>3</th>\n",
       "      <td>4</td>\n",
       "      <td>1</td>\n",
       "      <td>1</td>\n",
       "      <td>2008/2009</td>\n",
       "      <td>1</td>\n",
       "      <td>2008-08-17 00:00:00</td>\n",
       "      <td>492476</td>\n",
       "      <td>9991</td>\n",
       "      <td>9998</td>\n",
       "      <td>5</td>\n",
       "      <td>...</td>\n",
       "      <td>7.50</td>\n",
       "      <td>1.45</td>\n",
       "      <td>3.75</td>\n",
       "      <td>6.50</td>\n",
       "      <td>1.50</td>\n",
       "      <td>3.75</td>\n",
       "      <td>5.50</td>\n",
       "      <td>1.44</td>\n",
       "      <td>3.75</td>\n",
       "      <td>6.50</td>\n",
       "    </tr>\n",
       "    <tr>\n",
       "      <th>4</th>\n",
       "      <td>5</td>\n",
       "      <td>1</td>\n",
       "      <td>1</td>\n",
       "      <td>2008/2009</td>\n",
       "      <td>1</td>\n",
       "      <td>2008-08-16 00:00:00</td>\n",
       "      <td>492477</td>\n",
       "      <td>7947</td>\n",
       "      <td>9985</td>\n",
       "      <td>1</td>\n",
       "      <td>...</td>\n",
       "      <td>1.73</td>\n",
       "      <td>4.50</td>\n",
       "      <td>3.40</td>\n",
       "      <td>1.65</td>\n",
       "      <td>4.50</td>\n",
       "      <td>3.50</td>\n",
       "      <td>1.65</td>\n",
       "      <td>4.75</td>\n",
       "      <td>3.30</td>\n",
       "      <td>1.67</td>\n",
       "    </tr>\n",
       "  </tbody>\n",
       "</table>\n",
       "<p>5 rows × 115 columns</p>\n",
       "</div>"
      ],
      "text/plain": [
       "   id  country_id  league_id     season  stage                 date  \\\n",
       "0   1           1          1  2008/2009      1  2008-08-17 00:00:00   \n",
       "1   2           1          1  2008/2009      1  2008-08-16 00:00:00   \n",
       "2   3           1          1  2008/2009      1  2008-08-16 00:00:00   \n",
       "3   4           1          1  2008/2009      1  2008-08-17 00:00:00   \n",
       "4   5           1          1  2008/2009      1  2008-08-16 00:00:00   \n",
       "\n",
       "   match_api_id  home_team_api_id  away_team_api_id  home_team_goal  ...  \\\n",
       "0        492473              9987              9993               1  ...   \n",
       "1        492474             10000              9994               0  ...   \n",
       "2        492475              9984              8635               0  ...   \n",
       "3        492476              9991              9998               5  ...   \n",
       "4        492477              7947              9985               1  ...   \n",
       "\n",
       "    SJA   VCH   VCD   VCA   GBH   GBD   GBA   BSH   BSD   BSA  \n",
       "0  4.00  1.65  3.40  4.50  1.78  3.25  4.00  1.73  3.40  4.20  \n",
       "1  3.80  2.00  3.25  3.25  1.85  3.25  3.75  1.91  3.25  3.60  \n",
       "2  2.50  2.35  3.25  2.65  2.50  3.20  2.50  2.30  3.20  2.75  \n",
       "3  7.50  1.45  3.75  6.50  1.50  3.75  5.50  1.44  3.75  6.50  \n",
       "4  1.73  4.50  3.40  1.65  4.50  3.50  1.65  4.75  3.30  1.67  \n",
       "\n",
       "[5 rows x 115 columns]"
      ]
     },
     "execution_count": 4,
     "metadata": {},
     "output_type": "execute_result"
    }
   ],
   "source": [
    "matches.head()"
   ]
  },
  {
   "cell_type": "code",
   "execution_count": 5,
   "metadata": {},
   "outputs": [],
   "source": [
    "players = pd.read_sql(\"SELECT * FROM Player;\", connection)"
   ]
  },
  {
   "cell_type": "markdown",
   "metadata": {},
   "source": [
    "How to get a player in a matches starting lineup"
   ]
  },
  {
   "cell_type": "code",
   "execution_count": 6,
   "metadata": {},
   "outputs": [
    {
     "data": {
      "text/html": [
       "<div>\n",
       "<style scoped>\n",
       "    .dataframe tbody tr th:only-of-type {\n",
       "        vertical-align: middle;\n",
       "    }\n",
       "\n",
       "    .dataframe tbody tr th {\n",
       "        vertical-align: top;\n",
       "    }\n",
       "\n",
       "    .dataframe thead th {\n",
       "        text-align: right;\n",
       "    }\n",
       "</style>\n",
       "<table border=\"1\" class=\"dataframe\">\n",
       "  <thead>\n",
       "    <tr style=\"text-align: right;\">\n",
       "      <th></th>\n",
       "      <th>id</th>\n",
       "      <th>player_api_id</th>\n",
       "      <th>player_name</th>\n",
       "      <th>player_fifa_api_id</th>\n",
       "      <th>birthday</th>\n",
       "      <th>height</th>\n",
       "      <th>weight</th>\n",
       "    </tr>\n",
       "  </thead>\n",
       "  <tbody>\n",
       "    <tr>\n",
       "      <th>1771</th>\n",
       "      <td>1774</td>\n",
       "      <td>92252</td>\n",
       "      <td>Christian Schneuwly</td>\n",
       "      <td>184285</td>\n",
       "      <td>1988-02-07 00:00:00</td>\n",
       "      <td>177.8</td>\n",
       "      <td>161</td>\n",
       "    </tr>\n",
       "  </tbody>\n",
       "</table>\n",
       "</div>"
      ],
      "text/plain": [
       "        id  player_api_id          player_name  player_fifa_api_id  \\\n",
       "1771  1774          92252  Christian Schneuwly              184285   \n",
       "\n",
       "                 birthday  height  weight  \n",
       "1771  1988-02-07 00:00:00   177.8     161  "
      ]
     },
     "execution_count": 6,
     "metadata": {},
     "output_type": "execute_result"
    }
   ],
   "source": [
    "players[players[\"player_api_id\"] == matches[\"away_player_10\"][25977]]"
   ]
  },
  {
   "cell_type": "code",
   "execution_count": 7,
   "metadata": {},
   "outputs": [],
   "source": [
    "teams = pd.read_sql(\"SELECT * FROM Team_Attributes;\", connection)"
   ]
  },
  {
   "cell_type": "code",
   "execution_count": 8,
   "metadata": {},
   "outputs": [
    {
     "name": "stdout",
     "output_type": "stream",
     "text": [
      "id\n",
      "team_fifa_api_id\n",
      "team_api_id\n",
      "date\n",
      "buildUpPlaySpeed\n",
      "buildUpPlaySpeedClass\n",
      "buildUpPlayDribbling\n",
      "buildUpPlayDribblingClass\n",
      "buildUpPlayPassing\n",
      "buildUpPlayPassingClass\n",
      "buildUpPlayPositioningClass\n",
      "chanceCreationPassing\n",
      "chanceCreationPassingClass\n",
      "chanceCreationCrossing\n",
      "chanceCreationCrossingClass\n",
      "chanceCreationShooting\n",
      "chanceCreationShootingClass\n",
      "chanceCreationPositioningClass\n",
      "defencePressure\n",
      "defencePressureClass\n",
      "defenceAggression\n",
      "defenceAggressionClass\n",
      "defenceTeamWidth\n",
      "defenceTeamWidthClass\n",
      "defenceDefenderLineClass\n"
     ]
    }
   ],
   "source": [
    "for c in teams.columns:\n",
    "    print(c)"
   ]
  },
  {
   "cell_type": "markdown",
   "metadata": {},
   "source": [
    "### Dataset preprocessing\n",
    "For the binary classification problem, we will use \"home team win\" as the positive label and \"home team draw/loss\" as the negative label. We can extend this to three labels for a multi-class classification problem. Let's introduce this label to our dataset:"
   ]
  },
  {
   "cell_type": "code",
   "execution_count": 9,
   "metadata": {},
   "outputs": [],
   "source": [
    "binary_class_label = helpers.binary_class_label\n",
    "binary_class_label_complement = helpers.binary_class_label_complement"
   ]
  },
  {
   "cell_type": "code",
   "execution_count": 10,
   "metadata": {},
   "outputs": [],
   "source": [
    "matches[binary_class_label] = np.where(matches[\"home_team_goal\"] - matches[\"away_team_goal\"] > 0, 1, 0)\n",
    "matches[binary_class_label_complement] = np.where(matches[\"home_team_win\"] == 0, 1, 0)"
   ]
  },
  {
   "cell_type": "code",
   "execution_count": 11,
   "metadata": {},
   "outputs": [
    {
     "name": "stdout",
     "output_type": "stream",
     "text": [
      "Percentage of home wins: 45.87%\n"
     ]
    }
   ],
   "source": [
    "# % of home wins in the dataset\n",
    "num_home_wins = np.count_nonzero(matches[\"home_team_win\"] == 1)\n",
    "print(f\"Percentage of home wins: {round(num_home_wins / matches.shape[0] * 100, 2)}%\")"
   ]
  },
  {
   "cell_type": "markdown",
   "metadata": {},
   "source": [
    "### Helper functions"
   ]
  },
  {
   "cell_type": "markdown",
   "metadata": {},
   "source": [
    "#\n",
    " Model Training\n",
    "1. Betting Odds\n",
    "2. Team Match History\n",
    "3. FIFA Attributes\n",
    "4. Shape of formation"
   ]
  },
  {
   "cell_type": "markdown",
   "metadata": {},
   "source": [
    "## 1. Betting Odds\n",
    "\n",
    "We will use a logistic regression model trained on betting odds to predict match outcomes of a test dataset."
   ]
  },
  {
   "cell_type": "code",
   "execution_count": 12,
   "metadata": {},
   "outputs": [],
   "source": [
    "odds_features = ['B365H', 'B365D', 'B365A', 'BWH', 'BWD', 'BWA', 'IWH', 'IWD', 'IWA', 'LBH', 'LBD', 'LBA', 'PSH', 'PSD', 'PSA', 'WHH', 'WHD', 'WHA', 'SJH', 'SJD', 'SJA', 'VCH', 'VCD', 'VCA', 'GBH', 'GBD', 'GBA', 'BSH', 'BSD', 'BSA']"
   ]
  },
  {
   "cell_type": "code",
   "execution_count": 13,
   "metadata": {},
   "outputs": [],
   "source": [
    "# Clean Data\n",
    "odds_data = matches[odds_features + [binary_class_label]].dropna()"
   ]
  },
  {
   "cell_type": "markdown",
   "metadata": {},
   "source": [
    "Train the model."
   ]
  },
  {
   "cell_type": "code",
   "execution_count": 14,
   "metadata": {},
   "outputs": [
    {
     "name": "stdout",
     "output_type": "stream",
     "text": [
      "rmse = 0.30434782608695654\n",
      "accuracy_score = 0.6956521739130435\n"
     ]
    }
   ],
   "source": [
    "odds_lr = logistic_regression(odds_data, odds_features)"
   ]
  },
  {
   "cell_type": "code",
   "execution_count": 15,
   "metadata": {},
   "outputs": [
    {
     "name": "stdout",
     "output_type": "stream",
     "text": [
      "Train Error = 0.3540322580645161\n",
      "Test Error = 0.30434782608695654\n"
     ]
    },
    {
     "data": {
      "text/plain": [
       "(0.3540322580645161, 0.30434782608695654)"
      ]
     },
     "execution_count": 15,
     "metadata": {},
     "output_type": "execute_result"
    }
   ],
   "source": [
    "train_test_error(odds_lr, odds_features)"
   ]
  },
  {
   "cell_type": "markdown",
   "metadata": {},
   "source": [
    "Let's inspect the permutation importance of the features"
   ]
  },
  {
   "cell_type": "code",
   "execution_count": 16,
   "metadata": {},
   "outputs": [
    {
     "data": {
      "image/png": "[encoded data removed]",
      "text/plain": [
       "<Figure size 432x288 with 1 Axes>"
      ]
     },
     "metadata": {
      "needs_background": "light"
     },
     "output_type": "display_data"
    }
   ],
   "source": [
    "xtrain = odds_lr[\"train_data\"][odds_features]\n",
    "ytrain = odds_lr[\"train_data\"][binary_class_label]\n",
    "features_by_importance = get_sorted_importances(odds_lr, odds_features)\n",
    "plot_sorted_importances(features_by_importance)"
   ]
  },
  {
   "cell_type": "markdown",
   "metadata": {},
   "source": [
    "Re-train with the important features. Let's see what number of important features make the model perform the best."
   ]
  },
  {
   "cell_type": "code",
   "execution_count": 17,
   "metadata": {},
   "outputs": [
    {
     "data": {
      "image/png": "[encoded data removed]",
      "text/plain": [
       "<Figure size 432x288 with 1 Axes>"
      ]
     },
     "metadata": {
      "needs_background": "light"
     },
     "output_type": "display_data"
    }
   ],
   "source": [
    "top_k = len(odds_features) # the number of top features to select\n",
    "\n",
    "train_error = []\n",
    "test_error = []\n",
    "num_features = list(range(1, top_k))\n",
    "for k in num_features:\n",
    "    top_k_features = list(features_by_importance.head(k)[\"feature_name\"])\n",
    "    top_k_odds_lr = logistic_regression(odds_data[top_k_features + [binary_class_label]], top_k_features, suppress_print=True)\n",
    "    tr_err, te_err = train_test_error(top_k_odds_lr, top_k_features, suppress_print=True)\n",
    "    train_error.append(tr_err)\n",
    "    test_error.append(te_err)\n",
    "\n",
    "plot_errors(train_error, test_error, num_features)"
   ]
  },
  {
   "cell_type": "markdown",
   "metadata": {},
   "source": [
    "We can note that picking the top 4 or 5 features minimizes test error. Train error stays relatively constant. Let's pick the top 4."
   ]
  },
  {
   "cell_type": "code",
   "execution_count": 18,
   "metadata": {},
   "outputs": [],
   "source": [
    "top_4_features = list(features_by_importance.head(4)[\"feature_name\"])\n",
    "top_4_features_odds_data = odds_data[top_4_features + [binary_class_label]]"
   ]
  },
  {
   "cell_type": "markdown",
   "metadata": {},
   "source": [
    "We originally had some decent test/train error. Can we do even better? How about polynomial features on the important features? Attempt degree 2."
   ]
  },
  {
   "cell_type": "code",
   "execution_count": 19,
   "metadata": {},
   "outputs": [
    {
     "name": "stdout",
     "output_type": "stream",
     "text": [
      "rmse = 0.29347826086956524\n",
      "accuracy_score = 0.7065217391304348\n"
     ]
    }
   ],
   "source": [
    "odds_poly = poly_enhance_data(top_4_features_odds_data, top_4_features, degree = 2, suppress_print=True)\n",
    "odds_poly_lr = logistic_regression(odds_poly[0], odds_poly[1])"
   ]
  },
  {
   "cell_type": "code",
   "execution_count": 20,
   "metadata": {},
   "outputs": [
    {
     "name": "stdout",
     "output_type": "stream",
     "text": [
      "Train Error = 0.34879032258064513\n",
      "Test Error = 0.2934782608695652\n"
     ]
    },
    {
     "data": {
      "text/plain": [
       "(0.34879032258064513, 0.2934782608695652)"
      ]
     },
     "execution_count": 20,
     "metadata": {},
     "output_type": "execute_result"
    }
   ],
   "source": [
    "train_test_error(odds_poly_lr, odds_poly[1])"
   ]
  },
  {
   "cell_type": "markdown",
   "metadata": {},
   "source": [
    "Going up to degree 3 increases error, so polynomial features isn't the way to go. Let's demonstrate this:"
   ]
  },
  {
   "cell_type": "code",
   "execution_count": 21,
   "metadata": {},
   "outputs": [
    {
     "data": {
      "image/png": "[encoded data removed]",
      "text/plain": [
       "<Figure size 432x288 with 1 Axes>"
      ]
     },
     "metadata": {
      "needs_background": "light"
     },
     "output_type": "display_data"
    }
   ],
   "source": [
    "train_error = []\n",
    "test_error = []\n",
    "solver = \"saga\"\n",
    "degrees = [i for i in range(8)]\n",
    "with warnings.catch_warnings():\n",
    "    warnings.simplefilter('ignore')\n",
    "    for degree in degrees:\n",
    "        odds_poly = odds_poly = poly_enhance_data(top_4_features_odds_data, top_4_features, degree = degree, suppress_print=True)\n",
    "        odds_poly_lr = logistic_regression(odds_poly[0], odds_poly[1], solver=solver, suppress_print=True)\n",
    "        tr_err, te_err = train_test_error(odds_poly_lr, odds_poly[1], suppress_print=True)\n",
    "        train_error.append(tr_err)\n",
    "        test_error.append(te_err)\n",
    "\n",
    "plot_errors(train_error, test_error, degrees)"
   ]
  },
  {
   "cell_type": "markdown",
   "metadata": {},
   "source": [
    "Degree 1 seems to minimize train and test error, so we should just not use polynomial features. I'll settle at ~70% accuracy when training the model on betting odds. So, to conclude, the best four providers to use to predict match outcome are:"
   ]
  },
  {
   "cell_type": "code",
   "execution_count": 22,
   "metadata": {},
   "outputs": [
    {
     "data": {
      "text/plain": [
       "['SJA', 'B365H', 'VCD', 'PSH']"
      ]
     },
     "execution_count": 22,
     "metadata": {},
     "output_type": "execute_result"
    }
   ],
   "source": [
    "top_4_features"
   ]
  },
  {
   "cell_type": "markdown",
   "metadata": {},
   "source": [
    "What this tells us is that when these providers release their odds, you can use them with our modelling with 70% accuracy. This model is represented in ```odds_predictor.py```. Here is a quick demo on how to use the predictor:"
   ]
  },
  {
   "cell_type": "code",
   "execution_count": 47,
   "metadata": {},
   "outputs": [
    {
     "name": "stdout",
     "output_type": "stream",
     "text": [
      "rmse = 0.29347826086956524\n",
      "accuracy_score = 0.7065217391304348\n",
      "['SJA', 'VCD', 'B365H']\n"
     ]
    }
   ],
   "source": [
    "from odds_predictor import OddsPredictor\n",
    "predictor = OddsPredictor(matches)\n",
    "predictor.train()"
   ]
  },
  {
   "cell_type": "code",
   "execution_count": 48,
   "metadata": {},
   "outputs": [
    {
     "data": {
      "text/plain": [
       "True"
      ]
     },
     "execution_count": 48,
     "metadata": {},
     "output_type": "execute_result"
    }
   ],
   "source": [
    "sample_match_odds = {\n",
    "    \"SJA\": 8,\n",
    "    \"VCD\": 0,\n",
    "    \"B365H\": 3\n",
    "}\n",
    "predictor.will_home_win(sample_match_odds)"
   ]
  },
  {
   "cell_type": "markdown",
   "metadata": {},
   "source": [
    "We have a 70% accurate predictor trained on match odds!"
   ]
  },
  {
   "cell_type": "markdown",
   "metadata": {},
   "source": [
    "## 2. Team Match History\n",
    "\n",
    "Are historically successful teams more likely to win a matchup?\n",
    "\n",
    "Look at all matches before a given match for a given team and compute their cumulative goal differential win rate. Encode a matchup as home cumulative goal difference/win rate - away cumulative goal difference/win rate\n",
    "\n",
    "This is pretty difficult..."
   ]
  },
  {
   "cell_type": "markdown",
   "metadata": {},
   "source": [
    "## 3. FIFA Attributes\n",
    "\n",
    "Use aggregated FIFA information from Team_Attributes to predict match outcomes."
   ]
  },
  {
   "cell_type": "code",
   "execution_count": 25,
   "metadata": {},
   "outputs": [],
   "source": [
    "team_attributes = pd.read_sql(\"SELECT * FROM Team_Attributes;\", connection)"
   ]
  },
  {
   "cell_type": "code",
   "execution_count": 26,
   "metadata": {},
   "outputs": [
    {
     "data": {
      "text/plain": [
       "36"
      ]
     },
     "execution_count": 26,
     "metadata": {},
     "output_type": "execute_result"
    }
   ],
   "source": [
    "# Features to train the model on\n",
    "buildup_features = [\"buildUpPlaySpeed\", \"buildUpPlayDribbling\", \"buildUpPlayPassing\"]\n",
    "chance_creation_features = [\"chanceCreationPassing\", \"chanceCreationCrossing\", \"chanceCreationShooting\"]\n",
    "defence_features = [\"defencePressure\", \"defenceAggression\", \"defenceTeamWidth\"]\n",
    "categories = [buildup_features, chance_creation_features, defence_features]\n",
    "\n",
    "aggregations = [\"mean\", \"min\", \"max\", \"median\"]\n",
    "\n",
    "# Raw names\n",
    "all_attr_features = []\n",
    "for category in categories:\n",
    "    all_attr_features += category\n",
    "\n",
    "# Named aggregations\n",
    "all_attr_features_agg = []\n",
    "categories_agg = []\n",
    "for category in categories:\n",
    "    category_agg = []\n",
    "    for agg in aggregations:\n",
    "        for feature in category:\n",
    "            formatted_feature_name = f\"{feature}_{agg}\"\n",
    "            category_agg.append(formatted_feature_name)\n",
    "            all_attr_features_agg.append(formatted_feature_name)\n",
    "    categories_agg.append(category_agg)\n",
    "\n",
    "len(all_attr_features_agg)"
   ]
  },
  {
   "cell_type": "code",
   "execution_count": 27,
   "metadata": {},
   "outputs": [
    {
     "data": {
      "text/html": [
       "<div>\n",
       "<style scoped>\n",
       "    .dataframe tbody tr th:only-of-type {\n",
       "        vertical-align: middle;\n",
       "    }\n",
       "\n",
       "    .dataframe tbody tr th {\n",
       "        vertical-align: top;\n",
       "    }\n",
       "\n",
       "    .dataframe thead th {\n",
       "        text-align: right;\n",
       "    }\n",
       "</style>\n",
       "<table border=\"1\" class=\"dataframe\">\n",
       "  <thead>\n",
       "    <tr style=\"text-align: right;\">\n",
       "      <th></th>\n",
       "      <th>team_api_id</th>\n",
       "      <th>buildUpPlaySpeed_mean</th>\n",
       "      <th>buildUpPlayDribbling_mean</th>\n",
       "      <th>buildUpPlayPassing_mean</th>\n",
       "      <th>buildUpPlaySpeed_min</th>\n",
       "      <th>buildUpPlayDribbling_min</th>\n",
       "      <th>buildUpPlayPassing_min</th>\n",
       "      <th>buildUpPlaySpeed_max</th>\n",
       "      <th>buildUpPlayDribbling_max</th>\n",
       "      <th>buildUpPlayPassing_max</th>\n",
       "      <th>...</th>\n",
       "      <th>defenceTeamWidth_mean</th>\n",
       "      <th>defencePressure_min</th>\n",
       "      <th>defenceAggression_min</th>\n",
       "      <th>defenceTeamWidth_min</th>\n",
       "      <th>defencePressure_max</th>\n",
       "      <th>defenceAggression_max</th>\n",
       "      <th>defenceTeamWidth_max</th>\n",
       "      <th>defencePressure_median</th>\n",
       "      <th>defenceAggression_median</th>\n",
       "      <th>defenceTeamWidth_median</th>\n",
       "    </tr>\n",
       "  </thead>\n",
       "  <tbody>\n",
       "    <tr>\n",
       "      <th>0</th>\n",
       "      <td>1601</td>\n",
       "      <td>47.333333</td>\n",
       "      <td>48.0</td>\n",
       "      <td>46.166667</td>\n",
       "      <td>30</td>\n",
       "      <td>48.0</td>\n",
       "      <td>38</td>\n",
       "      <td>53</td>\n",
       "      <td>48.0</td>\n",
       "      <td>55</td>\n",
       "      <td>...</td>\n",
       "      <td>49.333333</td>\n",
       "      <td>43</td>\n",
       "      <td>44</td>\n",
       "      <td>49</td>\n",
       "      <td>65</td>\n",
       "      <td>60</td>\n",
       "      <td>50</td>\n",
       "      <td>43.0</td>\n",
       "      <td>44.0</td>\n",
       "      <td>49.0</td>\n",
       "    </tr>\n",
       "    <tr>\n",
       "      <th>1</th>\n",
       "      <td>1773</td>\n",
       "      <td>52.000000</td>\n",
       "      <td>51.0</td>\n",
       "      <td>50.000000</td>\n",
       "      <td>52</td>\n",
       "      <td>51.0</td>\n",
       "      <td>50</td>\n",
       "      <td>52</td>\n",
       "      <td>51.0</td>\n",
       "      <td>50</td>\n",
       "      <td>...</td>\n",
       "      <td>50.000000</td>\n",
       "      <td>43</td>\n",
       "      <td>44</td>\n",
       "      <td>50</td>\n",
       "      <td>43</td>\n",
       "      <td>44</td>\n",
       "      <td>50</td>\n",
       "      <td>43.0</td>\n",
       "      <td>44.0</td>\n",
       "      <td>50.0</td>\n",
       "    </tr>\n",
       "    <tr>\n",
       "      <th>2</th>\n",
       "      <td>1957</td>\n",
       "      <td>47.166667</td>\n",
       "      <td>54.0</td>\n",
       "      <td>52.666667</td>\n",
       "      <td>30</td>\n",
       "      <td>54.0</td>\n",
       "      <td>38</td>\n",
       "      <td>66</td>\n",
       "      <td>54.0</td>\n",
       "      <td>69</td>\n",
       "      <td>...</td>\n",
       "      <td>53.666667</td>\n",
       "      <td>32</td>\n",
       "      <td>50</td>\n",
       "      <td>49</td>\n",
       "      <td>70</td>\n",
       "      <td>70</td>\n",
       "      <td>70</td>\n",
       "      <td>48.5</td>\n",
       "      <td>56.0</td>\n",
       "      <td>51.0</td>\n",
       "    </tr>\n",
       "    <tr>\n",
       "      <th>3</th>\n",
       "      <td>2033</td>\n",
       "      <td>49.000000</td>\n",
       "      <td>62.0</td>\n",
       "      <td>48.400000</td>\n",
       "      <td>45</td>\n",
       "      <td>62.0</td>\n",
       "      <td>40</td>\n",
       "      <td>65</td>\n",
       "      <td>62.0</td>\n",
       "      <td>55</td>\n",
       "      <td>...</td>\n",
       "      <td>45.400000</td>\n",
       "      <td>37</td>\n",
       "      <td>24</td>\n",
       "      <td>35</td>\n",
       "      <td>50</td>\n",
       "      <td>45</td>\n",
       "      <td>60</td>\n",
       "      <td>37.0</td>\n",
       "      <td>31.0</td>\n",
       "      <td>44.0</td>\n",
       "    </tr>\n",
       "    <tr>\n",
       "      <th>4</th>\n",
       "      <td>2182</td>\n",
       "      <td>60.333333</td>\n",
       "      <td>52.5</td>\n",
       "      <td>49.000000</td>\n",
       "      <td>40</td>\n",
       "      <td>50.0</td>\n",
       "      <td>35</td>\n",
       "      <td>67</td>\n",
       "      <td>55.0</td>\n",
       "      <td>57</td>\n",
       "      <td>...</td>\n",
       "      <td>54.500000</td>\n",
       "      <td>47</td>\n",
       "      <td>37</td>\n",
       "      <td>45</td>\n",
       "      <td>60</td>\n",
       "      <td>58</td>\n",
       "      <td>63</td>\n",
       "      <td>48.5</td>\n",
       "      <td>47.0</td>\n",
       "      <td>55.5</td>\n",
       "    </tr>\n",
       "  </tbody>\n",
       "</table>\n",
       "<p>5 rows × 37 columns</p>\n",
       "</div>"
      ],
      "text/plain": [
       "   team_api_id  buildUpPlaySpeed_mean  buildUpPlayDribbling_mean  \\\n",
       "0         1601              47.333333                       48.0   \n",
       "1         1773              52.000000                       51.0   \n",
       "2         1957              47.166667                       54.0   \n",
       "3         2033              49.000000                       62.0   \n",
       "4         2182              60.333333                       52.5   \n",
       "\n",
       "   buildUpPlayPassing_mean  buildUpPlaySpeed_min  buildUpPlayDribbling_min  \\\n",
       "0                46.166667                    30                      48.0   \n",
       "1                50.000000                    52                      51.0   \n",
       "2                52.666667                    30                      54.0   \n",
       "3                48.400000                    45                      62.0   \n",
       "4                49.000000                    40                      50.0   \n",
       "\n",
       "   buildUpPlayPassing_min  buildUpPlaySpeed_max  buildUpPlayDribbling_max  \\\n",
       "0                      38                    53                      48.0   \n",
       "1                      50                    52                      51.0   \n",
       "2                      38                    66                      54.0   \n",
       "3                      40                    65                      62.0   \n",
       "4                      35                    67                      55.0   \n",
       "\n",
       "   buildUpPlayPassing_max  ...  defenceTeamWidth_mean  defencePressure_min  \\\n",
       "0                      55  ...              49.333333                   43   \n",
       "1                      50  ...              50.000000                   43   \n",
       "2                      69  ...              53.666667                   32   \n",
       "3                      55  ...              45.400000                   37   \n",
       "4                      57  ...              54.500000                   47   \n",
       "\n",
       "   defenceAggression_min  defenceTeamWidth_min  defencePressure_max  \\\n",
       "0                     44                    49                   65   \n",
       "1                     44                    50                   43   \n",
       "2                     50                    49                   70   \n",
       "3                     24                    35                   50   \n",
       "4                     37                    45                   60   \n",
       "\n",
       "   defenceAggression_max  defenceTeamWidth_max  defencePressure_median  \\\n",
       "0                     60                    50                    43.0   \n",
       "1                     44                    50                    43.0   \n",
       "2                     70                    70                    48.5   \n",
       "3                     45                    60                    37.0   \n",
       "4                     58                    63                    48.5   \n",
       "\n",
       "   defenceAggression_median  defenceTeamWidth_median  \n",
       "0                      44.0                     49.0  \n",
       "1                      44.0                     50.0  \n",
       "2                      56.0                     51.0  \n",
       "3                      31.0                     44.0  \n",
       "4                      47.0                     55.5  \n",
       "\n",
       "[5 rows x 37 columns]"
      ]
     },
     "execution_count": 27,
     "metadata": {},
     "output_type": "execute_result"
    }
   ],
   "source": [
    "aggregated_attributes = team_attributes.groupby(\"team_api_id\").agg(\n",
    "    {feature : [(f\"{feature}_{agg}\", agg) for agg in aggregations]for feature in all_attr_features}\n",
    ").reset_index(col_level = 1).droplevel(level = 0, axis = 1)[[\"team_api_id\"] + all_attr_features_agg]\n",
    "\n",
    "aggregated_attributes.head()"
   ]
  },
  {
   "cell_type": "code",
   "execution_count": 28,
   "metadata": {},
   "outputs": [],
   "source": [
    "def attribute_matchup(dataset, home_id, away_id):\n",
    "    \"\"\"\n",
    "    Computes the matchup features for the home_id and away_id.\n",
    "    \"\"\"\n",
    "    home = dataset[dataset[\"team_api_id\"] == home_id][all_attr_features_agg].to_numpy()\n",
    "    away = dataset[dataset[\"team_api_id\"] == away_id][all_attr_features_agg].to_numpy()\n",
    "    if len(home) == 0 or len(away) == 0:\n",
    "        # Team not present, no matchup possible\n",
    "        return pd.Series([np.nan] * len(all_attr_features_agg), index = all_attr_features_agg)\n",
    "    diff = (home - away)[0]\n",
    "    return pd.Series(diff, index = all_attr_features_agg)"
   ]
  },
  {
   "cell_type": "markdown",
   "metadata": {},
   "source": [
    "Generate team attribute matchups. This cell took around 1 minute"
   ]
  },
  {
   "cell_type": "code",
   "execution_count": 29,
   "metadata": {},
   "outputs": [],
   "source": [
    "attr_data = matches.copy()\n",
    "attr_data[all_attr_features_agg] = attr_data.apply(lambda x: attribute_matchup(aggregated_attributes, x[\"home_team_api_id\"], x[\"away_team_api_id\"]), axis = 1, result_type = \"expand\")"
   ]
  },
  {
   "cell_type": "code",
   "execution_count": 30,
   "metadata": {},
   "outputs": [
    {
     "data": {
      "text/plain": [
       "(1762, 153)"
      ]
     },
     "execution_count": 30,
     "metadata": {},
     "output_type": "execute_result"
    }
   ],
   "source": [
    "attr_data = attr_data.dropna()\n",
    "attr_data.shape"
   ]
  },
  {
   "cell_type": "markdown",
   "metadata": {},
   "source": [
    "Train the model using all features"
   ]
  },
  {
   "cell_type": "code",
   "execution_count": 31,
   "metadata": {},
   "outputs": [
    {
     "name": "stdout",
     "output_type": "stream",
     "text": [
      "rmse = 0.44886363636363635\n",
      "accuracy_score = 0.5511363636363636\n"
     ]
    }
   ],
   "source": [
    "attr_lr = logistic_regression(attr_data, all_attr_features_agg)"
   ]
  },
  {
   "cell_type": "code",
   "execution_count": 32,
   "metadata": {},
   "outputs": [
    {
     "name": "stdout",
     "output_type": "stream",
     "text": [
      "Train Error = 0.36822194199243374\n",
      "Test Error = 0.44886363636363635\n"
     ]
    },
    {
     "data": {
      "text/plain": [
       "(0.36822194199243374, 0.44886363636363635)"
      ]
     },
     "execution_count": 32,
     "metadata": {},
     "output_type": "execute_result"
    }
   ],
   "source": [
    "# Evaluate:\n",
    "train_test_error(attr_lr, all_attr_features_agg)"
   ]
  },
  {
   "cell_type": "markdown",
   "metadata": {},
   "source": [
    "#### Selecting best features\n",
    "\n",
    "We have pretty high test error (44%), which isn't very good. Let's use permutation feature importance to see the most significant team attribute features, and then retrain."
   ]
  },
  {
   "cell_type": "code",
   "execution_count": 33,
   "metadata": {},
   "outputs": [
    {
     "data": {
      "image/png": "[encoded data removed]",
      "text/plain": [
       "<Figure size 432x288 with 1 Axes>"
      ]
     },
     "metadata": {
      "needs_background": "light"
     },
     "output_type": "display_data"
    }
   ],
   "source": [
    "sorted_attr_importances = get_sorted_importances(attr_lr, all_attr_features_agg)\n",
    "plot_sorted_importances(sorted_attr_importances)"
   ]
  },
  {
   "cell_type": "code",
   "execution_count": 52,
   "metadata": {},
   "outputs": [
    {
     "data": {
      "text/plain": [
       "['defenceAggression_mean',\n",
       " 'defencePressure_mean',\n",
       " 'chanceCreationCrossing_mean',\n",
       " 'chanceCreationCrossing_median',\n",
       " 'defenceAggression_min',\n",
       " 'defenceAggression_median',\n",
       " 'chanceCreationPassing_mean',\n",
       " 'chanceCreationPassing_max',\n",
       " 'chanceCreationCrossing_min',\n",
       " 'chanceCreationShooting_mean']"
      ]
     },
     "execution_count": 52,
     "metadata": {},
     "output_type": "execute_result"
    }
   ],
   "source": [
    "top_k_attr_features = helpers.find_top_k_performing_important_features(attr_data, sorted_attr_importances)\n",
    "top_k_attr_features[0]"
   ]
  },
  {
   "cell_type": "code",
   "execution_count": 54,
   "metadata": {},
   "outputs": [
    {
     "data": {
      "image/png": "[encoded data removed]",
      "text/plain": [
       "<Figure size 432x288 with 1 Axes>"
      ]
     },
     "metadata": {
      "needs_background": "light"
     },
     "output_type": "display_data"
    }
   ],
   "source": [
    "train_error, test_error, parameters = top_k_attr_features[1]\n",
    "helpers.plot_errors(train_error, test_error, parameters)"
   ]
  },
  {
   "cell_type": "markdown",
   "metadata": {},
   "source": [
    "Curious to see that the train error steadily decreases with more features, but test error has better performance using the top $k = 10$ features."
   ]
  },
  {
   "cell_type": "code",
   "execution_count": 57,
   "metadata": {},
   "outputs": [
    {
     "name": "stdout",
     "output_type": "stream",
     "text": [
      "Train Error = 0.4136191677175284\n",
      "Test Error = 0.4375\n"
     ]
    },
    {
     "data": {
      "text/plain": [
       "(0.4136191677175284, 0.4375)"
      ]
     },
     "execution_count": 57,
     "metadata": {},
     "output_type": "execute_result"
    }
   ],
   "source": [
    "top_k_attr_lr = logistic_regression(attr_data[top_k_attr_features[0] + [binary_class_label]], top_k_attr_features[0], suppress_print=True)\n",
    "train_test_error(top_k_attr_lr, top_k_attr_features[0])"
   ]
  },
  {
   "cell_type": "markdown",
   "metadata": {},
   "source": [
    "We see a slight drop in test error but increase in train error. For reference, this is what it was before:\n",
    "```\n",
    "Train Error = 0.36822194199243374\n",
    "Test Error = 0.44886363636363635\n",
    "```\n",
    "\n",
    "We can't really get much better unfortunately.\n",
    "\n"
   ]
  },
  {
   "cell_type": "markdown",
   "metadata": {},
   "source": [
    "#### Category experimentation\n",
    "\n",
    "Can we manually pick the most important category and aggregation to improve the accuracy of the model?"
   ]
  },
  {
   "cell_type": "markdown",
   "metadata": {},
   "source": [
    "Train per category"
   ]
  },
  {
   "cell_type": "code",
   "execution_count": 34,
   "metadata": {},
   "outputs": [
    {
     "name": "stdout",
     "output_type": "stream",
     "text": [
      "*** Buildup Play Features ***\n",
      "rmse = 0.42613636363636365\n",
      "accuracy_score = 0.5738636363636364\n",
      "*** Chance Creation Features ***\n",
      "rmse = 0.4090909090909091\n",
      "accuracy_score = 0.5909090909090909\n",
      "*** Defensive Play Features ***\n",
      "rmse = 0.5113636363636364\n",
      "accuracy_score = 0.48863636363636365\n"
     ]
    }
   ],
   "source": [
    "print(\"*** Buildup Play Features ***\")\n",
    "buildup_lr = logistic_regression(attr_data, categories_agg[0])\n",
    "print(\"*** Chance Creation Features ***\")\n",
    "chance_creation_lr = logistic_regression(attr_data, categories_agg[1])\n",
    "print(\"*** Defensive Play Features ***\")\n",
    "defence_lr = logistic_regression(attr_data, categories_agg[2])"
   ]
  },
  {
   "cell_type": "markdown",
   "metadata": {},
   "source": [
    "Investigate best aggregation technique:"
   ]
  },
  {
   "cell_type": "code",
   "execution_count": 35,
   "metadata": {},
   "outputs": [
    {
     "name": "stdout",
     "output_type": "stream",
     "text": [
      "*** mean ***\n",
      "rmse = 0.44886363636363635\n",
      "accuracy_score = 0.5511363636363636\n",
      "*** min ***\n",
      "rmse = 0.4318181818181818\n",
      "accuracy_score = 0.5681818181818182\n",
      "*** max ***\n",
      "rmse = 0.375\n",
      "accuracy_score = 0.625\n",
      "*** median ***\n",
      "rmse = 0.45454545454545453\n",
      "accuracy_score = 0.5454545454545454\n"
     ]
    }
   ],
   "source": [
    "# Train using only mean chance creation\n",
    "lrs = []\n",
    "for aggregation in aggregations:\n",
    "    print(f\"*** {aggregation} ***\")\n",
    "    lrs.append(logistic_regression(attr_data, [f\"{feature}_{aggregation}\" for feature in chance_creation_features]))"
   ]
  },
  {
   "cell_type": "markdown",
   "metadata": {},
   "source": [
    "Max seems to be the best-performing aggregation. Pick the top 2 best performing features and retrain"
   ]
  },
  {
   "cell_type": "code",
   "execution_count": 36,
   "metadata": {},
   "outputs": [
    {
     "name": "stdout",
     "output_type": "stream",
     "text": [
      "rmse = 0.3806818181818182\n",
      "accuracy_score = 0.6193181818181818\n"
     ]
    }
   ],
   "source": [
    "max_cr_features = [f\"{feature}_max\" for feature in chance_creation_features]\n",
    "# By trial and error 1 and 2 are the best\n",
    "max_cr_features_top_two = [max_cr_features[1], max_cr_features[2]]\n",
    "\n",
    "chance_creation_max_lr = logistic_regression(attr_data, max_cr_features_top_two)\n",
    "\n",
    "test = chance_creation_max_lr[\"test_data\"]\n",
    "y_pred = chance_creation_max_lr[\"model\"].predict(test[max_cr_features_top_two])"
   ]
  },
  {
   "cell_type": "markdown",
   "metadata": {},
   "source": [
    "Let's inspect the train and test errors in this prediction:"
   ]
  },
  {
   "cell_type": "code",
   "execution_count": 37,
   "metadata": {},
   "outputs": [
    {
     "name": "stdout",
     "output_type": "stream",
     "text": [
      "Train Error = 0.43631778058007564\n",
      "Test Error = 0.38068181818181823\n"
     ]
    },
    {
     "data": {
      "text/plain": [
       "(0.43631778058007564, 0.38068181818181823)"
      ]
     },
     "execution_count": 37,
     "metadata": {},
     "output_type": "execute_result"
    }
   ],
   "source": [
    "train_test_error(chance_creation_max_lr, max_cr_features_top_two)"
   ]
  },
  {
   "cell_type": "markdown",
   "metadata": {},
   "source": [
    "We have okay test and train error (44%, 38%). So, we are suffering from **underfitting** as error is still somewhat high. To improve underfitting, we introduce new features. To begin, we introduce polynomial features. We are initially using the following two features:"
   ]
  },
  {
   "cell_type": "code",
   "execution_count": 38,
   "metadata": {},
   "outputs": [
    {
     "name": "stdout",
     "output_type": "stream",
     "text": [
      "['chanceCreationCrossing_max', 'chanceCreationShooting_max']\n"
     ]
    }
   ],
   "source": [
    "print(max_cr_features_top_two)"
   ]
  },
  {
   "cell_type": "code",
   "execution_count": 39,
   "metadata": {},
   "outputs": [
    {
     "data": {
      "text/html": [
       "<div>\n",
       "<style scoped>\n",
       "    .dataframe tbody tr th:only-of-type {\n",
       "        vertical-align: middle;\n",
       "    }\n",
       "\n",
       "    .dataframe tbody tr th {\n",
       "        vertical-align: top;\n",
       "    }\n",
       "\n",
       "    .dataframe thead th {\n",
       "        text-align: right;\n",
       "    }\n",
       "</style>\n",
       "<table border=\"1\" class=\"dataframe\">\n",
       "  <thead>\n",
       "    <tr style=\"text-align: right;\">\n",
       "      <th></th>\n",
       "      <th>chanceCreationCrossing_max</th>\n",
       "      <th>chanceCreationShooting_max</th>\n",
       "      <th>home_team_win</th>\n",
       "    </tr>\n",
       "  </thead>\n",
       "  <tbody>\n",
       "    <tr>\n",
       "      <th>3248</th>\n",
       "      <td>-17.0</td>\n",
       "      <td>-7.0</td>\n",
       "      <td>0</td>\n",
       "    </tr>\n",
       "    <tr>\n",
       "      <th>3249</th>\n",
       "      <td>-2.0</td>\n",
       "      <td>-7.0</td>\n",
       "      <td>1</td>\n",
       "    </tr>\n",
       "    <tr>\n",
       "      <th>3250</th>\n",
       "      <td>-6.0</td>\n",
       "      <td>-7.0</td>\n",
       "      <td>1</td>\n",
       "    </tr>\n",
       "    <tr>\n",
       "      <th>3251</th>\n",
       "      <td>0.0</td>\n",
       "      <td>10.0</td>\n",
       "      <td>1</td>\n",
       "    </tr>\n",
       "    <tr>\n",
       "      <th>3252</th>\n",
       "      <td>0.0</td>\n",
       "      <td>-10.0</td>\n",
       "      <td>1</td>\n",
       "    </tr>\n",
       "  </tbody>\n",
       "</table>\n",
       "</div>"
      ],
      "text/plain": [
       "      chanceCreationCrossing_max  chanceCreationShooting_max  home_team_win\n",
       "3248                       -17.0                        -7.0              0\n",
       "3249                        -2.0                        -7.0              1\n",
       "3250                        -6.0                        -7.0              1\n",
       "3251                         0.0                        10.0              1\n",
       "3252                         0.0                       -10.0              1"
      ]
     },
     "execution_count": 39,
     "metadata": {},
     "output_type": "execute_result"
    }
   ],
   "source": [
    "# Select data\n",
    "attr_data_relevant = attr_data[max_cr_features_top_two + [binary_class_label]]\n",
    "attr_data_relevant.head()"
   ]
  },
  {
   "cell_type": "code",
   "execution_count": 40,
   "metadata": {},
   "outputs": [
    {
     "name": "stdout",
     "output_type": "stream",
     "text": [
      "Input data shape = (1762, 2)\n",
      "Output data shape = (1762, 12)\n",
      "10 new features generated of degree up to 5\n"
     ]
    },
    {
     "data": {
      "text/html": [
       "<div>\n",
       "<style scoped>\n",
       "    .dataframe tbody tr th:only-of-type {\n",
       "        vertical-align: middle;\n",
       "    }\n",
       "\n",
       "    .dataframe tbody tr th {\n",
       "        vertical-align: top;\n",
       "    }\n",
       "\n",
       "    .dataframe thead th {\n",
       "        text-align: right;\n",
       "    }\n",
       "</style>\n",
       "<table border=\"1\" class=\"dataframe\">\n",
       "  <thead>\n",
       "    <tr style=\"text-align: right;\">\n",
       "      <th></th>\n",
       "      <th>x_(0)^(0)</th>\n",
       "      <th>x_(1)^(0)</th>\n",
       "      <th>x_(0)^(1)</th>\n",
       "      <th>x_(1)^(1)</th>\n",
       "      <th>x_(0)^(2)</th>\n",
       "      <th>x_(1)^(2)</th>\n",
       "      <th>x_(0)^(3)</th>\n",
       "      <th>x_(1)^(3)</th>\n",
       "      <th>x_(0)^(4)</th>\n",
       "      <th>x_(1)^(4)</th>\n",
       "      <th>x_(0)^(5)</th>\n",
       "      <th>x_(1)^(5)</th>\n",
       "      <th>home_team_win</th>\n",
       "    </tr>\n",
       "  </thead>\n",
       "  <tbody>\n",
       "    <tr>\n",
       "      <th>0</th>\n",
       "      <td>1.0</td>\n",
       "      <td>1.0</td>\n",
       "      <td>-17.0</td>\n",
       "      <td>-7.0</td>\n",
       "      <td>289.0</td>\n",
       "      <td>49.0</td>\n",
       "      <td>-4913.0</td>\n",
       "      <td>-343.0</td>\n",
       "      <td>83521.0</td>\n",
       "      <td>2401.0</td>\n",
       "      <td>-1419857.0</td>\n",
       "      <td>-16807.0</td>\n",
       "      <td>0</td>\n",
       "    </tr>\n",
       "    <tr>\n",
       "      <th>1</th>\n",
       "      <td>1.0</td>\n",
       "      <td>1.0</td>\n",
       "      <td>-2.0</td>\n",
       "      <td>-7.0</td>\n",
       "      <td>4.0</td>\n",
       "      <td>49.0</td>\n",
       "      <td>-8.0</td>\n",
       "      <td>-343.0</td>\n",
       "      <td>16.0</td>\n",
       "      <td>2401.0</td>\n",
       "      <td>-32.0</td>\n",
       "      <td>-16807.0</td>\n",
       "      <td>1</td>\n",
       "    </tr>\n",
       "    <tr>\n",
       "      <th>2</th>\n",
       "      <td>1.0</td>\n",
       "      <td>1.0</td>\n",
       "      <td>-6.0</td>\n",
       "      <td>-7.0</td>\n",
       "      <td>36.0</td>\n",
       "      <td>49.0</td>\n",
       "      <td>-216.0</td>\n",
       "      <td>-343.0</td>\n",
       "      <td>1296.0</td>\n",
       "      <td>2401.0</td>\n",
       "      <td>-7776.0</td>\n",
       "      <td>-16807.0</td>\n",
       "      <td>1</td>\n",
       "    </tr>\n",
       "    <tr>\n",
       "      <th>3</th>\n",
       "      <td>1.0</td>\n",
       "      <td>1.0</td>\n",
       "      <td>0.0</td>\n",
       "      <td>10.0</td>\n",
       "      <td>0.0</td>\n",
       "      <td>100.0</td>\n",
       "      <td>0.0</td>\n",
       "      <td>1000.0</td>\n",
       "      <td>0.0</td>\n",
       "      <td>10000.0</td>\n",
       "      <td>0.0</td>\n",
       "      <td>100000.0</td>\n",
       "      <td>1</td>\n",
       "    </tr>\n",
       "    <tr>\n",
       "      <th>4</th>\n",
       "      <td>1.0</td>\n",
       "      <td>1.0</td>\n",
       "      <td>0.0</td>\n",
       "      <td>-10.0</td>\n",
       "      <td>0.0</td>\n",
       "      <td>100.0</td>\n",
       "      <td>0.0</td>\n",
       "      <td>-1000.0</td>\n",
       "      <td>0.0</td>\n",
       "      <td>10000.0</td>\n",
       "      <td>0.0</td>\n",
       "      <td>-100000.0</td>\n",
       "      <td>1</td>\n",
       "    </tr>\n",
       "  </tbody>\n",
       "</table>\n",
       "</div>"
      ],
      "text/plain": [
       "   x_(0)^(0)  x_(1)^(0)  x_(0)^(1)  x_(1)^(1)  x_(0)^(2)  x_(1)^(2)  \\\n",
       "0        1.0        1.0      -17.0       -7.0      289.0       49.0   \n",
       "1        1.0        1.0       -2.0       -7.0        4.0       49.0   \n",
       "2        1.0        1.0       -6.0       -7.0       36.0       49.0   \n",
       "3        1.0        1.0        0.0       10.0        0.0      100.0   \n",
       "4        1.0        1.0        0.0      -10.0        0.0      100.0   \n",
       "\n",
       "   x_(0)^(3)  x_(1)^(3)  x_(0)^(4)  x_(1)^(4)  x_(0)^(5)  x_(1)^(5)  \\\n",
       "0    -4913.0     -343.0    83521.0     2401.0 -1419857.0   -16807.0   \n",
       "1       -8.0     -343.0       16.0     2401.0      -32.0   -16807.0   \n",
       "2     -216.0     -343.0     1296.0     2401.0    -7776.0   -16807.0   \n",
       "3        0.0     1000.0        0.0    10000.0        0.0   100000.0   \n",
       "4        0.0    -1000.0        0.0    10000.0        0.0  -100000.0   \n",
       "\n",
       "   home_team_win  \n",
       "0              0  \n",
       "1              1  \n",
       "2              1  \n",
       "3              1  \n",
       "4              1  "
      ]
     },
     "execution_count": 40,
     "metadata": {},
     "output_type": "execute_result"
    }
   ],
   "source": [
    "poly_enhance_attr_cr_max = poly_enhance_data(attr_data_relevant, max_cr_features_top_two, degree = 5)\n",
    "poly_attr_cr_max_data = poly_enhance_attr_cr_max[0]\n",
    "poly_feats = poly_enhance_attr_cr_max[1]\n",
    "poly_attr_cr_max_data.head()"
   ]
  },
  {
   "cell_type": "markdown",
   "metadata": {},
   "source": [
    "Train a new LR model using the polynomial features"
   ]
  },
  {
   "cell_type": "code",
   "execution_count": 41,
   "metadata": {},
   "outputs": [
    {
     "name": "stdout",
     "output_type": "stream",
     "text": [
      "rmse = 0.39204545454545453\n",
      "accuracy_score = 0.6079545454545454\n"
     ]
    }
   ],
   "source": [
    "poly_lr = logistic_regression(poly_attr_cr_max_data, poly_feats)"
   ]
  },
  {
   "cell_type": "code",
   "execution_count": 42,
   "metadata": {},
   "outputs": [
    {
     "name": "stdout",
     "output_type": "stream",
     "text": [
      "Train Error = 0.4287515762925599\n",
      "Test Error = 0.3920454545454546\n"
     ]
    },
    {
     "data": {
      "text/plain": [
       "(0.4287515762925599, 0.3920454545454546)"
      ]
     },
     "execution_count": 42,
     "metadata": {},
     "output_type": "execute_result"
    }
   ],
   "source": [
    "train_test_error(poly_lr, poly_feats)"
   ]
  },
  {
   "cell_type": "markdown",
   "metadata": {},
   "source": [
    "Using degree 5, we saw a drop in train error of around 2% but increase in test error by around 1%. "
   ]
  },
  {
   "cell_type": "markdown",
   "metadata": {},
   "source": [
    "## 4. Formation shape\n",
    "Use unsupervised learning to categorize formations into narrow/wide, defensive/attacking, output \"formation width index\" and \"formation aggressiveness index\""
   ]
  },
  {
   "cell_type": "code",
   "execution_count": null,
   "metadata": {},
   "outputs": [],
   "source": []
  }
 ],
 "metadata": {
  "kernelspec": {
   "display_name": "Python 3",
   "language": "python",
   "name": "python3"
  },
  "language_info": {
   "codemirror_mode": {
    "name": "ipython",
    "version": 3
   },
   "file_extension": ".py",
   "mimetype": "text/x-python",
   "name": "python",
   "nbconvert_exporter": "python",
   "pygments_lexer": "ipython3",
   "version": "3.9.0"
  }
 },
 "nbformat": 4,
 "nbformat_minor": 2
}
