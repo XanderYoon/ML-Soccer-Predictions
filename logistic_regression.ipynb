{
 "cells": [
  {
   "cell_type": "markdown",
   "metadata": {},
   "source": [
    "# Logistic Regression\n",
    "*Daniel Öman & Xander Yoon*"
   ]
  },
  {
   "cell_type": "markdown",
   "metadata": {},
   "source": [
    "Import Dependencies"
   ]
  },
  {
   "cell_type": "code",
   "execution_count": 243,
   "metadata": {},
   "outputs": [],
   "source": [
    "import numpy as np\n",
    "import pandas as pd\n",
    "import sqlite3\n",
    "from sklearn.linear_model import LogisticRegression\n",
    "from sklearn.decomposition import PCA\n",
    "from sklearn.metrics import mean_squared_error\n",
    "import matplotlib.pyplot as plt\n"
   ]
  },
  {
   "cell_type": "markdown",
   "metadata": {},
   "source": [
    "Read database"
   ]
  },
  {
   "cell_type": "code",
   "execution_count": 117,
   "metadata": {},
   "outputs": [],
   "source": [
    "path = \"database.sqlite\"\n",
    "connection = sqlite3.connect(path)"
   ]
  },
  {
   "cell_type": "markdown",
   "metadata": {},
   "source": [
    "# Data Cleaning and Feature Engineering"
   ]
  },
  {
   "cell_type": "code",
   "execution_count": 118,
   "metadata": {},
   "outputs": [],
   "source": [
    "# Read Match data\n",
    "matches = pd.read_sql(\"SELECT * FROM Match;\", connection)"
   ]
  },
  {
   "cell_type": "code",
   "execution_count": 119,
   "metadata": {},
   "outputs": [
    {
     "name": "stdout",
     "output_type": "stream",
     "text": [
      "id\n",
      "country_id\n",
      "league_id\n",
      "season\n",
      "stage\n",
      "date\n",
      "match_api_id\n",
      "home_team_api_id\n",
      "away_team_api_id\n",
      "home_team_goal\n",
      "away_team_goal\n",
      "home_player_X1\n",
      "home_player_X2\n",
      "home_player_X3\n",
      "home_player_X4\n",
      "home_player_X5\n",
      "home_player_X6\n",
      "home_player_X7\n",
      "home_player_X8\n",
      "home_player_X9\n",
      "home_player_X10\n",
      "home_player_X11\n",
      "away_player_X1\n",
      "away_player_X2\n",
      "away_player_X3\n",
      "away_player_X4\n",
      "away_player_X5\n",
      "away_player_X6\n",
      "away_player_X7\n",
      "away_player_X8\n",
      "away_player_X9\n",
      "away_player_X10\n",
      "away_player_X11\n",
      "home_player_Y1\n",
      "home_player_Y2\n",
      "home_player_Y3\n",
      "home_player_Y4\n",
      "home_player_Y5\n",
      "home_player_Y6\n",
      "home_player_Y7\n",
      "home_player_Y8\n",
      "home_player_Y9\n",
      "home_player_Y10\n",
      "home_player_Y11\n",
      "away_player_Y1\n",
      "away_player_Y2\n",
      "away_player_Y3\n",
      "away_player_Y4\n",
      "away_player_Y5\n",
      "away_player_Y6\n",
      "away_player_Y7\n",
      "away_player_Y8\n",
      "away_player_Y9\n",
      "away_player_Y10\n",
      "away_player_Y11\n",
      "home_player_1\n",
      "home_player_2\n",
      "home_player_3\n",
      "home_player_4\n",
      "home_player_5\n",
      "home_player_6\n",
      "home_player_7\n",
      "home_player_8\n",
      "home_player_9\n",
      "home_player_10\n",
      "home_player_11\n",
      "away_player_1\n",
      "away_player_2\n",
      "away_player_3\n",
      "away_player_4\n",
      "away_player_5\n",
      "away_player_6\n",
      "away_player_7\n",
      "away_player_8\n",
      "away_player_9\n",
      "away_player_10\n",
      "away_player_11\n",
      "goal\n",
      "shoton\n",
      "shotoff\n",
      "foulcommit\n",
      "card\n",
      "cross\n",
      "corner\n",
      "possession\n",
      "B365H\n",
      "B365D\n",
      "B365A\n",
      "BWH\n",
      "BWD\n",
      "BWA\n",
      "IWH\n",
      "IWD\n",
      "IWA\n",
      "LBH\n",
      "LBD\n",
      "LBA\n",
      "PSH\n",
      "PSD\n",
      "PSA\n",
      "WHH\n",
      "WHD\n",
      "WHA\n",
      "SJH\n",
      "SJD\n",
      "SJA\n",
      "VCH\n",
      "VCD\n",
      "VCA\n",
      "GBH\n",
      "GBD\n",
      "GBA\n",
      "BSH\n",
      "BSD\n",
      "BSA\n"
     ]
    }
   ],
   "source": [
    "for c in matches.columns:\n",
    "    print(c)"
   ]
  },
  {
   "cell_type": "code",
   "execution_count": 120,
   "metadata": {},
   "outputs": [],
   "source": [
    "players = pd.read_sql(\"SELECT * FROM Player;\", connection)"
   ]
  },
  {
   "cell_type": "markdown",
   "metadata": {},
   "source": [
    "How to get a player in a matches starting lineup"
   ]
  },
  {
   "cell_type": "code",
   "execution_count": 121,
   "metadata": {},
   "outputs": [
    {
     "data": {
      "text/html": [
       "<div>\n",
       "<style scoped>\n",
       "    .dataframe tbody tr th:only-of-type {\n",
       "        vertical-align: middle;\n",
       "    }\n",
       "\n",
       "    .dataframe tbody tr th {\n",
       "        vertical-align: top;\n",
       "    }\n",
       "\n",
       "    .dataframe thead th {\n",
       "        text-align: right;\n",
       "    }\n",
       "</style>\n",
       "<table border=\"1\" class=\"dataframe\">\n",
       "  <thead>\n",
       "    <tr style=\"text-align: right;\">\n",
       "      <th></th>\n",
       "      <th>id</th>\n",
       "      <th>player_api_id</th>\n",
       "      <th>player_name</th>\n",
       "      <th>player_fifa_api_id</th>\n",
       "      <th>birthday</th>\n",
       "      <th>height</th>\n",
       "      <th>weight</th>\n",
       "    </tr>\n",
       "  </thead>\n",
       "  <tbody>\n",
       "    <tr>\n",
       "      <th>1771</th>\n",
       "      <td>1774</td>\n",
       "      <td>92252</td>\n",
       "      <td>Christian Schneuwly</td>\n",
       "      <td>184285</td>\n",
       "      <td>1988-02-07 00:00:00</td>\n",
       "      <td>177.8</td>\n",
       "      <td>161</td>\n",
       "    </tr>\n",
       "  </tbody>\n",
       "</table>\n",
       "</div>"
      ],
      "text/plain": [
       "        id  player_api_id          player_name  player_fifa_api_id  \\\n",
       "1771  1774          92252  Christian Schneuwly              184285   \n",
       "\n",
       "                 birthday  height  weight  \n",
       "1771  1988-02-07 00:00:00   177.8     161  "
      ]
     },
     "execution_count": 121,
     "metadata": {},
     "output_type": "execute_result"
    }
   ],
   "source": [
    "players[players[\"player_api_id\"] == matches[\"away_player_10\"][25977]]"
   ]
  },
  {
   "cell_type": "code",
   "execution_count": 122,
   "metadata": {},
   "outputs": [],
   "source": [
    "teams = pd.read_sql(\"SELECT * FROM Team_Attributes;\", connection)"
   ]
  },
  {
   "cell_type": "code",
   "execution_count": 123,
   "metadata": {},
   "outputs": [
    {
     "name": "stdout",
     "output_type": "stream",
     "text": [
      "id\n",
      "team_fifa_api_id\n",
      "team_api_id\n",
      "date\n",
      "buildUpPlaySpeed\n",
      "buildUpPlaySpeedClass\n",
      "buildUpPlayDribbling\n",
      "buildUpPlayDribblingClass\n",
      "buildUpPlayPassing\n",
      "buildUpPlayPassingClass\n",
      "buildUpPlayPositioningClass\n",
      "chanceCreationPassing\n",
      "chanceCreationPassingClass\n",
      "chanceCreationCrossing\n",
      "chanceCreationCrossingClass\n",
      "chanceCreationShooting\n",
      "chanceCreationShootingClass\n",
      "chanceCreationPositioningClass\n",
      "defencePressure\n",
      "defencePressureClass\n",
      "defenceAggression\n",
      "defenceAggressionClass\n",
      "defenceTeamWidth\n",
      "defenceTeamWidthClass\n",
      "defenceDefenderLineClass\n"
     ]
    }
   ],
   "source": [
    "for c in teams.columns:\n",
    "    print(c)"
   ]
  },
  {
   "cell_type": "markdown",
   "metadata": {},
   "source": [
    "### Dataset preprocessing\n",
    "For the binary classification problem, we will use \"home team win\" as the positive label and \"home team draw/loss\" as the negative label. We can extend this to three labels for a multi-class classification problem. Let's introduce this label to our dataset:"
   ]
  },
  {
   "cell_type": "code",
   "execution_count": 146,
   "metadata": {},
   "outputs": [],
   "source": [
    "binary_class_label = \"home_team_win\""
   ]
  },
  {
   "cell_type": "code",
   "execution_count": 147,
   "metadata": {},
   "outputs": [],
   "source": [
    "matches[binary_class_label] = np.where(matches[\"home_team_goal\"] - matches[\"away_team_goal\"] > 0, 1, 0)"
   ]
  },
  {
   "cell_type": "code",
   "execution_count": 148,
   "metadata": {},
   "outputs": [
    {
     "name": "stdout",
     "output_type": "stream",
     "text": [
      "Percentage of home wins: 45.87%\n"
     ]
    }
   ],
   "source": [
    "# % of home wins in the dataset\n",
    "num_home_wins = np.count_nonzero(matches[\"home_team_win\"] == 1)\n",
    "print(f\"Percentage of home wins: {round(num_home_wins / matches.shape[0] * 100, 2)}%\")"
   ]
  },
  {
   "cell_type": "markdown",
   "metadata": {},
   "source": [
    "### Helper functions"
   ]
  },
  {
   "cell_type": "code",
   "execution_count": 226,
   "metadata": {},
   "outputs": [],
   "source": [
    "def train_test(table, test_size = 0.1):\n",
    "    \"\"\"\n",
    "    Returns (train, test) of matches with a default 10% split\n",
    "    \"\"\"\n",
    "    test = table.sample(frac = test_size, random_state = 200)\n",
    "    train = table.drop(test.index)\n",
    "    return train, test"
   ]
  },
  {
   "cell_type": "markdown",
   "metadata": {},
   "source": [
    "# Model Training\n",
    "1. Betting Odds\n",
    "2. Team Match History\n",
    "3. FIFA Attributes\n",
    "4. Shape of formation"
   ]
  },
  {
   "cell_type": "markdown",
   "metadata": {},
   "source": [
    "## 1. Betting Odds\n",
    "\n",
    "We will use a logistic regression model trained on betting odds to predict match outcomes of a test dataset."
   ]
  },
  {
   "cell_type": "code",
   "execution_count": 227,
   "metadata": {},
   "outputs": [],
   "source": [
    "odds_columns = ['B365H', 'B365D', 'B365A', 'BWH', 'BWD', 'BWA', 'IWH', 'IWD', 'IWA', 'LBH', 'LBD', 'LBA', 'PSH', 'PSD', 'PSA', 'WHH', 'WHD', 'WHA', 'SJH', 'SJD', 'SJA', 'VCH', 'VCD', 'VCA', 'GBH', 'GBD', 'GBA', 'BSH', 'BSD', 'BSA']"
   ]
  },
  {
   "cell_type": "code",
   "execution_count": 228,
   "metadata": {},
   "outputs": [],
   "source": [
    "# Clean Data\n",
    "odds_data = matches[odds_columns + [binary_class_label]].dropna()"
   ]
  },
  {
   "cell_type": "code",
   "execution_count": 235,
   "metadata": {},
   "outputs": [
    {
     "data": {
      "text/html": [
       "<style>#sk-container-id-9 {color: black;}#sk-container-id-9 pre{padding: 0;}#sk-container-id-9 div.sk-toggleable {background-color: white;}#sk-container-id-9 label.sk-toggleable__label {cursor: pointer;display: block;width: 100%;margin-bottom: 0;padding: 0.3em;box-sizing: border-box;text-align: center;}#sk-container-id-9 label.sk-toggleable__label-arrow:before {content: \"▸\";float: left;margin-right: 0.25em;color: #696969;}#sk-container-id-9 label.sk-toggleable__label-arrow:hover:before {color: black;}#sk-container-id-9 div.sk-estimator:hover label.sk-toggleable__label-arrow:before {color: black;}#sk-container-id-9 div.sk-toggleable__content {max-height: 0;max-width: 0;overflow: hidden;text-align: left;background-color: #f0f8ff;}#sk-container-id-9 div.sk-toggleable__content pre {margin: 0.2em;color: black;border-radius: 0.25em;background-color: #f0f8ff;}#sk-container-id-9 input.sk-toggleable__control:checked~div.sk-toggleable__content {max-height: 200px;max-width: 100%;overflow: auto;}#sk-container-id-9 input.sk-toggleable__control:checked~label.sk-toggleable__label-arrow:before {content: \"▾\";}#sk-container-id-9 div.sk-estimator input.sk-toggleable__control:checked~label.sk-toggleable__label {background-color: #d4ebff;}#sk-container-id-9 div.sk-label input.sk-toggleable__control:checked~label.sk-toggleable__label {background-color: #d4ebff;}#sk-container-id-9 input.sk-hidden--visually {border: 0;clip: rect(1px 1px 1px 1px);clip: rect(1px, 1px, 1px, 1px);height: 1px;margin: -1px;overflow: hidden;padding: 0;position: absolute;width: 1px;}#sk-container-id-9 div.sk-estimator {font-family: monospace;background-color: #f0f8ff;border: 1px dotted black;border-radius: 0.25em;box-sizing: border-box;margin-bottom: 0.5em;}#sk-container-id-9 div.sk-estimator:hover {background-color: #d4ebff;}#sk-container-id-9 div.sk-parallel-item::after {content: \"\";width: 100%;border-bottom: 1px solid gray;flex-grow: 1;}#sk-container-id-9 div.sk-label:hover label.sk-toggleable__label {background-color: #d4ebff;}#sk-container-id-9 div.sk-serial::before {content: \"\";position: absolute;border-left: 1px solid gray;box-sizing: border-box;top: 0;bottom: 0;left: 50%;z-index: 0;}#sk-container-id-9 div.sk-serial {display: flex;flex-direction: column;align-items: center;background-color: white;padding-right: 0.2em;padding-left: 0.2em;position: relative;}#sk-container-id-9 div.sk-item {position: relative;z-index: 1;}#sk-container-id-9 div.sk-parallel {display: flex;align-items: stretch;justify-content: center;background-color: white;position: relative;}#sk-container-id-9 div.sk-item::before, #sk-container-id-9 div.sk-parallel-item::before {content: \"\";position: absolute;border-left: 1px solid gray;box-sizing: border-box;top: 0;bottom: 0;left: 50%;z-index: -1;}#sk-container-id-9 div.sk-parallel-item {display: flex;flex-direction: column;z-index: 1;position: relative;background-color: white;}#sk-container-id-9 div.sk-parallel-item:first-child::after {align-self: flex-end;width: 50%;}#sk-container-id-9 div.sk-parallel-item:last-child::after {align-self: flex-start;width: 50%;}#sk-container-id-9 div.sk-parallel-item:only-child::after {width: 0;}#sk-container-id-9 div.sk-dashed-wrapped {border: 1px dashed gray;margin: 0 0.4em 0.5em 0.4em;box-sizing: border-box;padding-bottom: 0.4em;background-color: white;}#sk-container-id-9 div.sk-label label {font-family: monospace;font-weight: bold;display: inline-block;line-height: 1.2em;}#sk-container-id-9 div.sk-label-container {text-align: center;}#sk-container-id-9 div.sk-container {/* jupyter's `normalize.less` sets `[hidden] { display: none; }` but bootstrap.min.css set `[hidden] { display: none !important; }` so we also need the `!important` here to be able to override the default hidden behavior on the sphinx rendered scikit-learn.org. See: https://github.com/scikit-learn/scikit-learn/issues/21755 */display: inline-block !important;position: relative;}#sk-container-id-9 div.sk-text-repr-fallback {display: none;}</style><div id=\"sk-container-id-9\" class=\"sk-top-container\"><div class=\"sk-text-repr-fallback\"><pre>LogisticRegression(solver=&#x27;newton-cholesky&#x27;)</pre><b>In a Jupyter environment, please rerun this cell to show the HTML representation or trust the notebook. <br />On GitHub, the HTML representation is unable to render, please try loading this page with nbviewer.org.</b></div><div class=\"sk-container\" hidden><div class=\"sk-item\"><div class=\"sk-estimator sk-toggleable\"><input class=\"sk-toggleable__control sk-hidden--visually\" id=\"sk-estimator-id-9\" type=\"checkbox\" checked><label for=\"sk-estimator-id-9\" class=\"sk-toggleable__label sk-toggleable__label-arrow\">LogisticRegression</label><div class=\"sk-toggleable__content\"><pre>LogisticRegression(solver=&#x27;newton-cholesky&#x27;)</pre></div></div></div></div></div>"
      ],
      "text/plain": [
       "LogisticRegression(solver='newton-cholesky')"
      ]
     },
     "execution_count": 235,
     "metadata": {},
     "output_type": "execute_result"
    }
   ],
   "source": [
    "# Train model with 10% data split\n",
    "odds_train, odds_test = train_test(odds_data)\n",
    "odds_lr = LogisticRegression(solver=\"newton-cholesky\")\n",
    "odds_lr.fit(odds_train[odds_columns], odds_train[binary_class_label])"
   ]
  },
  {
   "cell_type": "code",
   "execution_count": 236,
   "metadata": {},
   "outputs": [
    {
     "data": {
      "text/plain": [
       "0.30434782608695654"
      ]
     },
     "execution_count": 236,
     "metadata": {},
     "output_type": "execute_result"
    }
   ],
   "source": [
    "# Evaluate using RMSE\n",
    "odds_predict = odds_lr.predict(odds_test[odds_columns])\n",
    "mean_squared_error(odds_test[binary_class_label], odds_predict)"
   ]
  },
  {
   "cell_type": "markdown",
   "metadata": {},
   "source": [
    "QUESTION: What is the best test/train ratio? Let's investigate this using the odds data"
   ]
  },
  {
   "cell_type": "code",
   "execution_count": 237,
   "metadata": {},
   "outputs": [],
   "source": [
    "def test_split_rmse(data, test_size, features):\n",
    "    \"\"\"\n",
    "    Returns RMSE of training and testing odds data using the test_size split\n",
    "    \"\"\"\n",
    "    train, test = train_test(data, test_size)\n",
    "    lr = LogisticRegression(solver=\"newton-cholesky\")\n",
    "    lr.fit(train[features], train[binary_class_label])\n",
    "    pred = lr.predict(test[features])\n",
    "    return mean_squared_error(test[binary_class_label], pred)"
   ]
  },
  {
   "cell_type": "code",
   "execution_count": 242,
   "metadata": {},
   "outputs": [
    {
     "name": "stdout",
     "output_type": "stream",
     "text": [
      "TEST SIZE = 10% : RMSE = 0.3043\n",
      "TEST SIZE = 11% : RMSE = 0.3102\n",
      "TEST SIZE = 12% : RMSE = 0.2991\n",
      "TEST SIZE = 13% : RMSE = 0.3101\n",
      "TEST SIZE = 14% : RMSE = 0.3212\n",
      "TEST SIZE = 15% : RMSE = 0.3269\n",
      "TEST SIZE = 16% : RMSE = 0.3288\n",
      "TEST SIZE = 17% : RMSE = 0.3369\n",
      "TEST SIZE = 18% : RMSE = 0.3327\n",
      "TEST SIZE = 19% : RMSE = 0.3282\n",
      "TEST SIZE = 20% : RMSE = 0.3303\n",
      "TEST SIZE = 21% : RMSE = 0.3212\n",
      "TEST SIZE = 22% : RMSE = 0.3234\n",
      "TEST SIZE = 23% : RMSE = 0.3186\n",
      "TEST SIZE = 24% : RMSE = 0.3192\n",
      "TEST SIZE = 25% : RMSE = 0.328\n",
      "TEST SIZE = 26% : RMSE = 0.325\n",
      "TEST SIZE = 27% : RMSE = 0.3306\n",
      "TEST SIZE = 28% : RMSE = 0.3342\n",
      "TEST SIZE = 29% : RMSE = 0.3417\n",
      "TEST SIZE = 30% : RMSE = 0.3422\n",
      "TEST SIZE = 31% : RMSE = 0.3407\n",
      "TEST SIZE = 32% : RMSE = 0.3424\n",
      "TEST SIZE = 33% : RMSE = 0.3454\n",
      "TEST SIZE = 34% : RMSE = 0.3479\n",
      "TEST SIZE = 35% : RMSE = 0.3534\n",
      "TEST SIZE = 36% : RMSE = 0.3478\n",
      "TEST SIZE = 37% : RMSE = 0.3471\n",
      "TEST SIZE = 38% : RMSE = 0.3457\n",
      "TEST SIZE = 39% : RMSE = 0.3423\n",
      "TEST SIZE = 40% : RMSE = 0.3412\n",
      "TEST SIZE = 41% : RMSE = 0.3425\n",
      "TEST SIZE = 42% : RMSE = 0.3463\n",
      "TEST SIZE = 43% : RMSE = 0.3409\n",
      "TEST SIZE = 44% : RMSE = 0.3446\n",
      "TEST SIZE = 45% : RMSE = 0.3492\n",
      "TEST SIZE = 46% : RMSE = 0.3478\n",
      "TEST SIZE = 47% : RMSE = 0.349\n",
      "TEST SIZE = 48% : RMSE = 0.3507\n",
      "TEST SIZE = 49% : RMSE = 0.3548\n"
     ]
    }
   ],
   "source": [
    "for i in range(10, 50):\n",
    "    test_size = i / 100\n",
    "    rmse = test_split_rmse(odds_data, test_size, odds_columns)\n",
    "    print(f\"TEST SIZE = {round(test_size * 100)}% : RMSE = {round(rmse, 4)}\")"
   ]
  },
  {
   "cell_type": "markdown",
   "metadata": {},
   "source": [
    "## 2. Team Match History"
   ]
  },
  {
   "cell_type": "markdown",
   "metadata": {},
   "source": [
    "## 3. FIFA Attributes"
   ]
  },
  {
   "cell_type": "markdown",
   "metadata": {},
   "source": [
    "## 4. Formation shape\n",
    "Use unsupervised learning to categorize formations into narrow/wide, defensive/attacking, output \"formation width index\" and \"formation aggressiveness index\""
   ]
  },
  {
   "cell_type": "markdown",
   "metadata": {},
   "source": []
  }
 ],
 "metadata": {
  "kernelspec": {
   "display_name": "Python 3",
   "language": "python",
   "name": "python3"
  },
  "language_info": {
   "codemirror_mode": {
    "name": "ipython",
    "version": 3
   },
   "file_extension": ".py",
   "mimetype": "text/x-python",
   "name": "python",
   "nbconvert_exporter": "python",
   "pygments_lexer": "ipython3",
   "version": "3.9.0"
  }
 },
 "nbformat": 4,
 "nbformat_minor": 2
}
