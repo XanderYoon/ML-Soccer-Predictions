{
 "cells": [
  {
   "cell_type": "markdown",
   "metadata": {},
   "source": [
    "# Logistic Regression\n",
    "*Daniel Öman & Xander Yoon*"
   ]
  },
  {
   "cell_type": "markdown",
   "metadata": {},
   "source": [
    "Import Dependencies"
   ]
  },
  {
   "cell_type": "code",
   "execution_count": 2,
   "metadata": {},
   "outputs": [],
   "source": [
    "%load_ext autoreload\n",
    "%autoreload 2\n",
    "%matplotlib inline\n",
    "\n",
    "import numpy as np\n",
    "import pandas as pd\n",
    "import sqlite3\n",
    "from sklearn.linear_model import LogisticRegression\n",
    "from sklearn.decomposition import PCA\n",
    "from sklearn.metrics import mean_squared_error, accuracy_score\n",
    "import matplotlib.pyplot as plt\n",
    "from mpl_toolkits.mplot3d import Axes3D\n",
    "from sklearn.preprocessing import StandardScaler\n",
    "import warnings\n",
    "import seaborn as sns\n",
    "from sklearn.inspection import permutation_importance\n",
    "from helpers import train_test, evaluate, logistic_regression, polynomial_features, poly_enhance_data, train_test_error, plot_errors, get_sorted_importances, plot_sorted_importances\n",
    "import helpers\n",
    "import plotly.express as px"
   ]
  },
  {
   "cell_type": "markdown",
   "metadata": {},
   "source": [
    "Read database"
   ]
  },
  {
   "cell_type": "code",
   "execution_count": 3,
   "metadata": {},
   "outputs": [],
   "source": [
    "path = \"database.sqlite\"\n",
    "connection = sqlite3.connect(path)"
   ]
  },
  {
   "cell_type": "markdown",
   "metadata": {},
   "source": [
    "# Data Cleaning and Feature Engineering"
   ]
  },
  {
   "cell_type": "code",
   "execution_count": 4,
   "metadata": {},
   "outputs": [],
   "source": [
    "# Read Match data\n",
    "matches = pd.read_sql(\"SELECT * FROM Match;\", connection)"
   ]
  },
  {
   "cell_type": "code",
   "execution_count": 5,
   "metadata": {},
   "outputs": [
    {
     "data": {
      "text/html": [
       "<div>\n",
       "<style scoped>\n",
       "    .dataframe tbody tr th:only-of-type {\n",
       "        vertical-align: middle;\n",
       "    }\n",
       "\n",
       "    .dataframe tbody tr th {\n",
       "        vertical-align: top;\n",
       "    }\n",
       "\n",
       "    .dataframe thead th {\n",
       "        text-align: right;\n",
       "    }\n",
       "</style>\n",
       "<table border=\"1\" class=\"dataframe\">\n",
       "  <thead>\n",
       "    <tr style=\"text-align: right;\">\n",
       "      <th></th>\n",
       "      <th>id</th>\n",
       "      <th>country_id</th>\n",
       "      <th>league_id</th>\n",
       "      <th>season</th>\n",
       "      <th>stage</th>\n",
       "      <th>date</th>\n",
       "      <th>match_api_id</th>\n",
       "      <th>home_team_api_id</th>\n",
       "      <th>away_team_api_id</th>\n",
       "      <th>home_team_goal</th>\n",
       "      <th>...</th>\n",
       "      <th>SJA</th>\n",
       "      <th>VCH</th>\n",
       "      <th>VCD</th>\n",
       "      <th>VCA</th>\n",
       "      <th>GBH</th>\n",
       "      <th>GBD</th>\n",
       "      <th>GBA</th>\n",
       "      <th>BSH</th>\n",
       "      <th>BSD</th>\n",
       "      <th>BSA</th>\n",
       "    </tr>\n",
       "  </thead>\n",
       "  <tbody>\n",
       "    <tr>\n",
       "      <th>0</th>\n",
       "      <td>1</td>\n",
       "      <td>1</td>\n",
       "      <td>1</td>\n",
       "      <td>2008/2009</td>\n",
       "      <td>1</td>\n",
       "      <td>2008-08-17 00:00:00</td>\n",
       "      <td>492473</td>\n",
       "      <td>9987</td>\n",
       "      <td>9993</td>\n",
       "      <td>1</td>\n",
       "      <td>...</td>\n",
       "      <td>4.00</td>\n",
       "      <td>1.65</td>\n",
       "      <td>3.40</td>\n",
       "      <td>4.50</td>\n",
       "      <td>1.78</td>\n",
       "      <td>3.25</td>\n",
       "      <td>4.00</td>\n",
       "      <td>1.73</td>\n",
       "      <td>3.40</td>\n",
       "      <td>4.20</td>\n",
       "    </tr>\n",
       "    <tr>\n",
       "      <th>1</th>\n",
       "      <td>2</td>\n",
       "      <td>1</td>\n",
       "      <td>1</td>\n",
       "      <td>2008/2009</td>\n",
       "      <td>1</td>\n",
       "      <td>2008-08-16 00:00:00</td>\n",
       "      <td>492474</td>\n",
       "      <td>10000</td>\n",
       "      <td>9994</td>\n",
       "      <td>0</td>\n",
       "      <td>...</td>\n",
       "      <td>3.80</td>\n",
       "      <td>2.00</td>\n",
       "      <td>3.25</td>\n",
       "      <td>3.25</td>\n",
       "      <td>1.85</td>\n",
       "      <td>3.25</td>\n",
       "      <td>3.75</td>\n",
       "      <td>1.91</td>\n",
       "      <td>3.25</td>\n",
       "      <td>3.60</td>\n",
       "    </tr>\n",
       "    <tr>\n",
       "      <th>2</th>\n",
       "      <td>3</td>\n",
       "      <td>1</td>\n",
       "      <td>1</td>\n",
       "      <td>2008/2009</td>\n",
       "      <td>1</td>\n",
       "      <td>2008-08-16 00:00:00</td>\n",
       "      <td>492475</td>\n",
       "      <td>9984</td>\n",
       "      <td>8635</td>\n",
       "      <td>0</td>\n",
       "      <td>...</td>\n",
       "      <td>2.50</td>\n",
       "      <td>2.35</td>\n",
       "      <td>3.25</td>\n",
       "      <td>2.65</td>\n",
       "      <td>2.50</td>\n",
       "      <td>3.20</td>\n",
       "      <td>2.50</td>\n",
       "      <td>2.30</td>\n",
       "      <td>3.20</td>\n",
       "      <td>2.75</td>\n",
       "    </tr>\n",
       "    <tr>\n",
       "      <th>3</th>\n",
       "      <td>4</td>\n",
       "      <td>1</td>\n",
       "      <td>1</td>\n",
       "      <td>2008/2009</td>\n",
       "      <td>1</td>\n",
       "      <td>2008-08-17 00:00:00</td>\n",
       "      <td>492476</td>\n",
       "      <td>9991</td>\n",
       "      <td>9998</td>\n",
       "      <td>5</td>\n",
       "      <td>...</td>\n",
       "      <td>7.50</td>\n",
       "      <td>1.45</td>\n",
       "      <td>3.75</td>\n",
       "      <td>6.50</td>\n",
       "      <td>1.50</td>\n",
       "      <td>3.75</td>\n",
       "      <td>5.50</td>\n",
       "      <td>1.44</td>\n",
       "      <td>3.75</td>\n",
       "      <td>6.50</td>\n",
       "    </tr>\n",
       "    <tr>\n",
       "      <th>4</th>\n",
       "      <td>5</td>\n",
       "      <td>1</td>\n",
       "      <td>1</td>\n",
       "      <td>2008/2009</td>\n",
       "      <td>1</td>\n",
       "      <td>2008-08-16 00:00:00</td>\n",
       "      <td>492477</td>\n",
       "      <td>7947</td>\n",
       "      <td>9985</td>\n",
       "      <td>1</td>\n",
       "      <td>...</td>\n",
       "      <td>1.73</td>\n",
       "      <td>4.50</td>\n",
       "      <td>3.40</td>\n",
       "      <td>1.65</td>\n",
       "      <td>4.50</td>\n",
       "      <td>3.50</td>\n",
       "      <td>1.65</td>\n",
       "      <td>4.75</td>\n",
       "      <td>3.30</td>\n",
       "      <td>1.67</td>\n",
       "    </tr>\n",
       "  </tbody>\n",
       "</table>\n",
       "<p>5 rows × 115 columns</p>\n",
       "</div>"
      ],
      "text/plain": [
       "   id  country_id  league_id     season  stage                 date  \\\n",
       "0   1           1          1  2008/2009      1  2008-08-17 00:00:00   \n",
       "1   2           1          1  2008/2009      1  2008-08-16 00:00:00   \n",
       "2   3           1          1  2008/2009      1  2008-08-16 00:00:00   \n",
       "3   4           1          1  2008/2009      1  2008-08-17 00:00:00   \n",
       "4   5           1          1  2008/2009      1  2008-08-16 00:00:00   \n",
       "\n",
       "   match_api_id  home_team_api_id  away_team_api_id  home_team_goal  ...  \\\n",
       "0        492473              9987              9993               1  ...   \n",
       "1        492474             10000              9994               0  ...   \n",
       "2        492475              9984              8635               0  ...   \n",
       "3        492476              9991              9998               5  ...   \n",
       "4        492477              7947              9985               1  ...   \n",
       "\n",
       "    SJA   VCH   VCD   VCA   GBH   GBD   GBA   BSH   BSD   BSA  \n",
       "0  4.00  1.65  3.40  4.50  1.78  3.25  4.00  1.73  3.40  4.20  \n",
       "1  3.80  2.00  3.25  3.25  1.85  3.25  3.75  1.91  3.25  3.60  \n",
       "2  2.50  2.35  3.25  2.65  2.50  3.20  2.50  2.30  3.20  2.75  \n",
       "3  7.50  1.45  3.75  6.50  1.50  3.75  5.50  1.44  3.75  6.50  \n",
       "4  1.73  4.50  3.40  1.65  4.50  3.50  1.65  4.75  3.30  1.67  \n",
       "\n",
       "[5 rows x 115 columns]"
      ]
     },
     "execution_count": 5,
     "metadata": {},
     "output_type": "execute_result"
    }
   ],
   "source": [
    "matches.head()"
   ]
  },
  {
   "cell_type": "code",
   "execution_count": 6,
   "metadata": {},
   "outputs": [
    {
     "data": {
      "text/plain": [
       "(25979, 115)"
      ]
     },
     "execution_count": 6,
     "metadata": {},
     "output_type": "execute_result"
    }
   ],
   "source": [
    "matches.shape"
   ]
  },
  {
   "cell_type": "code",
   "execution_count": 7,
   "metadata": {},
   "outputs": [],
   "source": [
    "players = pd.read_sql(\"SELECT * FROM Player;\", connection)"
   ]
  },
  {
   "cell_type": "markdown",
   "metadata": {},
   "source": [
    "How to get a player in a matches starting lineup"
   ]
  },
  {
   "cell_type": "code",
   "execution_count": 8,
   "metadata": {},
   "outputs": [
    {
     "data": {
      "text/html": [
       "<div>\n",
       "<style scoped>\n",
       "    .dataframe tbody tr th:only-of-type {\n",
       "        vertical-align: middle;\n",
       "    }\n",
       "\n",
       "    .dataframe tbody tr th {\n",
       "        vertical-align: top;\n",
       "    }\n",
       "\n",
       "    .dataframe thead th {\n",
       "        text-align: right;\n",
       "    }\n",
       "</style>\n",
       "<table border=\"1\" class=\"dataframe\">\n",
       "  <thead>\n",
       "    <tr style=\"text-align: right;\">\n",
       "      <th></th>\n",
       "      <th>id</th>\n",
       "      <th>player_api_id</th>\n",
       "      <th>player_name</th>\n",
       "      <th>player_fifa_api_id</th>\n",
       "      <th>birthday</th>\n",
       "      <th>height</th>\n",
       "      <th>weight</th>\n",
       "    </tr>\n",
       "  </thead>\n",
       "  <tbody>\n",
       "    <tr>\n",
       "      <th>1771</th>\n",
       "      <td>1774</td>\n",
       "      <td>92252</td>\n",
       "      <td>Christian Schneuwly</td>\n",
       "      <td>184285</td>\n",
       "      <td>1988-02-07 00:00:00</td>\n",
       "      <td>177.8</td>\n",
       "      <td>161</td>\n",
       "    </tr>\n",
       "  </tbody>\n",
       "</table>\n",
       "</div>"
      ],
      "text/plain": [
       "        id  player_api_id          player_name  player_fifa_api_id  \\\n",
       "1771  1774          92252  Christian Schneuwly              184285   \n",
       "\n",
       "                 birthday  height  weight  \n",
       "1771  1988-02-07 00:00:00   177.8     161  "
      ]
     },
     "execution_count": 8,
     "metadata": {},
     "output_type": "execute_result"
    }
   ],
   "source": [
    "players[players[\"player_api_id\"] == matches[\"away_player_10\"][25977]]"
   ]
  },
  {
   "cell_type": "code",
   "execution_count": 9,
   "metadata": {},
   "outputs": [],
   "source": [
    "teams = pd.read_sql(\"SELECT * FROM Team_Attributes;\", connection)"
   ]
  },
  {
   "cell_type": "code",
   "execution_count": 10,
   "metadata": {},
   "outputs": [
    {
     "name": "stdout",
     "output_type": "stream",
     "text": [
      "id\n",
      "team_fifa_api_id\n",
      "team_api_id\n",
      "date\n",
      "buildUpPlaySpeed\n",
      "buildUpPlaySpeedClass\n",
      "buildUpPlayDribbling\n",
      "buildUpPlayDribblingClass\n",
      "buildUpPlayPassing\n",
      "buildUpPlayPassingClass\n",
      "buildUpPlayPositioningClass\n",
      "chanceCreationPassing\n",
      "chanceCreationPassingClass\n",
      "chanceCreationCrossing\n",
      "chanceCreationCrossingClass\n",
      "chanceCreationShooting\n",
      "chanceCreationShootingClass\n",
      "chanceCreationPositioningClass\n",
      "defencePressure\n",
      "defencePressureClass\n",
      "defenceAggression\n",
      "defenceAggressionClass\n",
      "defenceTeamWidth\n",
      "defenceTeamWidthClass\n",
      "defenceDefenderLineClass\n"
     ]
    }
   ],
   "source": [
    "for c in teams.columns:\n",
    "    print(c)"
   ]
  },
  {
   "cell_type": "markdown",
   "metadata": {},
   "source": [
    "### Dataset preprocessing\n",
    "For the binary classification problem, we will use \"home team win\" as the positive label and \"home team draw/loss\" as the negative label. We can extend this to three labels for a multi-class classification problem. Let's introduce this label to our dataset:"
   ]
  },
  {
   "cell_type": "code",
   "execution_count": 11,
   "metadata": {},
   "outputs": [],
   "source": [
    "binary_class_label = helpers.binary_class_label\n",
    "binary_class_label_complement = helpers.binary_class_label_complement"
   ]
  },
  {
   "cell_type": "code",
   "execution_count": 12,
   "metadata": {},
   "outputs": [],
   "source": [
    "matches[binary_class_label] = np.where(matches[\"home_team_goal\"] - matches[\"away_team_goal\"] > 0, 1, 0)\n",
    "matches[binary_class_label_complement] = np.where(matches[\"home_team_win\"] == 0, 1, 0)"
   ]
  },
  {
   "cell_type": "code",
   "execution_count": 13,
   "metadata": {},
   "outputs": [
    {
     "name": "stdout",
     "output_type": "stream",
     "text": [
      "Percentage of home wins: 45.87%\n"
     ]
    }
   ],
   "source": [
    "# % of home wins in the dataset\n",
    "num_home_wins = np.count_nonzero(matches[\"home_team_win\"] == 1)\n",
    "print(f\"Percentage of home wins: {round(num_home_wins / matches.shape[0] * 100, 2)}%\")"
   ]
  },
  {
   "cell_type": "markdown",
   "metadata": {},
   "source": [
    "### Helper functions"
   ]
  },
  {
   "cell_type": "markdown",
   "metadata": {},
   "source": [
    "#\n",
    " Model Training\n",
    "1. Betting Odds\n",
    "2. Team Match History\n",
    "3. FIFA Attributes\n",
    "4. Shape of formation"
   ]
  },
  {
   "cell_type": "markdown",
   "metadata": {},
   "source": [
    "## 1. Betting Odds\n",
    "\n",
    "We will use a logistic regression model trained on betting odds to predict match outcomes of a test dataset."
   ]
  },
  {
   "cell_type": "code",
   "execution_count": 14,
   "metadata": {},
   "outputs": [],
   "source": [
    "odds_features = ['B365H', 'B365D', 'B365A', 'BWH', 'BWD', 'BWA', 'IWH', 'IWD', 'IWA', 'LBH', 'LBD', 'LBA', 'PSH', 'PSD', 'PSA', 'WHH', 'WHD', 'WHA', 'SJH', 'SJD', 'SJA', 'VCH', 'VCD', 'VCA', 'GBH', 'GBD', 'GBA', 'BSH', 'BSD', 'BSA']"
   ]
  },
  {
   "cell_type": "code",
   "execution_count": 15,
   "metadata": {},
   "outputs": [
    {
     "data": {
      "text/plain": [
       "30"
      ]
     },
     "execution_count": 15,
     "metadata": {},
     "output_type": "execute_result"
    }
   ],
   "source": [
    "len(odds_features)"
   ]
  },
  {
   "cell_type": "code",
   "execution_count": 16,
   "metadata": {},
   "outputs": [],
   "source": [
    "# Clean Data\n",
    "odds_data = matches[odds_features + [binary_class_label]].dropna()"
   ]
  },
  {
   "cell_type": "markdown",
   "metadata": {},
   "source": [
    "Train the model."
   ]
  },
  {
   "cell_type": "code",
   "execution_count": 17,
   "metadata": {},
   "outputs": [
    {
     "name": "stdout",
     "output_type": "stream",
     "text": [
      "rmse = 0.30434782608695654\n",
      "accuracy_score = 0.6956521739130435\n"
     ]
    }
   ],
   "source": [
    "odds_lr = logistic_regression(odds_data, odds_features)"
   ]
  },
  {
   "cell_type": "code",
   "execution_count": 18,
   "metadata": {},
   "outputs": [
    {
     "name": "stdout",
     "output_type": "stream",
     "text": [
      "Train Error = 0.3540322580645161\n",
      "Test Error = 0.30434782608695654\n"
     ]
    },
    {
     "data": {
      "text/plain": [
       "(0.3540322580645161, 0.30434782608695654)"
      ]
     },
     "execution_count": 18,
     "metadata": {},
     "output_type": "execute_result"
    }
   ],
   "source": [
    "train_test_error(odds_lr, odds_features)"
   ]
  },
  {
   "cell_type": "markdown",
   "metadata": {},
   "source": [
    "Let's inspect the permutation importance of the features"
   ]
  },
  {
   "cell_type": "code",
   "execution_count": 19,
   "metadata": {},
   "outputs": [
    {
     "data": {
      "image/png": "[encoded data removed]",
      "text/plain": [
       "<Figure size 432x288 with 1 Axes>"
      ]
     },
     "metadata": {
      "needs_background": "light"
     },
     "output_type": "display_data"
    }
   ],
   "source": [
    "xtrain = odds_lr[\"train_data\"][odds_features]\n",
    "ytrain = odds_lr[\"train_data\"][binary_class_label]\n",
    "features_by_importance = get_sorted_importances(odds_lr, odds_features)\n",
    "plot_sorted_importances(features_by_importance)"
   ]
  },
  {
   "cell_type": "markdown",
   "metadata": {},
   "source": [
    "Re-train with the important features. Let's see what number of important features make the model perform the best."
   ]
  },
  {
   "cell_type": "code",
   "execution_count": 20,
   "metadata": {},
   "outputs": [
    {
     "data": {
      "image/png": "[encoded data removed]",
      "text/plain": [
       "<Figure size 432x288 with 1 Axes>"
      ]
     },
     "metadata": {
      "needs_background": "light"
     },
     "output_type": "display_data"
    }
   ],
   "source": [
    "top_k = len(odds_features) # the number of top features to select\n",
    "\n",
    "train_error = []\n",
    "test_error = []\n",
    "num_features = list(range(1, top_k))\n",
    "for k in num_features:\n",
    "    top_k_features = list(features_by_importance.head(k)[\"feature_name\"])\n",
    "    top_k_odds_lr = logistic_regression(odds_data[top_k_features + [binary_class_label]], top_k_features, suppress_print=True)\n",
    "    tr_err, te_err = train_test_error(top_k_odds_lr, top_k_features, suppress_print=True)\n",
    "    train_error.append(tr_err)\n",
    "    test_error.append(te_err)\n",
    "\n",
    "plot_errors(train_error, test_error, num_features, title=\"Train vs Test Error w.r.t. top \\\"k\\\" important feature chosen.\", xlabel = \"Top \\\"k\\\" features\")"
   ]
  },
  {
   "cell_type": "markdown",
   "metadata": {},
   "source": [
    "We can note that picking the top 4 or 5 features minimizes test error. Train error stays relatively constant. Let's pick the top 4."
   ]
  },
  {
   "cell_type": "code",
   "execution_count": 21,
   "metadata": {},
   "outputs": [],
   "source": [
    "top_4_features = list(features_by_importance.head(4)[\"feature_name\"])\n",
    "top_4_features_odds_data = odds_data[top_4_features + [binary_class_label]]"
   ]
  },
  {
   "cell_type": "markdown",
   "metadata": {},
   "source": [
    "We originally had some decent test/train error. Can we do even better? How about polynomial features on the important features? Attempt degree 2."
   ]
  },
  {
   "cell_type": "code",
   "execution_count": 22,
   "metadata": {},
   "outputs": [
    {
     "name": "stdout",
     "output_type": "stream",
     "text": [
      "rmse = 0.2898550724637681\n",
      "accuracy_score = 0.7101449275362319\n"
     ]
    }
   ],
   "source": [
    "odds_poly = poly_enhance_data(top_4_features_odds_data, top_4_features, degree = 2, suppress_print=True)\n",
    "odds_poly_lr = logistic_regression(odds_poly[0], odds_poly[1])"
   ]
  },
  {
   "cell_type": "code",
   "execution_count": 23,
   "metadata": {},
   "outputs": [
    {
     "name": "stdout",
     "output_type": "stream",
     "text": [
      "Train Error = 0.3491935483870968\n",
      "Test Error = 0.28985507246376807\n"
     ]
    },
    {
     "data": {
      "text/plain": [
       "(0.3491935483870968, 0.28985507246376807)"
      ]
     },
     "execution_count": 23,
     "metadata": {},
     "output_type": "execute_result"
    }
   ],
   "source": [
    "train_test_error(odds_poly_lr, odds_poly[1])"
   ]
  },
  {
   "cell_type": "markdown",
   "metadata": {},
   "source": [
    "Going up to degree 3 increases error, so polynomial features isn't the way to go. Let's demonstrate this:"
   ]
  },
  {
   "cell_type": "code",
   "execution_count": 24,
   "metadata": {},
   "outputs": [
    {
     "data": {
      "image/png": "[encoded data removed]",
      "text/plain": [
       "<Figure size 432x288 with 1 Axes>"
      ]
     },
     "metadata": {
      "needs_background": "light"
     },
     "output_type": "display_data"
    }
   ],
   "source": [
    "train_error = []\n",
    "test_error = []\n",
    "solver = \"saga\"\n",
    "degrees = [i for i in range(8)]\n",
    "with warnings.catch_warnings():\n",
    "    warnings.simplefilter('ignore')\n",
    "    for degree in degrees:\n",
    "        odds_poly = odds_poly = poly_enhance_data(top_4_features_odds_data, top_4_features, degree = degree, suppress_print=True)\n",
    "        odds_poly_lr = logistic_regression(odds_poly[0], odds_poly[1], solver=solver, suppress_print=True)\n",
    "        tr_err, te_err = train_test_error(odds_poly_lr, odds_poly[1], suppress_print=True)\n",
    "        train_error.append(tr_err)\n",
    "        test_error.append(te_err)\n",
    "\n",
    "plot_errors(train_error, test_error, degrees, title = \"Train vs Test Error w.r.t highest polynomial degree used\", xlabel = \"Highest Polynomial Degree Chosen\")"
   ]
  },
  {
   "cell_type": "markdown",
   "metadata": {},
   "source": [
    "Degree 1 seems to minimize train and test error, so we should just not use polynomial features. I'll settle at ~70% accuracy when training the model on betting odds. So, to conclude, the best four providers to use to predict match outcome are:"
   ]
  },
  {
   "cell_type": "code",
   "execution_count": 25,
   "metadata": {},
   "outputs": [
    {
     "data": {
      "text/plain": [
       "['SJA', 'VCD', 'B365H', 'WHA']"
      ]
     },
     "execution_count": 25,
     "metadata": {},
     "output_type": "execute_result"
    }
   ],
   "source": [
    "top_4_features"
   ]
  },
  {
   "cell_type": "markdown",
   "metadata": {},
   "source": [
    "What this tells us is that when these providers release their odds, you can use them with our modelling with 70% accuracy. This model is represented in ```odds_predictor.py```. Here is a quick demo on how to use the predictor:"
   ]
  },
  {
   "cell_type": "code",
   "execution_count": 26,
   "metadata": {},
   "outputs": [
    {
     "name": "stdout",
     "output_type": "stream",
     "text": [
      "rmse = 0.29347826086956524\n",
      "accuracy_score = 0.7065217391304348\n",
      "['SJA', 'B365H']\n"
     ]
    }
   ],
   "source": [
    "from odds_predictor import OddsPredictor\n",
    "predictor = OddsPredictor(matches)\n",
    "predictor.train()"
   ]
  },
  {
   "cell_type": "code",
   "execution_count": 27,
   "metadata": {},
   "outputs": [
    {
     "name": "stdout",
     "output_type": "stream",
     "text": [
      "Warning: Odd Provider VCD Not In Top Providers\n"
     ]
    }
   ],
   "source": [
    "sample_match_odds = {\n",
    "    \"SJA\": 8,\n",
    "    \"VCD\": 0,\n",
    "    \"B365H\": 3\n",
    "}\n",
    "predictor.will_home_win(sample_match_odds)"
   ]
  },
  {
   "cell_type": "markdown",
   "metadata": {},
   "source": [
    "We have a 70% accurate predictor trained on match odds!"
   ]
  },
  {
   "cell_type": "markdown",
   "metadata": {},
   "source": [
    "## 2. Team Match History\n",
    "\n",
    "Are historically successful teams more likely to win a matchup?\n",
    "\n",
    "Look at all matches before a given match for a given team and compute their cumulative goal differential win rate. Encode a matchup as home cumulative goal difference/win rate - away cumulative goal difference/win rate\n",
    "\n",
    "This is pretty difficult..."
   ]
  },
  {
   "cell_type": "markdown",
   "metadata": {},
   "source": [
    "## 3. FIFA Attributes\n",
    "\n",
    "Use aggregated FIFA information from Team_Attributes to predict match outcomes."
   ]
  },
  {
   "cell_type": "code",
   "execution_count": 28,
   "metadata": {},
   "outputs": [],
   "source": [
    "team_attributes = pd.read_sql(\"SELECT * FROM Team_Attributes;\", connection)"
   ]
  },
  {
   "cell_type": "code",
   "execution_count": 29,
   "metadata": {},
   "outputs": [
    {
     "data": {
      "text/plain": [
       "36"
      ]
     },
     "execution_count": 29,
     "metadata": {},
     "output_type": "execute_result"
    }
   ],
   "source": [
    "# Features to train the model on\n",
    "buildup_features = [\"buildUpPlaySpeed\", \"buildUpPlayDribbling\", \"buildUpPlayPassing\"]\n",
    "chance_creation_features = [\"chanceCreationPassing\", \"chanceCreationCrossing\", \"chanceCreationShooting\"]\n",
    "defence_features = [\"defencePressure\", \"defenceAggression\", \"defenceTeamWidth\"]\n",
    "categories = [buildup_features, chance_creation_features, defence_features]\n",
    "\n",
    "aggregations = [\"mean\", \"min\", \"max\", \"median\"]\n",
    "\n",
    "# Raw names\n",
    "all_attr_features = []\n",
    "for category in categories:\n",
    "    all_attr_features += category\n",
    "\n",
    "# Named aggregations\n",
    "all_attr_features_agg = []\n",
    "categories_agg = []\n",
    "for category in categories:\n",
    "    category_agg = []\n",
    "    for agg in aggregations:\n",
    "        for feature in category:\n",
    "            formatted_feature_name = f\"{feature}_{agg}\"\n",
    "            category_agg.append(formatted_feature_name)\n",
    "            all_attr_features_agg.append(formatted_feature_name)\n",
    "    categories_agg.append(category_agg)\n",
    "\n",
    "len(all_attr_features_agg)"
   ]
  },
  {
   "cell_type": "code",
   "execution_count": 30,
   "metadata": {},
   "outputs": [
    {
     "data": {
      "text/html": [
       "<div>\n",
       "<style scoped>\n",
       "    .dataframe tbody tr th:only-of-type {\n",
       "        vertical-align: middle;\n",
       "    }\n",
       "\n",
       "    .dataframe tbody tr th {\n",
       "        vertical-align: top;\n",
       "    }\n",
       "\n",
       "    .dataframe thead th {\n",
       "        text-align: right;\n",
       "    }\n",
       "</style>\n",
       "<table border=\"1\" class=\"dataframe\">\n",
       "  <thead>\n",
       "    <tr style=\"text-align: right;\">\n",
       "      <th></th>\n",
       "      <th>team_api_id</th>\n",
       "      <th>buildUpPlaySpeed_mean</th>\n",
       "      <th>buildUpPlayDribbling_mean</th>\n",
       "      <th>buildUpPlayPassing_mean</th>\n",
       "      <th>buildUpPlaySpeed_min</th>\n",
       "      <th>buildUpPlayDribbling_min</th>\n",
       "      <th>buildUpPlayPassing_min</th>\n",
       "      <th>buildUpPlaySpeed_max</th>\n",
       "      <th>buildUpPlayDribbling_max</th>\n",
       "      <th>buildUpPlayPassing_max</th>\n",
       "      <th>...</th>\n",
       "      <th>defenceTeamWidth_mean</th>\n",
       "      <th>defencePressure_min</th>\n",
       "      <th>defenceAggression_min</th>\n",
       "      <th>defenceTeamWidth_min</th>\n",
       "      <th>defencePressure_max</th>\n",
       "      <th>defenceAggression_max</th>\n",
       "      <th>defenceTeamWidth_max</th>\n",
       "      <th>defencePressure_median</th>\n",
       "      <th>defenceAggression_median</th>\n",
       "      <th>defenceTeamWidth_median</th>\n",
       "    </tr>\n",
       "  </thead>\n",
       "  <tbody>\n",
       "    <tr>\n",
       "      <th>0</th>\n",
       "      <td>1601</td>\n",
       "      <td>47.333333</td>\n",
       "      <td>48.0</td>\n",
       "      <td>46.166667</td>\n",
       "      <td>30</td>\n",
       "      <td>48.0</td>\n",
       "      <td>38</td>\n",
       "      <td>53</td>\n",
       "      <td>48.0</td>\n",
       "      <td>55</td>\n",
       "      <td>...</td>\n",
       "      <td>49.333333</td>\n",
       "      <td>43</td>\n",
       "      <td>44</td>\n",
       "      <td>49</td>\n",
       "      <td>65</td>\n",
       "      <td>60</td>\n",
       "      <td>50</td>\n",
       "      <td>43.0</td>\n",
       "      <td>44.0</td>\n",
       "      <td>49.0</td>\n",
       "    </tr>\n",
       "    <tr>\n",
       "      <th>1</th>\n",
       "      <td>1773</td>\n",
       "      <td>52.000000</td>\n",
       "      <td>51.0</td>\n",
       "      <td>50.000000</td>\n",
       "      <td>52</td>\n",
       "      <td>51.0</td>\n",
       "      <td>50</td>\n",
       "      <td>52</td>\n",
       "      <td>51.0</td>\n",
       "      <td>50</td>\n",
       "      <td>...</td>\n",
       "      <td>50.000000</td>\n",
       "      <td>43</td>\n",
       "      <td>44</td>\n",
       "      <td>50</td>\n",
       "      <td>43</td>\n",
       "      <td>44</td>\n",
       "      <td>50</td>\n",
       "      <td>43.0</td>\n",
       "      <td>44.0</td>\n",
       "      <td>50.0</td>\n",
       "    </tr>\n",
       "    <tr>\n",
       "      <th>2</th>\n",
       "      <td>1957</td>\n",
       "      <td>47.166667</td>\n",
       "      <td>54.0</td>\n",
       "      <td>52.666667</td>\n",
       "      <td>30</td>\n",
       "      <td>54.0</td>\n",
       "      <td>38</td>\n",
       "      <td>66</td>\n",
       "      <td>54.0</td>\n",
       "      <td>69</td>\n",
       "      <td>...</td>\n",
       "      <td>53.666667</td>\n",
       "      <td>32</td>\n",
       "      <td>50</td>\n",
       "      <td>49</td>\n",
       "      <td>70</td>\n",
       "      <td>70</td>\n",
       "      <td>70</td>\n",
       "      <td>48.5</td>\n",
       "      <td>56.0</td>\n",
       "      <td>51.0</td>\n",
       "    </tr>\n",
       "    <tr>\n",
       "      <th>3</th>\n",
       "      <td>2033</td>\n",
       "      <td>49.000000</td>\n",
       "      <td>62.0</td>\n",
       "      <td>48.400000</td>\n",
       "      <td>45</td>\n",
       "      <td>62.0</td>\n",
       "      <td>40</td>\n",
       "      <td>65</td>\n",
       "      <td>62.0</td>\n",
       "      <td>55</td>\n",
       "      <td>...</td>\n",
       "      <td>45.400000</td>\n",
       "      <td>37</td>\n",
       "      <td>24</td>\n",
       "      <td>35</td>\n",
       "      <td>50</td>\n",
       "      <td>45</td>\n",
       "      <td>60</td>\n",
       "      <td>37.0</td>\n",
       "      <td>31.0</td>\n",
       "      <td>44.0</td>\n",
       "    </tr>\n",
       "    <tr>\n",
       "      <th>4</th>\n",
       "      <td>2182</td>\n",
       "      <td>60.333333</td>\n",
       "      <td>52.5</td>\n",
       "      <td>49.000000</td>\n",
       "      <td>40</td>\n",
       "      <td>50.0</td>\n",
       "      <td>35</td>\n",
       "      <td>67</td>\n",
       "      <td>55.0</td>\n",
       "      <td>57</td>\n",
       "      <td>...</td>\n",
       "      <td>54.500000</td>\n",
       "      <td>47</td>\n",
       "      <td>37</td>\n",
       "      <td>45</td>\n",
       "      <td>60</td>\n",
       "      <td>58</td>\n",
       "      <td>63</td>\n",
       "      <td>48.5</td>\n",
       "      <td>47.0</td>\n",
       "      <td>55.5</td>\n",
       "    </tr>\n",
       "  </tbody>\n",
       "</table>\n",
       "<p>5 rows × 37 columns</p>\n",
       "</div>"
      ],
      "text/plain": [
       "   team_api_id  buildUpPlaySpeed_mean  buildUpPlayDribbling_mean  \\\n",
       "0         1601              47.333333                       48.0   \n",
       "1         1773              52.000000                       51.0   \n",
       "2         1957              47.166667                       54.0   \n",
       "3         2033              49.000000                       62.0   \n",
       "4         2182              60.333333                       52.5   \n",
       "\n",
       "   buildUpPlayPassing_mean  buildUpPlaySpeed_min  buildUpPlayDribbling_min  \\\n",
       "0                46.166667                    30                      48.0   \n",
       "1                50.000000                    52                      51.0   \n",
       "2                52.666667                    30                      54.0   \n",
       "3                48.400000                    45                      62.0   \n",
       "4                49.000000                    40                      50.0   \n",
       "\n",
       "   buildUpPlayPassing_min  buildUpPlaySpeed_max  buildUpPlayDribbling_max  \\\n",
       "0                      38                    53                      48.0   \n",
       "1                      50                    52                      51.0   \n",
       "2                      38                    66                      54.0   \n",
       "3                      40                    65                      62.0   \n",
       "4                      35                    67                      55.0   \n",
       "\n",
       "   buildUpPlayPassing_max  ...  defenceTeamWidth_mean  defencePressure_min  \\\n",
       "0                      55  ...              49.333333                   43   \n",
       "1                      50  ...              50.000000                   43   \n",
       "2                      69  ...              53.666667                   32   \n",
       "3                      55  ...              45.400000                   37   \n",
       "4                      57  ...              54.500000                   47   \n",
       "\n",
       "   defenceAggression_min  defenceTeamWidth_min  defencePressure_max  \\\n",
       "0                     44                    49                   65   \n",
       "1                     44                    50                   43   \n",
       "2                     50                    49                   70   \n",
       "3                     24                    35                   50   \n",
       "4                     37                    45                   60   \n",
       "\n",
       "   defenceAggression_max  defenceTeamWidth_max  defencePressure_median  \\\n",
       "0                     60                    50                    43.0   \n",
       "1                     44                    50                    43.0   \n",
       "2                     70                    70                    48.5   \n",
       "3                     45                    60                    37.0   \n",
       "4                     58                    63                    48.5   \n",
       "\n",
       "   defenceAggression_median  defenceTeamWidth_median  \n",
       "0                      44.0                     49.0  \n",
       "1                      44.0                     50.0  \n",
       "2                      56.0                     51.0  \n",
       "3                      31.0                     44.0  \n",
       "4                      47.0                     55.5  \n",
       "\n",
       "[5 rows x 37 columns]"
      ]
     },
     "execution_count": 30,
     "metadata": {},
     "output_type": "execute_result"
    }
   ],
   "source": [
    "aggregated_attributes = team_attributes.groupby(\"team_api_id\").agg(\n",
    "    {feature : [(f\"{feature}_{agg}\", agg) for agg in aggregations]for feature in all_attr_features}\n",
    ").reset_index(col_level = 1).droplevel(level = 0, axis = 1)[[\"team_api_id\"] + all_attr_features_agg]\n",
    "\n",
    "aggregated_attributes.head()"
   ]
  },
  {
   "cell_type": "code",
   "execution_count": 31,
   "metadata": {},
   "outputs": [],
   "source": [
    "def attribute_matchup(dataset, home_id, away_id):\n",
    "    \"\"\"\n",
    "    Computes the matchup features for the home_id and away_id.\n",
    "    \"\"\"\n",
    "    home = dataset[dataset[\"team_api_id\"] == home_id][all_attr_features_agg].to_numpy()\n",
    "    away = dataset[dataset[\"team_api_id\"] == away_id][all_attr_features_agg].to_numpy()\n",
    "    if len(home) == 0 or len(away) == 0:\n",
    "        # Team not present, no matchup possible\n",
    "        return pd.Series([np.nan] * len(all_attr_features_agg), index = all_attr_features_agg)\n",
    "    diff = (home - away)[0]\n",
    "    return pd.Series(diff, index = all_attr_features_agg)"
   ]
  },
  {
   "cell_type": "markdown",
   "metadata": {},
   "source": [
    "Generate team attribute matchups. This cell took around 1 minute"
   ]
  },
  {
   "cell_type": "code",
   "execution_count": 32,
   "metadata": {},
   "outputs": [],
   "source": [
    "attr_data = matches.copy()\n",
    "attr_data[all_attr_features_agg] = attr_data.apply(lambda x: attribute_matchup(aggregated_attributes, x[\"home_team_api_id\"], x[\"away_team_api_id\"]), axis = 1, result_type = \"expand\")"
   ]
  },
  {
   "cell_type": "code",
   "execution_count": 33,
   "metadata": {},
   "outputs": [
    {
     "data": {
      "text/plain": [
       "(1762, 153)"
      ]
     },
     "execution_count": 33,
     "metadata": {},
     "output_type": "execute_result"
    }
   ],
   "source": [
    "attr_data = attr_data.dropna()\n",
    "attr_data.shape"
   ]
  },
  {
   "cell_type": "markdown",
   "metadata": {},
   "source": [
    "Train the model using all features"
   ]
  },
  {
   "cell_type": "code",
   "execution_count": 34,
   "metadata": {},
   "outputs": [
    {
     "name": "stdout",
     "output_type": "stream",
     "text": [
      "rmse = 0.44886363636363635\n",
      "accuracy_score = 0.5511363636363636\n"
     ]
    }
   ],
   "source": [
    "attr_lr = logistic_regression(attr_data, all_attr_features_agg)"
   ]
  },
  {
   "cell_type": "code",
   "execution_count": 35,
   "metadata": {},
   "outputs": [
    {
     "name": "stdout",
     "output_type": "stream",
     "text": [
      "Train Error = 0.36822194199243374\n",
      "Test Error = 0.44886363636363635\n"
     ]
    },
    {
     "data": {
      "text/plain": [
       "(0.36822194199243374, 0.44886363636363635)"
      ]
     },
     "execution_count": 35,
     "metadata": {},
     "output_type": "execute_result"
    }
   ],
   "source": [
    "# Evaluate:\n",
    "train_test_error(attr_lr, all_attr_features_agg)"
   ]
  },
  {
   "cell_type": "markdown",
   "metadata": {},
   "source": [
    "#### Selecting best features\n",
    "\n",
    "We have pretty high test error (44%), which isn't very good. Let's use permutation feature importance to see the most significant team attribute features, and then retrain."
   ]
  },
  {
   "cell_type": "code",
   "execution_count": 36,
   "metadata": {},
   "outputs": [
    {
     "data": {
      "image/png": "[encoded data removed]",
      "text/plain": [
       "<Figure size 432x288 with 1 Axes>"
      ]
     },
     "metadata": {
      "needs_background": "light"
     },
     "output_type": "display_data"
    }
   ],
   "source": [
    "sorted_attr_importances = get_sorted_importances(attr_lr, all_attr_features_agg)\n",
    "plot_sorted_importances(sorted_attr_importances)"
   ]
  },
  {
   "cell_type": "code",
   "execution_count": 37,
   "metadata": {},
   "outputs": [
    {
     "data": {
      "text/plain": [
       "8"
      ]
     },
     "execution_count": 37,
     "metadata": {},
     "output_type": "execute_result"
    }
   ],
   "source": [
    "top_k_attr_features = helpers.find_top_k_performing_important_features(attr_data, sorted_attr_importances)\n",
    "len(top_k_attr_features[0])"
   ]
  },
  {
   "cell_type": "code",
   "execution_count": 38,
   "metadata": {},
   "outputs": [
    {
     "data": {
      "image/png": "[encoded data removed]",
      "text/plain": [
       "<Figure size 432x288 with 1 Axes>"
      ]
     },
     "metadata": {
      "needs_background": "light"
     },
     "output_type": "display_data"
    }
   ],
   "source": [
    "train_error, test_error, parameters = top_k_attr_features[1]\n",
    "helpers.plot_errors(train_error, test_error, parameters, title=\"Train vs Test Error w.r.t. top \\\"k\\\" important feature chosen.\", xlabel = \"Top \\\"k\\\" features\")"
   ]
  },
  {
   "cell_type": "markdown",
   "metadata": {},
   "source": [
    "Curious to see that the train error steadily decreases with more features, but test error has better performance using the top $k = 10$ features."
   ]
  },
  {
   "cell_type": "code",
   "execution_count": 39,
   "metadata": {},
   "outputs": [
    {
     "name": "stdout",
     "output_type": "stream",
     "text": [
      "Train Error = 0.41235813366960905\n",
      "Test Error = 0.44318181818181823\n"
     ]
    },
    {
     "data": {
      "text/plain": [
       "(0.41235813366960905, 0.44318181818181823)"
      ]
     },
     "execution_count": 39,
     "metadata": {},
     "output_type": "execute_result"
    }
   ],
   "source": [
    "top_k_attr_lr = logistic_regression(attr_data[top_k_attr_features[0] + [binary_class_label]], top_k_attr_features[0], suppress_print=True)\n",
    "train_test_error(top_k_attr_lr, top_k_attr_features[0])"
   ]
  },
  {
   "cell_type": "markdown",
   "metadata": {},
   "source": [
    "We see a slight drop in test error but increase in train error. For reference, this is what it was before:\n",
    "```\n",
    "Train Error = 0.36822194199243374\n",
    "Test Error = 0.44886363636363635\n",
    "```\n",
    "\n",
    "We can't really get much better unfortunately.\n",
    "\n"
   ]
  },
  {
   "cell_type": "markdown",
   "metadata": {},
   "source": [
    "#### Category experimentation\n",
    "\n",
    "Can we manually pick the most important category and aggregation to improve the accuracy of the model?"
   ]
  },
  {
   "cell_type": "markdown",
   "metadata": {},
   "source": [
    "Train per category"
   ]
  },
  {
   "cell_type": "code",
   "execution_count": 40,
   "metadata": {},
   "outputs": [
    {
     "name": "stdout",
     "output_type": "stream",
     "text": [
      "*** Buildup Play Features ***\n",
      "rmse = 0.42613636363636365\n",
      "accuracy_score = 0.5738636363636364\n",
      "*** Chance Creation Features ***\n",
      "rmse = 0.4090909090909091\n",
      "accuracy_score = 0.5909090909090909\n",
      "*** Defensive Play Features ***\n",
      "rmse = 0.5113636363636364\n",
      "accuracy_score = 0.48863636363636365\n"
     ]
    }
   ],
   "source": [
    "print(\"*** Buildup Play Features ***\")\n",
    "buildup_lr = logistic_regression(attr_data, categories_agg[0])\n",
    "print(\"*** Chance Creation Features ***\")\n",
    "chance_creation_lr = logistic_regression(attr_data, categories_agg[1])\n",
    "print(\"*** Defensive Play Features ***\")\n",
    "defence_lr = logistic_regression(attr_data, categories_agg[2])"
   ]
  },
  {
   "cell_type": "markdown",
   "metadata": {},
   "source": [
    "Choose chance creation. Pick top k features"
   ]
  },
  {
   "cell_type": "code",
   "execution_count": 41,
   "metadata": {},
   "outputs": [
    {
     "data": {
      "image/png": "[encoded data removed]",
      "text/plain": [
       "<Figure size 432x288 with 1 Axes>"
      ]
     },
     "metadata": {
      "needs_background": "light"
     },
     "output_type": "display_data"
    }
   ],
   "source": [
    "sorted_chance_creation_features = get_sorted_importances(chance_creation_lr, categories_agg[1])\n",
    "plot_sorted_importances(sorted_chance_creation_features)"
   ]
  },
  {
   "cell_type": "code",
   "execution_count": 42,
   "metadata": {},
   "outputs": [
    {
     "data": {
      "text/plain": [
       "6"
      ]
     },
     "execution_count": 42,
     "metadata": {},
     "output_type": "execute_result"
    }
   ],
   "source": [
    "top_k_chance_creation_features = helpers.find_top_k_performing_important_features(attr_data, sorted_chance_creation_features)\n",
    "len(top_k_chance_creation_features[0])"
   ]
  },
  {
   "cell_type": "code",
   "execution_count": 43,
   "metadata": {},
   "outputs": [
    {
     "data": {
      "image/png": "[encoded data removed]",
      "text/plain": [
       "<Figure size 432x288 with 1 Axes>"
      ]
     },
     "metadata": {
      "needs_background": "light"
     },
     "output_type": "display_data"
    }
   ],
   "source": [
    "train_error, test_error, parameters = top_k_chance_creation_features[1]\n",
    "helpers.plot_errors(train_error, test_error, parameters, title=\"Train vs Test Error w.r.t. top \\\"k\\\" important feature chosen.\", xlabel = \"Top \\\"k\\\" features\")"
   ]
  },
  {
   "cell_type": "code",
   "execution_count": 44,
   "metadata": {},
   "outputs": [
    {
     "name": "stdout",
     "output_type": "stream",
     "text": [
      "rmse = 0.38636363636363635\n",
      "accuracy_score = 0.6136363636363636\n",
      "Train Error = 0.4136191677175284\n",
      "Test Error = 0.38636363636363635\n"
     ]
    },
    {
     "data": {
      "text/plain": [
       "(0.4136191677175284, 0.38636363636363635)"
      ]
     },
     "execution_count": 44,
     "metadata": {},
     "output_type": "execute_result"
    }
   ],
   "source": [
    "top_k_chance_creation_lr = logistic_regression(attr_data[top_k_chance_creation_features[0] + [binary_class_label]], top_k_chance_creation_features[0], suppress_print=False)\n",
    "train_test_error(top_k_chance_creation_lr, top_k_chance_creation_features[0])"
   ]
  },
  {
   "cell_type": "markdown",
   "metadata": {},
   "source": [
    "Make a plot with the probabilities"
   ]
  },
  {
   "cell_type": "code",
   "execution_count": 45,
   "metadata": {},
   "outputs": [],
   "source": [
    "model = top_k_chance_creation_lr[\"model\"]\n",
    "test_data = top_k_chance_creation_lr[\"test_data\"]\n",
    "feats = top_k_chance_creation_features[0]\n",
    "\n",
    "probs = model.predict_proba(test_data[feats])\n",
    "home_win_probs = probs[:, 0]\n",
    "top_3_feats = feats[:3]\n",
    "test_data[\"home_win_probs\"] = home_win_probs"
   ]
  },
  {
   "cell_type": "code",
   "execution_count": 58,
   "metadata": {},
   "outputs": [
    {
     "data": {
      "application/vnd.plotly.v1+json": {
       "config": {
        "plotlyServerURL": "https://plot.ly"
       },
       "data": [
        {
         "hovertemplate": "chanceCreationCrossing_median=%{x}<br>chanceCreationCrossing_mean=%{y}<br>home_win_probs=%{marker.color}<extra></extra>",
         "legendgroup": "",
         "marker": {
          "color": [
           0.568445469366599,
           0.5464944996246921,
           0.6108438313338939,
           0.5214099499385869,
           0.6227516471227387,
           0.42749324594393245,
           0.5860713245791207,
           0.5244534197631455,
           0.6003436330876701,
           0.512563578157111,
           0.5579224482450165,
           0.42848701753576646,
           0.4899452212626981,
           0.605399057923015,
           0.4336290361649683,
           0.4659837375027521,
           0.4980798551867478,
           0.6838125649549887,
           0.46528506153087956,
           0.5754359962201583,
           0.46555195054590226,
           0.6244910901293119,
           0.5283560841207594,
           0.5129567081553981,
           0.6174299838636289,
           0.62103342786617,
           0.6076489054144548,
           0.6603086856669835,
           0.6260269492153305,
           0.6199701247014631,
           0.48158300994819203,
           0.45775394829436344,
           0.5936252488305206,
           0.6048432479441771,
           0.5821088971019978,
           0.39048218248531474,
           0.5476951597980493,
           0.3953959964661071,
           0.6119858324607077,
           0.5378569848504541,
           0.4516101848523697,
           0.6501459656581658,
           0.28775760035976305,
           0.5291025312204747,
           0.5274096409887733,
           0.48658758570710836,
           0.36284101867862795,
           0.5019016042620814,
           0.4498931287482939,
           0.6150001059839056,
           0.5452733800757296,
           0.6519994105721243,
           0.5192425109687815,
           0.6639912369398574,
           0.5682102288940121,
           0.5999708543780519,
           0.6366362910220145,
           0.3151693719744614,
           0.5183282863258365,
           0.6246324674623267,
           0.5891244601745209,
           0.4768313276787268,
           0.33854653304737925,
           0.5221950063599923,
           0.5983472192779169,
           0.6674574031103573,
           0.6139671849609345,
           0.37486817866734545,
           0.32148076963670347,
           0.6250635495616231,
           0.572999079804065,
           0.4407088728242107,
           0.4855988297593822,
           0.4362251542433562,
           0.49308432175349615,
           0.4524710523417874,
           0.5862545578626932,
           0.5482417027318132,
           0.4728105396691066,
           0.48202406301282996,
           0.5904907416513141,
           0.6742181597903706,
           0.551634762764114,
           0.7092756927268852,
           0.35632015469115286,
           0.50818721818032,
           0.5349079510438302,
           0.7011741585413044,
           0.5364877610233708,
           0.5221645821915006,
           0.504850212493056,
           0.5402381238515889,
           0.6047861322740613,
           0.20794634882484508,
           0.610540001758064,
           0.6290074548803948,
           0.4339138707011987,
           0.5405960756382377,
           0.454226432120331,
           0.5480652651974023,
           0.6557417753727633,
           0.5229442477707118,
           0.4909937293226866,
           0.5362909555844727,
           0.6527359779152124,
           0.6840541952699009,
           0.5986863000085882,
           0.6894069071014288,
           0.6375588964578793,
           0.5481224454477182,
           0.5428957692008136,
           0.6022440081177642,
           0.4063360396417859,
           0.40735804996912994,
           0.699493056216475,
           0.5700316143664497,
           0.7372487123420599,
           0.5969834071242272,
           0.5605943196377621,
           0.5004024678511907,
           0.3859094594338167,
           0.6669133698127356,
           0.5237897543219313,
           0.4398369401982811,
           0.5872490343313096,
           0.5608522523743418,
           0.636277217540912,
           0.575017443780247,
           0.5219650104442295,
           0.496665611220242,
           0.44925059946690926,
           0.6969185225562136,
           0.5765690718089156,
           0.5222911114000123,
           0.3796683702549718,
           0.707824977179861,
           0.4524033861268154,
           0.6713869324042046,
           0.5457799704923416,
           0.5260958978940169,
           0.5956212348569766,
           0.6367154650365561,
           0.4624399218141594,
           0.367903381885194,
           0.5726349684469357,
           0.518638840165716,
           0.5771915591452375,
           0.5093693790092837,
           0.6691482366286257,
           0.37474904813834686,
           0.5563494382456269,
           0.6503216759460122,
           0.5523625562395682,
           0.5147013193035286,
           0.5891554167130216,
           0.528358391023992,
           0.5705345360177375,
           0.29274106248337806,
           0.5738326365701787,
           0.44282487139471605,
           0.5474574684792808,
           0.6570028154511518,
           0.5540007283658677,
           0.623126721411608,
           0.5021231883088674,
           0.4917135532538901,
           0.5206830866710073,
           0.3815983908790518,
           0.46175724258621476,
           0.3893898886836161,
           0.47621334727828724,
           0.541363349411925,
           0.5978371231604184,
           0.4153660597750467,
           0.5862441259600797,
           0.46054326715803984
          ],
          "coloraxis": "coloraxis",
          "symbol": "circle"
         },
         "mode": "markers",
         "name": "",
         "orientation": "v",
         "showlegend": false,
         "type": "scatter",
         "x": [
          10.5,
          -23,
          8,
          -12,
          -12,
          8,
          15.5,
          -14.5,
          19,
          6.5,
          0,
          -12,
          -15.5,
          14,
          12,
          5,
          -24.5,
          7.5,
          5,
          1,
          -3,
          -1.5,
          -14.5,
          7,
          4,
          -2,
          7.5,
          6.5,
          2,
          -7.5,
          -23,
          -0.5,
          -10.5,
          2.5,
          14,
          6,
          -1,
          -20,
          15.5,
          3.5,
          15.5,
          2.5,
          16,
          8,
          -8,
          -14.5,
          11,
          16,
          -3,
          -12,
          18,
          -5,
          1,
          10,
          2,
          24,
          24,
          15,
          4,
          -17.5,
          -3.5,
          -18.5,
          -6.5,
          1,
          -16,
          15,
          -16.5,
          14,
          -10.5,
          8,
          6,
          2,
          -11,
          -15,
          10,
          -29.5,
          -11,
          -19,
          -17,
          -22,
          25.5,
          -14,
          1,
          9,
          1,
          2,
          -9,
          2.5,
          0,
          9.5,
          3,
          5,
          -3.5,
          18,
          5,
          5.5,
          5,
          -8,
          -7.5,
          10.5,
          -1,
          10,
          -13,
          10.5,
          10.5,
          -6,
          -2,
          32,
          0.5,
          12,
          0,
          5,
          -13,
          -27.5,
          -3.5,
          -6,
          6.5,
          1,
          -14.5,
          9,
          16,
          26.5,
          7.5,
          -11.5,
          21.5,
          10.5,
          -17,
          -4.5,
          16,
          -23.5,
          -9.5,
          -12.5,
          18,
          33,
          -2.5,
          15.5,
          -14.5,
          -4.5,
          -11.5,
          -16,
          -2,
          -1,
          -3.5,
          -4.5,
          -2,
          -22,
          -7,
          11,
          21.5,
          10,
          -4,
          13,
          -3.5,
          -2,
          14,
          -23.5,
          -6,
          9.5,
          -15.5,
          1,
          0,
          12,
          -24.5,
          17,
          -11.5,
          9,
          -19,
          -28,
          -2,
          18,
          -9,
          -1.5,
          -5,
          -30,
          -14,
          -7.5
         ],
         "xaxis": "x",
         "y": [
          15.666666666666664,
          -15.666666666666671,
          4,
          -9.166666666666664,
          -11.5,
          13.166666666666664,
          19.833333333333336,
          -14.666666666666664,
          12.833333333333336,
          11,
          5.5,
          -6,
          -10.933333333333337,
          4.666666666666664,
          10.333333333333329,
          2.5,
          -17.333333333333336,
          7.166666666666664,
          -1.8333333333333357,
          -2.6666666666666643,
          1.5,
          1.6666666666666643,
          -11.166666666666671,
          3.3333333333333357,
          5.166666666666671,
          -2.5,
          3.8333333333333286,
          6.833333333333329,
          -4.333333333333336,
          -2.6666666666666643,
          -20.5,
          -1,
          -11.233333333333327,
          -2,
          14.233333333333327,
          2.5,
          -2.3333333333333357,
          -13.5,
          11.333333333333329,
          2.3333333333333357,
          10.999999999999993,
          4,
          18.200000000000003,
          2,
          -8.333333333333329,
          -16,
          8.5,
          10.999999999999993,
          -0.5,
          -9.666666666666671,
          16,
          1.1666666666666714,
          -3.5,
          10.5,
          4.333333333333329,
          18.499999999999993,
          21.400000000000006,
          14.399999999999999,
          4.5,
          -16.666666666666664,
          0.6666666666666643,
          -12.5,
          -5.666666666666664,
          -3.5,
          -13.833333333333336,
          14.666666666666664,
          -11.333333333333336,
          5.166666666666664,
          -5.166666666666664,
          5.366666666666667,
          5.833333333333329,
          5.0333333333333385,
          -5.333333333333336,
          -10.166666666666664,
          6.666666666666671,
          -25.166666666666664,
          -15.06666666666667,
          -19.16666666666667,
          -13.333333333333329,
          -14.833333333333336,
          19.166666666666664,
          -8.166666666666664,
          -5,
          6,
          0,
          6.166666666666664,
          -6.600000000000001,
          5.666666666666664,
          2,
          5.333333333333336,
          0.8333333333333357,
          5.333333333333329,
          -1.5,
          16.799999999999997,
          4.666666666666664,
          7.333333333333336,
          -1.1666666666666714,
          -7.5,
          -4.333333333333329,
          10.166666666666664,
          -1.1666666666666714,
          10.400000000000006,
          -7.499999999999993,
          8.833333333333329,
          11.500000000000007,
          -0.5,
          2.5,
          23.166666666666664,
          -3.3333333333333357,
          8,
          1.6666666666666714,
          6.666666666666664,
          -13.666666666666664,
          -17.666666666666664,
          0.3333333333333357,
          -2.1666666666666714,
          5.666666666666664,
          -1.5,
          -13.333333333333329,
          4.5,
          10.833333333333336,
          16.666666666666664,
          5.166666666666664,
          -8.5,
          18.83333333333333,
          15.666666666666664,
          -8.333333333333329,
          1.1666666666666643,
          14.333333333333336,
          -18.166666666666664,
          -8.666666666666671,
          -12.366666666666667,
          11.5,
          20.5,
          -5.666666666666664,
          11.933333333333337,
          -9,
          -2.7333333333333343,
          -7.999999999999993,
          -12.166666666666664,
          0.5,
          0.3333333333333357,
          0.8333333333333286,
          -4,
          -4.833333333333329,
          -14.333333333333329,
          -5.433333333333337,
          10.5,
          19.333333333333336,
          12.333333333333336,
          -5.166666666666664,
          12.999999999999993,
          -2.3333333333333357,
          -2.1666666666666643,
          10.333333333333336,
          -15.333333333333329,
          -7.5,
          5.633333333333333,
          -9.5,
          6.233333333333334,
          1.1666666666666643,
          6,
          -12.166666666666671,
          16.83333333333333,
          -8.833333333333336,
          6.5,
          -9.833333333333336,
          -28.33333333333333,
          4.333333333333336,
          11,
          -6.733333333333341,
          -2,
          2.5,
          -18.833333333333336,
          -9.5,
          -9.333333333333329
         ],
         "yaxis": "y"
        }
       ],
       "layout": {
        "coloraxis": {
         "colorbar": {
          "title": {
           "text": "home_win_probs"
          }
         },
         "colorscale": [
          [
           0,
           "#0d0887"
          ],
          [
           0.1111111111111111,
           "#46039f"
          ],
          [
           0.2222222222222222,
           "#7201a8"
          ],
          [
           0.3333333333333333,
           "#9c179e"
          ],
          [
           0.4444444444444444,
           "#bd3786"
          ],
          [
           0.5555555555555556,
           "#d8576b"
          ],
          [
           0.6666666666666666,
           "#ed7953"
          ],
          [
           0.7777777777777778,
           "#fb9f3a"
          ],
          [
           0.8888888888888888,
           "#fdca26"
          ],
          [
           1,
           "#f0f921"
          ]
         ]
        },
        "legend": {
         "tracegroupgap": 0
        },
        "margin": {
         "t": 60
        },
        "template": {
         "data": {
          "bar": [
           {
            "error_x": {
             "color": "#2a3f5f"
            },
            "error_y": {
             "color": "#2a3f5f"
            },
            "marker": {
             "line": {
              "color": "#E5ECF6",
              "width": 0.5
             },
             "pattern": {
              "fillmode": "overlay",
              "size": 10,
              "solidity": 0.2
             }
            },
            "type": "bar"
           }
          ],
          "barpolar": [
           {
            "marker": {
             "line": {
              "color": "#E5ECF6",
              "width": 0.5
             },
             "pattern": {
              "fillmode": "overlay",
              "size": 10,
              "solidity": 0.2
             }
            },
            "type": "barpolar"
           }
          ],
          "carpet": [
           {
            "aaxis": {
             "endlinecolor": "#2a3f5f",
             "gridcolor": "white",
             "linecolor": "white",
             "minorgridcolor": "white",
             "startlinecolor": "#2a3f5f"
            },
            "baxis": {
             "endlinecolor": "#2a3f5f",
             "gridcolor": "white",
             "linecolor": "white",
             "minorgridcolor": "white",
             "startlinecolor": "#2a3f5f"
            },
            "type": "carpet"
           }
          ],
          "choropleth": [
           {
            "colorbar": {
             "outlinewidth": 0,
             "ticks": ""
            },
            "type": "choropleth"
           }
          ],
          "contour": [
           {
            "colorbar": {
             "outlinewidth": 0,
             "ticks": ""
            },
            "colorscale": [
             [
              0,
              "#0d0887"
             ],
             [
              0.1111111111111111,
              "#46039f"
             ],
             [
              0.2222222222222222,
              "#7201a8"
             ],
             [
              0.3333333333333333,
              "#9c179e"
             ],
             [
              0.4444444444444444,
              "#bd3786"
             ],
             [
              0.5555555555555556,
              "#d8576b"
             ],
             [
              0.6666666666666666,
              "#ed7953"
             ],
             [
              0.7777777777777778,
              "#fb9f3a"
             ],
             [
              0.8888888888888888,
              "#fdca26"
             ],
             [
              1,
              "#f0f921"
             ]
            ],
            "type": "contour"
           }
          ],
          "contourcarpet": [
           {
            "colorbar": {
             "outlinewidth": 0,
             "ticks": ""
            },
            "type": "contourcarpet"
           }
          ],
          "heatmap": [
           {
            "colorbar": {
             "outlinewidth": 0,
             "ticks": ""
            },
            "colorscale": [
             [
              0,
              "#0d0887"
             ],
             [
              0.1111111111111111,
              "#46039f"
             ],
             [
              0.2222222222222222,
              "#7201a8"
             ],
             [
              0.3333333333333333,
              "#9c179e"
             ],
             [
              0.4444444444444444,
              "#bd3786"
             ],
             [
              0.5555555555555556,
              "#d8576b"
             ],
             [
              0.6666666666666666,
              "#ed7953"
             ],
             [
              0.7777777777777778,
              "#fb9f3a"
             ],
             [
              0.8888888888888888,
              "#fdca26"
             ],
             [
              1,
              "#f0f921"
             ]
            ],
            "type": "heatmap"
           }
          ],
          "heatmapgl": [
           {
            "colorbar": {
             "outlinewidth": 0,
             "ticks": ""
            },
            "colorscale": [
             [
              0,
              "#0d0887"
             ],
             [
              0.1111111111111111,
              "#46039f"
             ],
             [
              0.2222222222222222,
              "#7201a8"
             ],
             [
              0.3333333333333333,
              "#9c179e"
             ],
             [
              0.4444444444444444,
              "#bd3786"
             ],
             [
              0.5555555555555556,
              "#d8576b"
             ],
             [
              0.6666666666666666,
              "#ed7953"
             ],
             [
              0.7777777777777778,
              "#fb9f3a"
             ],
             [
              0.8888888888888888,
              "#fdca26"
             ],
             [
              1,
              "#f0f921"
             ]
            ],
            "type": "heatmapgl"
           }
          ],
          "histogram": [
           {
            "marker": {
             "pattern": {
              "fillmode": "overlay",
              "size": 10,
              "solidity": 0.2
             }
            },
            "type": "histogram"
           }
          ],
          "histogram2d": [
           {
            "colorbar": {
             "outlinewidth": 0,
             "ticks": ""
            },
            "colorscale": [
             [
              0,
              "#0d0887"
             ],
             [
              0.1111111111111111,
              "#46039f"
             ],
             [
              0.2222222222222222,
              "#7201a8"
             ],
             [
              0.3333333333333333,
              "#9c179e"
             ],
             [
              0.4444444444444444,
              "#bd3786"
             ],
             [
              0.5555555555555556,
              "#d8576b"
             ],
             [
              0.6666666666666666,
              "#ed7953"
             ],
             [
              0.7777777777777778,
              "#fb9f3a"
             ],
             [
              0.8888888888888888,
              "#fdca26"
             ],
             [
              1,
              "#f0f921"
             ]
            ],
            "type": "histogram2d"
           }
          ],
          "histogram2dcontour": [
           {
            "colorbar": {
             "outlinewidth": 0,
             "ticks": ""
            },
            "colorscale": [
             [
              0,
              "#0d0887"
             ],
             [
              0.1111111111111111,
              "#46039f"
             ],
             [
              0.2222222222222222,
              "#7201a8"
             ],
             [
              0.3333333333333333,
              "#9c179e"
             ],
             [
              0.4444444444444444,
              "#bd3786"
             ],
             [
              0.5555555555555556,
              "#d8576b"
             ],
             [
              0.6666666666666666,
              "#ed7953"
             ],
             [
              0.7777777777777778,
              "#fb9f3a"
             ],
             [
              0.8888888888888888,
              "#fdca26"
             ],
             [
              1,
              "#f0f921"
             ]
            ],
            "type": "histogram2dcontour"
           }
          ],
          "mesh3d": [
           {
            "colorbar": {
             "outlinewidth": 0,
             "ticks": ""
            },
            "type": "mesh3d"
           }
          ],
          "parcoords": [
           {
            "line": {
             "colorbar": {
              "outlinewidth": 0,
              "ticks": ""
             }
            },
            "type": "parcoords"
           }
          ],
          "pie": [
           {
            "automargin": true,
            "type": "pie"
           }
          ],
          "scatter": [
           {
            "fillpattern": {
             "fillmode": "overlay",
             "size": 10,
             "solidity": 0.2
            },
            "type": "scatter"
           }
          ],
          "scatter3d": [
           {
            "line": {
             "colorbar": {
              "outlinewidth": 0,
              "ticks": ""
             }
            },
            "marker": {
             "colorbar": {
              "outlinewidth": 0,
              "ticks": ""
             }
            },
            "type": "scatter3d"
           }
          ],
          "scattercarpet": [
           {
            "marker": {
             "colorbar": {
              "outlinewidth": 0,
              "ticks": ""
             }
            },
            "type": "scattercarpet"
           }
          ],
          "scattergeo": [
           {
            "marker": {
             "colorbar": {
              "outlinewidth": 0,
              "ticks": ""
             }
            },
            "type": "scattergeo"
           }
          ],
          "scattergl": [
           {
            "marker": {
             "colorbar": {
              "outlinewidth": 0,
              "ticks": ""
             }
            },
            "type": "scattergl"
           }
          ],
          "scattermapbox": [
           {
            "marker": {
             "colorbar": {
              "outlinewidth": 0,
              "ticks": ""
             }
            },
            "type": "scattermapbox"
           }
          ],
          "scatterpolar": [
           {
            "marker": {
             "colorbar": {
              "outlinewidth": 0,
              "ticks": ""
             }
            },
            "type": "scatterpolar"
           }
          ],
          "scatterpolargl": [
           {
            "marker": {
             "colorbar": {
              "outlinewidth": 0,
              "ticks": ""
             }
            },
            "type": "scatterpolargl"
           }
          ],
          "scatterternary": [
           {
            "marker": {
             "colorbar": {
              "outlinewidth": 0,
              "ticks": ""
             }
            },
            "type": "scatterternary"
           }
          ],
          "surface": [
           {
            "colorbar": {
             "outlinewidth": 0,
             "ticks": ""
            },
            "colorscale": [
             [
              0,
              "#0d0887"
             ],
             [
              0.1111111111111111,
              "#46039f"
             ],
             [
              0.2222222222222222,
              "#7201a8"
             ],
             [
              0.3333333333333333,
              "#9c179e"
             ],
             [
              0.4444444444444444,
              "#bd3786"
             ],
             [
              0.5555555555555556,
              "#d8576b"
             ],
             [
              0.6666666666666666,
              "#ed7953"
             ],
             [
              0.7777777777777778,
              "#fb9f3a"
             ],
             [
              0.8888888888888888,
              "#fdca26"
             ],
             [
              1,
              "#f0f921"
             ]
            ],
            "type": "surface"
           }
          ],
          "table": [
           {
            "cells": {
             "fill": {
              "color": "#EBF0F8"
             },
             "line": {
              "color": "white"
             }
            },
            "header": {
             "fill": {
              "color": "#C8D4E3"
             },
             "line": {
              "color": "white"
             }
            },
            "type": "table"
           }
          ]
         },
         "layout": {
          "annotationdefaults": {
           "arrowcolor": "#2a3f5f",
           "arrowhead": 0,
           "arrowwidth": 1
          },
          "autotypenumbers": "strict",
          "coloraxis": {
           "colorbar": {
            "outlinewidth": 0,
            "ticks": ""
           }
          },
          "colorscale": {
           "diverging": [
            [
             0,
             "#8e0152"
            ],
            [
             0.1,
             "#c51b7d"
            ],
            [
             0.2,
             "#de77ae"
            ],
            [
             0.3,
             "#f1b6da"
            ],
            [
             0.4,
             "#fde0ef"
            ],
            [
             0.5,
             "#f7f7f7"
            ],
            [
             0.6,
             "#e6f5d0"
            ],
            [
             0.7,
             "#b8e186"
            ],
            [
             0.8,
             "#7fbc41"
            ],
            [
             0.9,
             "#4d9221"
            ],
            [
             1,
             "#276419"
            ]
           ],
           "sequential": [
            [
             0,
             "#0d0887"
            ],
            [
             0.1111111111111111,
             "#46039f"
            ],
            [
             0.2222222222222222,
             "#7201a8"
            ],
            [
             0.3333333333333333,
             "#9c179e"
            ],
            [
             0.4444444444444444,
             "#bd3786"
            ],
            [
             0.5555555555555556,
             "#d8576b"
            ],
            [
             0.6666666666666666,
             "#ed7953"
            ],
            [
             0.7777777777777778,
             "#fb9f3a"
            ],
            [
             0.8888888888888888,
             "#fdca26"
            ],
            [
             1,
             "#f0f921"
            ]
           ],
           "sequentialminus": [
            [
             0,
             "#0d0887"
            ],
            [
             0.1111111111111111,
             "#46039f"
            ],
            [
             0.2222222222222222,
             "#7201a8"
            ],
            [
             0.3333333333333333,
             "#9c179e"
            ],
            [
             0.4444444444444444,
             "#bd3786"
            ],
            [
             0.5555555555555556,
             "#d8576b"
            ],
            [
             0.6666666666666666,
             "#ed7953"
            ],
            [
             0.7777777777777778,
             "#fb9f3a"
            ],
            [
             0.8888888888888888,
             "#fdca26"
            ],
            [
             1,
             "#f0f921"
            ]
           ]
          },
          "colorway": [
           "#636efa",
           "#EF553B",
           "#00cc96",
           "#ab63fa",
           "#FFA15A",
           "#19d3f3",
           "#FF6692",
           "#B6E880",
           "#FF97FF",
           "#FECB52"
          ],
          "font": {
           "color": "#2a3f5f"
          },
          "geo": {
           "bgcolor": "white",
           "lakecolor": "white",
           "landcolor": "#E5ECF6",
           "showlakes": true,
           "showland": true,
           "subunitcolor": "white"
          },
          "hoverlabel": {
           "align": "left"
          },
          "hovermode": "closest",
          "mapbox": {
           "style": "light"
          },
          "paper_bgcolor": "white",
          "plot_bgcolor": "#E5ECF6",
          "polar": {
           "angularaxis": {
            "gridcolor": "white",
            "linecolor": "white",
            "ticks": ""
           },
           "bgcolor": "#E5ECF6",
           "radialaxis": {
            "gridcolor": "white",
            "linecolor": "white",
            "ticks": ""
           }
          },
          "scene": {
           "xaxis": {
            "backgroundcolor": "#E5ECF6",
            "gridcolor": "white",
            "gridwidth": 2,
            "linecolor": "white",
            "showbackground": true,
            "ticks": "",
            "zerolinecolor": "white"
           },
           "yaxis": {
            "backgroundcolor": "#E5ECF6",
            "gridcolor": "white",
            "gridwidth": 2,
            "linecolor": "white",
            "showbackground": true,
            "ticks": "",
            "zerolinecolor": "white"
           },
           "zaxis": {
            "backgroundcolor": "#E5ECF6",
            "gridcolor": "white",
            "gridwidth": 2,
            "linecolor": "white",
            "showbackground": true,
            "ticks": "",
            "zerolinecolor": "white"
           }
          },
          "shapedefaults": {
           "line": {
            "color": "#2a3f5f"
           }
          },
          "ternary": {
           "aaxis": {
            "gridcolor": "white",
            "linecolor": "white",
            "ticks": ""
           },
           "baxis": {
            "gridcolor": "white",
            "linecolor": "white",
            "ticks": ""
           },
           "bgcolor": "#E5ECF6",
           "caxis": {
            "gridcolor": "white",
            "linecolor": "white",
            "ticks": ""
           }
          },
          "title": {
           "x": 0.05
          },
          "xaxis": {
           "automargin": true,
           "gridcolor": "white",
           "linecolor": "white",
           "ticks": "",
           "title": {
            "standoff": 15
           },
           "zerolinecolor": "white",
           "zerolinewidth": 2
          },
          "yaxis": {
           "automargin": true,
           "gridcolor": "white",
           "linecolor": "white",
           "ticks": "",
           "title": {
            "standoff": 15
           },
           "zerolinecolor": "white",
           "zerolinewidth": 2
          }
         }
        },
        "xaxis": {
         "anchor": "y",
         "domain": [
          0,
          1
         ],
         "title": {
          "text": "chanceCreationCrossing_median"
         }
        },
        "yaxis": {
         "anchor": "x",
         "domain": [
          0,
          1
         ],
         "title": {
          "text": "chanceCreationCrossing_mean"
         }
        }
       }
      }
     },
     "metadata": {},
     "output_type": "display_data"
    }
   ],
   "source": [
    "plot = px.scatter(test_data, x = top_3_feats[0], y = top_3_feats[1], color = \"home_win_probs\")\n",
    "\n",
    "plot.write_html(\"docs/chance_creation_prob_plot.html\", include_plotlyjs='cdn', full_html=False)\n",
    "\n",
    "plot.show()"
   ]
  },
  {
   "cell_type": "code",
   "execution_count": 47,
   "metadata": {},
   "outputs": [
    {
     "data": {
      "application/vnd.plotly.v1+json": {
       "config": {
        "plotlyServerURL": "https://plot.ly"
       },
       "data": [
        {
         "hovertemplate": "chanceCreationCrossing_median=%{x}<br>chanceCreationCrossing_mean=%{z}<br>home_win_probs=%{marker.color}<extra></extra>",
         "legendgroup": "",
         "marker": {
          "color": [
           0.568445469366599,
           0.5464944996246921,
           0.6108438313338939,
           0.5214099499385869,
           0.6227516471227387,
           0.42749324594393245,
           0.5860713245791207,
           0.5244534197631455,
           0.6003436330876701,
           0.512563578157111,
           0.5579224482450165,
           0.42848701753576646,
           0.4899452212626981,
           0.605399057923015,
           0.4336290361649683,
           0.4659837375027521,
           0.4980798551867478,
           0.6838125649549887,
           0.46528506153087956,
           0.5754359962201583,
           0.46555195054590226,
           0.6244910901293119,
           0.5283560841207594,
           0.5129567081553981,
           0.6174299838636289,
           0.62103342786617,
           0.6076489054144548,
           0.6603086856669835,
           0.6260269492153305,
           0.6199701247014631,
           0.48158300994819203,
           0.45775394829436344,
           0.5936252488305206,
           0.6048432479441771,
           0.5821088971019978,
           0.39048218248531474,
           0.5476951597980493,
           0.3953959964661071,
           0.6119858324607077,
           0.5378569848504541,
           0.4516101848523697,
           0.6501459656581658,
           0.28775760035976305,
           0.5291025312204747,
           0.5274096409887733,
           0.48658758570710836,
           0.36284101867862795,
           0.5019016042620814,
           0.4498931287482939,
           0.6150001059839056,
           0.5452733800757296,
           0.6519994105721243,
           0.5192425109687815,
           0.6639912369398574,
           0.5682102288940121,
           0.5999708543780519,
           0.6366362910220145,
           0.3151693719744614,
           0.5183282863258365,
           0.6246324674623267,
           0.5891244601745209,
           0.4768313276787268,
           0.33854653304737925,
           0.5221950063599923,
           0.5983472192779169,
           0.6674574031103573,
           0.6139671849609345,
           0.37486817866734545,
           0.32148076963670347,
           0.6250635495616231,
           0.572999079804065,
           0.4407088728242107,
           0.4855988297593822,
           0.4362251542433562,
           0.49308432175349615,
           0.4524710523417874,
           0.5862545578626932,
           0.5482417027318132,
           0.4728105396691066,
           0.48202406301282996,
           0.5904907416513141,
           0.6742181597903706,
           0.551634762764114,
           0.7092756927268852,
           0.35632015469115286,
           0.50818721818032,
           0.5349079510438302,
           0.7011741585413044,
           0.5364877610233708,
           0.5221645821915006,
           0.504850212493056,
           0.5402381238515889,
           0.6047861322740613,
           0.20794634882484508,
           0.610540001758064,
           0.6290074548803948,
           0.4339138707011987,
           0.5405960756382377,
           0.454226432120331,
           0.5480652651974023,
           0.6557417753727633,
           0.5229442477707118,
           0.4909937293226866,
           0.5362909555844727,
           0.6527359779152124,
           0.6840541952699009,
           0.5986863000085882,
           0.6894069071014288,
           0.6375588964578793,
           0.5481224454477182,
           0.5428957692008136,
           0.6022440081177642,
           0.4063360396417859,
           0.40735804996912994,
           0.699493056216475,
           0.5700316143664497,
           0.7372487123420599,
           0.5969834071242272,
           0.5605943196377621,
           0.5004024678511907,
           0.3859094594338167,
           0.6669133698127356,
           0.5237897543219313,
           0.4398369401982811,
           0.5872490343313096,
           0.5608522523743418,
           0.636277217540912,
           0.575017443780247,
           0.5219650104442295,
           0.496665611220242,
           0.44925059946690926,
           0.6969185225562136,
           0.5765690718089156,
           0.5222911114000123,
           0.3796683702549718,
           0.707824977179861,
           0.4524033861268154,
           0.6713869324042046,
           0.5457799704923416,
           0.5260958978940169,
           0.5956212348569766,
           0.6367154650365561,
           0.4624399218141594,
           0.367903381885194,
           0.5726349684469357,
           0.518638840165716,
           0.5771915591452375,
           0.5093693790092837,
           0.6691482366286257,
           0.37474904813834686,
           0.5563494382456269,
           0.6503216759460122,
           0.5523625562395682,
           0.5147013193035286,
           0.5891554167130216,
           0.528358391023992,
           0.5705345360177375,
           0.29274106248337806,
           0.5738326365701787,
           0.44282487139471605,
           0.5474574684792808,
           0.6570028154511518,
           0.5540007283658677,
           0.623126721411608,
           0.5021231883088674,
           0.4917135532538901,
           0.5206830866710073,
           0.3815983908790518,
           0.46175724258621476,
           0.3893898886836161,
           0.47621334727828724,
           0.541363349411925,
           0.5978371231604184,
           0.4153660597750467,
           0.5862441259600797,
           0.46054326715803984
          ],
          "coloraxis": "coloraxis",
          "symbol": "circle"
         },
         "mode": "markers",
         "name": "",
         "scene": "scene",
         "showlegend": false,
         "type": "scatter3d",
         "x": [
          10.5,
          -23,
          8,
          -12,
          -12,
          8,
          15.5,
          -14.5,
          19,
          6.5,
          0,
          -12,
          -15.5,
          14,
          12,
          5,
          -24.5,
          7.5,
          5,
          1,
          -3,
          -1.5,
          -14.5,
          7,
          4,
          -2,
          7.5,
          6.5,
          2,
          -7.5,
          -23,
          -0.5,
          -10.5,
          2.5,
          14,
          6,
          -1,
          -20,
          15.5,
          3.5,
          15.5,
          2.5,
          16,
          8,
          -8,
          -14.5,
          11,
          16,
          -3,
          -12,
          18,
          -5,
          1,
          10,
          2,
          24,
          24,
          15,
          4,
          -17.5,
          -3.5,
          -18.5,
          -6.5,
          1,
          -16,
          15,
          -16.5,
          14,
          -10.5,
          8,
          6,
          2,
          -11,
          -15,
          10,
          -29.5,
          -11,
          -19,
          -17,
          -22,
          25.5,
          -14,
          1,
          9,
          1,
          2,
          -9,
          2.5,
          0,
          9.5,
          3,
          5,
          -3.5,
          18,
          5,
          5.5,
          5,
          -8,
          -7.5,
          10.5,
          -1,
          10,
          -13,
          10.5,
          10.5,
          -6,
          -2,
          32,
          0.5,
          12,
          0,
          5,
          -13,
          -27.5,
          -3.5,
          -6,
          6.5,
          1,
          -14.5,
          9,
          16,
          26.5,
          7.5,
          -11.5,
          21.5,
          10.5,
          -17,
          -4.5,
          16,
          -23.5,
          -9.5,
          -12.5,
          18,
          33,
          -2.5,
          15.5,
          -14.5,
          -4.5,
          -11.5,
          -16,
          -2,
          -1,
          -3.5,
          -4.5,
          -2,
          -22,
          -7,
          11,
          21.5,
          10,
          -4,
          13,
          -3.5,
          -2,
          14,
          -23.5,
          -6,
          9.5,
          -15.5,
          1,
          0,
          12,
          -24.5,
          17,
          -11.5,
          9,
          -19,
          -28,
          -2,
          18,
          -9,
          -1.5,
          -5,
          -30,
          -14,
          -7.5
         ],
         "y": [
          15.666666666666664,
          -15.666666666666671,
          4,
          -9.166666666666664,
          -11.5,
          13.166666666666664,
          19.833333333333336,
          -14.666666666666664,
          12.833333333333336,
          11,
          5.5,
          -6,
          -10.933333333333337,
          4.666666666666664,
          10.333333333333329,
          2.5,
          -17.333333333333336,
          7.166666666666664,
          -1.8333333333333357,
          -2.6666666666666643,
          1.5,
          1.6666666666666643,
          -11.166666666666671,
          3.3333333333333357,
          5.166666666666671,
          -2.5,
          3.8333333333333286,
          6.833333333333329,
          -4.333333333333336,
          -2.6666666666666643,
          -20.5,
          -1,
          -11.233333333333327,
          -2,
          14.233333333333327,
          2.5,
          -2.3333333333333357,
          -13.5,
          11.333333333333329,
          2.3333333333333357,
          10.999999999999993,
          4,
          18.200000000000003,
          2,
          -8.333333333333329,
          -16,
          8.5,
          10.999999999999993,
          -0.5,
          -9.666666666666671,
          16,
          1.1666666666666714,
          -3.5,
          10.5,
          4.333333333333329,
          18.499999999999993,
          21.400000000000006,
          14.399999999999999,
          4.5,
          -16.666666666666664,
          0.6666666666666643,
          -12.5,
          -5.666666666666664,
          -3.5,
          -13.833333333333336,
          14.666666666666664,
          -11.333333333333336,
          5.166666666666664,
          -5.166666666666664,
          5.366666666666667,
          5.833333333333329,
          5.0333333333333385,
          -5.333333333333336,
          -10.166666666666664,
          6.666666666666671,
          -25.166666666666664,
          -15.06666666666667,
          -19.16666666666667,
          -13.333333333333329,
          -14.833333333333336,
          19.166666666666664,
          -8.166666666666664,
          -5,
          6,
          0,
          6.166666666666664,
          -6.600000000000001,
          5.666666666666664,
          2,
          5.333333333333336,
          0.8333333333333357,
          5.333333333333329,
          -1.5,
          16.799999999999997,
          4.666666666666664,
          7.333333333333336,
          -1.1666666666666714,
          -7.5,
          -4.333333333333329,
          10.166666666666664,
          -1.1666666666666714,
          10.400000000000006,
          -7.499999999999993,
          8.833333333333329,
          11.500000000000007,
          -0.5,
          2.5,
          23.166666666666664,
          -3.3333333333333357,
          8,
          1.6666666666666714,
          6.666666666666664,
          -13.666666666666664,
          -17.666666666666664,
          0.3333333333333357,
          -2.1666666666666714,
          5.666666666666664,
          -1.5,
          -13.333333333333329,
          4.5,
          10.833333333333336,
          16.666666666666664,
          5.166666666666664,
          -8.5,
          18.83333333333333,
          15.666666666666664,
          -8.333333333333329,
          1.1666666666666643,
          14.333333333333336,
          -18.166666666666664,
          -8.666666666666671,
          -12.366666666666667,
          11.5,
          20.5,
          -5.666666666666664,
          11.933333333333337,
          -9,
          -2.7333333333333343,
          -7.999999999999993,
          -12.166666666666664,
          0.5,
          0.3333333333333357,
          0.8333333333333286,
          -4,
          -4.833333333333329,
          -14.333333333333329,
          -5.433333333333337,
          10.5,
          19.333333333333336,
          12.333333333333336,
          -5.166666666666664,
          12.999999999999993,
          -2.3333333333333357,
          -2.1666666666666643,
          10.333333333333336,
          -15.333333333333329,
          -7.5,
          5.633333333333333,
          -9.5,
          6.233333333333334,
          1.1666666666666643,
          6,
          -12.166666666666671,
          16.83333333333333,
          -8.833333333333336,
          6.5,
          -9.833333333333336,
          -28.33333333333333,
          4.333333333333336,
          11,
          -6.733333333333341,
          -2,
          2.5,
          -18.833333333333336,
          -9.5,
          -9.333333333333329
         ],
         "z": [
          15.666666666666664,
          -15.666666666666671,
          4,
          -9.166666666666664,
          -11.5,
          13.166666666666664,
          19.833333333333336,
          -14.666666666666664,
          12.833333333333336,
          11,
          5.5,
          -6,
          -10.933333333333337,
          4.666666666666664,
          10.333333333333329,
          2.5,
          -17.333333333333336,
          7.166666666666664,
          -1.8333333333333357,
          -2.6666666666666643,
          1.5,
          1.6666666666666643,
          -11.166666666666671,
          3.3333333333333357,
          5.166666666666671,
          -2.5,
          3.8333333333333286,
          6.833333333333329,
          -4.333333333333336,
          -2.6666666666666643,
          -20.5,
          -1,
          -11.233333333333327,
          -2,
          14.233333333333327,
          2.5,
          -2.3333333333333357,
          -13.5,
          11.333333333333329,
          2.3333333333333357,
          10.999999999999993,
          4,
          18.200000000000003,
          2,
          -8.333333333333329,
          -16,
          8.5,
          10.999999999999993,
          -0.5,
          -9.666666666666671,
          16,
          1.1666666666666714,
          -3.5,
          10.5,
          4.333333333333329,
          18.499999999999993,
          21.400000000000006,
          14.399999999999999,
          4.5,
          -16.666666666666664,
          0.6666666666666643,
          -12.5,
          -5.666666666666664,
          -3.5,
          -13.833333333333336,
          14.666666666666664,
          -11.333333333333336,
          5.166666666666664,
          -5.166666666666664,
          5.366666666666667,
          5.833333333333329,
          5.0333333333333385,
          -5.333333333333336,
          -10.166666666666664,
          6.666666666666671,
          -25.166666666666664,
          -15.06666666666667,
          -19.16666666666667,
          -13.333333333333329,
          -14.833333333333336,
          19.166666666666664,
          -8.166666666666664,
          -5,
          6,
          0,
          6.166666666666664,
          -6.600000000000001,
          5.666666666666664,
          2,
          5.333333333333336,
          0.8333333333333357,
          5.333333333333329,
          -1.5,
          16.799999999999997,
          4.666666666666664,
          7.333333333333336,
          -1.1666666666666714,
          -7.5,
          -4.333333333333329,
          10.166666666666664,
          -1.1666666666666714,
          10.400000000000006,
          -7.499999999999993,
          8.833333333333329,
          11.500000000000007,
          -0.5,
          2.5,
          23.166666666666664,
          -3.3333333333333357,
          8,
          1.6666666666666714,
          6.666666666666664,
          -13.666666666666664,
          -17.666666666666664,
          0.3333333333333357,
          -2.1666666666666714,
          5.666666666666664,
          -1.5,
          -13.333333333333329,
          4.5,
          10.833333333333336,
          16.666666666666664,
          5.166666666666664,
          -8.5,
          18.83333333333333,
          15.666666666666664,
          -8.333333333333329,
          1.1666666666666643,
          14.333333333333336,
          -18.166666666666664,
          -8.666666666666671,
          -12.366666666666667,
          11.5,
          20.5,
          -5.666666666666664,
          11.933333333333337,
          -9,
          -2.7333333333333343,
          -7.999999999999993,
          -12.166666666666664,
          0.5,
          0.3333333333333357,
          0.8333333333333286,
          -4,
          -4.833333333333329,
          -14.333333333333329,
          -5.433333333333337,
          10.5,
          19.333333333333336,
          12.333333333333336,
          -5.166666666666664,
          12.999999999999993,
          -2.3333333333333357,
          -2.1666666666666643,
          10.333333333333336,
          -15.333333333333329,
          -7.5,
          5.633333333333333,
          -9.5,
          6.233333333333334,
          1.1666666666666643,
          6,
          -12.166666666666671,
          16.83333333333333,
          -8.833333333333336,
          6.5,
          -9.833333333333336,
          -28.33333333333333,
          4.333333333333336,
          11,
          -6.733333333333341,
          -2,
          2.5,
          -18.833333333333336,
          -9.5,
          -9.333333333333329
         ]
        }
       ],
       "layout": {
        "coloraxis": {
         "colorbar": {
          "title": {
           "text": "home_win_probs"
          }
         },
         "colorscale": [
          [
           0,
           "#0d0887"
          ],
          [
           0.1111111111111111,
           "#46039f"
          ],
          [
           0.2222222222222222,
           "#7201a8"
          ],
          [
           0.3333333333333333,
           "#9c179e"
          ],
          [
           0.4444444444444444,
           "#bd3786"
          ],
          [
           0.5555555555555556,
           "#d8576b"
          ],
          [
           0.6666666666666666,
           "#ed7953"
          ],
          [
           0.7777777777777778,
           "#fb9f3a"
          ],
          [
           0.8888888888888888,
           "#fdca26"
          ],
          [
           1,
           "#f0f921"
          ]
         ]
        },
        "legend": {
         "tracegroupgap": 0
        },
        "margin": {
         "t": 60
        },
        "scene": {
         "domain": {
          "x": [
           0,
           1
          ],
          "y": [
           0,
           1
          ]
         },
         "xaxis": {
          "title": {
           "text": "chanceCreationCrossing_median"
          }
         },
         "yaxis": {
          "title": {
           "text": "chanceCreationCrossing_mean"
          }
         },
         "zaxis": {
          "title": {
           "text": "chanceCreationCrossing_mean"
          }
         }
        },
        "template": {
         "data": {
          "bar": [
           {
            "error_x": {
             "color": "#2a3f5f"
            },
            "error_y": {
             "color": "#2a3f5f"
            },
            "marker": {
             "line": {
              "color": "#E5ECF6",
              "width": 0.5
             },
             "pattern": {
              "fillmode": "overlay",
              "size": 10,
              "solidity": 0.2
             }
            },
            "type": "bar"
           }
          ],
          "barpolar": [
           {
            "marker": {
             "line": {
              "color": "#E5ECF6",
              "width": 0.5
             },
             "pattern": {
              "fillmode": "overlay",
              "size": 10,
              "solidity": 0.2
             }
            },
            "type": "barpolar"
           }
          ],
          "carpet": [
           {
            "aaxis": {
             "endlinecolor": "#2a3f5f",
             "gridcolor": "white",
             "linecolor": "white",
             "minorgridcolor": "white",
             "startlinecolor": "#2a3f5f"
            },
            "baxis": {
             "endlinecolor": "#2a3f5f",
             "gridcolor": "white",
             "linecolor": "white",
             "minorgridcolor": "white",
             "startlinecolor": "#2a3f5f"
            },
            "type": "carpet"
           }
          ],
          "choropleth": [
           {
            "colorbar": {
             "outlinewidth": 0,
             "ticks": ""
            },
            "type": "choropleth"
           }
          ],
          "contour": [
           {
            "colorbar": {
             "outlinewidth": 0,
             "ticks": ""
            },
            "colorscale": [
             [
              0,
              "#0d0887"
             ],
             [
              0.1111111111111111,
              "#46039f"
             ],
             [
              0.2222222222222222,
              "#7201a8"
             ],
             [
              0.3333333333333333,
              "#9c179e"
             ],
             [
              0.4444444444444444,
              "#bd3786"
             ],
             [
              0.5555555555555556,
              "#d8576b"
             ],
             [
              0.6666666666666666,
              "#ed7953"
             ],
             [
              0.7777777777777778,
              "#fb9f3a"
             ],
             [
              0.8888888888888888,
              "#fdca26"
             ],
             [
              1,
              "#f0f921"
             ]
            ],
            "type": "contour"
           }
          ],
          "contourcarpet": [
           {
            "colorbar": {
             "outlinewidth": 0,
             "ticks": ""
            },
            "type": "contourcarpet"
           }
          ],
          "heatmap": [
           {
            "colorbar": {
             "outlinewidth": 0,
             "ticks": ""
            },
            "colorscale": [
             [
              0,
              "#0d0887"
             ],
             [
              0.1111111111111111,
              "#46039f"
             ],
             [
              0.2222222222222222,
              "#7201a8"
             ],
             [
              0.3333333333333333,
              "#9c179e"
             ],
             [
              0.4444444444444444,
              "#bd3786"
             ],
             [
              0.5555555555555556,
              "#d8576b"
             ],
             [
              0.6666666666666666,
              "#ed7953"
             ],
             [
              0.7777777777777778,
              "#fb9f3a"
             ],
             [
              0.8888888888888888,
              "#fdca26"
             ],
             [
              1,
              "#f0f921"
             ]
            ],
            "type": "heatmap"
           }
          ],
          "heatmapgl": [
           {
            "colorbar": {
             "outlinewidth": 0,
             "ticks": ""
            },
            "colorscale": [
             [
              0,
              "#0d0887"
             ],
             [
              0.1111111111111111,
              "#46039f"
             ],
             [
              0.2222222222222222,
              "#7201a8"
             ],
             [
              0.3333333333333333,
              "#9c179e"
             ],
             [
              0.4444444444444444,
              "#bd3786"
             ],
             [
              0.5555555555555556,
              "#d8576b"
             ],
             [
              0.6666666666666666,
              "#ed7953"
             ],
             [
              0.7777777777777778,
              "#fb9f3a"
             ],
             [
              0.8888888888888888,
              "#fdca26"
             ],
             [
              1,
              "#f0f921"
             ]
            ],
            "type": "heatmapgl"
           }
          ],
          "histogram": [
           {
            "marker": {
             "pattern": {
              "fillmode": "overlay",
              "size": 10,
              "solidity": 0.2
             }
            },
            "type": "histogram"
           }
          ],
          "histogram2d": [
           {
            "colorbar": {
             "outlinewidth": 0,
             "ticks": ""
            },
            "colorscale": [
             [
              0,
              "#0d0887"
             ],
             [
              0.1111111111111111,
              "#46039f"
             ],
             [
              0.2222222222222222,
              "#7201a8"
             ],
             [
              0.3333333333333333,
              "#9c179e"
             ],
             [
              0.4444444444444444,
              "#bd3786"
             ],
             [
              0.5555555555555556,
              "#d8576b"
             ],
             [
              0.6666666666666666,
              "#ed7953"
             ],
             [
              0.7777777777777778,
              "#fb9f3a"
             ],
             [
              0.8888888888888888,
              "#fdca26"
             ],
             [
              1,
              "#f0f921"
             ]
            ],
            "type": "histogram2d"
           }
          ],
          "histogram2dcontour": [
           {
            "colorbar": {
             "outlinewidth": 0,
             "ticks": ""
            },
            "colorscale": [
             [
              0,
              "#0d0887"
             ],
             [
              0.1111111111111111,
              "#46039f"
             ],
             [
              0.2222222222222222,
              "#7201a8"
             ],
             [
              0.3333333333333333,
              "#9c179e"
             ],
             [
              0.4444444444444444,
              "#bd3786"
             ],
             [
              0.5555555555555556,
              "#d8576b"
             ],
             [
              0.6666666666666666,
              "#ed7953"
             ],
             [
              0.7777777777777778,
              "#fb9f3a"
             ],
             [
              0.8888888888888888,
              "#fdca26"
             ],
             [
              1,
              "#f0f921"
             ]
            ],
            "type": "histogram2dcontour"
           }
          ],
          "mesh3d": [
           {
            "colorbar": {
             "outlinewidth": 0,
             "ticks": ""
            },
            "type": "mesh3d"
           }
          ],
          "parcoords": [
           {
            "line": {
             "colorbar": {
              "outlinewidth": 0,
              "ticks": ""
             }
            },
            "type": "parcoords"
           }
          ],
          "pie": [
           {
            "automargin": true,
            "type": "pie"
           }
          ],
          "scatter": [
           {
            "fillpattern": {
             "fillmode": "overlay",
             "size": 10,
             "solidity": 0.2
            },
            "type": "scatter"
           }
          ],
          "scatter3d": [
           {
            "line": {
             "colorbar": {
              "outlinewidth": 0,
              "ticks": ""
             }
            },
            "marker": {
             "colorbar": {
              "outlinewidth": 0,
              "ticks": ""
             }
            },
            "type": "scatter3d"
           }
          ],
          "scattercarpet": [
           {
            "marker": {
             "colorbar": {
              "outlinewidth": 0,
              "ticks": ""
             }
            },
            "type": "scattercarpet"
           }
          ],
          "scattergeo": [
           {
            "marker": {
             "colorbar": {
              "outlinewidth": 0,
              "ticks": ""
             }
            },
            "type": "scattergeo"
           }
          ],
          "scattergl": [
           {
            "marker": {
             "colorbar": {
              "outlinewidth": 0,
              "ticks": ""
             }
            },
            "type": "scattergl"
           }
          ],
          "scattermapbox": [
           {
            "marker": {
             "colorbar": {
              "outlinewidth": 0,
              "ticks": ""
             }
            },
            "type": "scattermapbox"
           }
          ],
          "scatterpolar": [
           {
            "marker": {
             "colorbar": {
              "outlinewidth": 0,
              "ticks": ""
             }
            },
            "type": "scatterpolar"
           }
          ],
          "scatterpolargl": [
           {
            "marker": {
             "colorbar": {
              "outlinewidth": 0,
              "ticks": ""
             }
            },
            "type": "scatterpolargl"
           }
          ],
          "scatterternary": [
           {
            "marker": {
             "colorbar": {
              "outlinewidth": 0,
              "ticks": ""
             }
            },
            "type": "scatterternary"
           }
          ],
          "surface": [
           {
            "colorbar": {
             "outlinewidth": 0,
             "ticks": ""
            },
            "colorscale": [
             [
              0,
              "#0d0887"
             ],
             [
              0.1111111111111111,
              "#46039f"
             ],
             [
              0.2222222222222222,
              "#7201a8"
             ],
             [
              0.3333333333333333,
              "#9c179e"
             ],
             [
              0.4444444444444444,
              "#bd3786"
             ],
             [
              0.5555555555555556,
              "#d8576b"
             ],
             [
              0.6666666666666666,
              "#ed7953"
             ],
             [
              0.7777777777777778,
              "#fb9f3a"
             ],
             [
              0.8888888888888888,
              "#fdca26"
             ],
             [
              1,
              "#f0f921"
             ]
            ],
            "type": "surface"
           }
          ],
          "table": [
           {
            "cells": {
             "fill": {
              "color": "#EBF0F8"
             },
             "line": {
              "color": "white"
             }
            },
            "header": {
             "fill": {
              "color": "#C8D4E3"
             },
             "line": {
              "color": "white"
             }
            },
            "type": "table"
           }
          ]
         },
         "layout": {
          "annotationdefaults": {
           "arrowcolor": "#2a3f5f",
           "arrowhead": 0,
           "arrowwidth": 1
          },
          "autotypenumbers": "strict",
          "coloraxis": {
           "colorbar": {
            "outlinewidth": 0,
            "ticks": ""
           }
          },
          "colorscale": {
           "diverging": [
            [
             0,
             "#8e0152"
            ],
            [
             0.1,
             "#c51b7d"
            ],
            [
             0.2,
             "#de77ae"
            ],
            [
             0.3,
             "#f1b6da"
            ],
            [
             0.4,
             "#fde0ef"
            ],
            [
             0.5,
             "#f7f7f7"
            ],
            [
             0.6,
             "#e6f5d0"
            ],
            [
             0.7,
             "#b8e186"
            ],
            [
             0.8,
             "#7fbc41"
            ],
            [
             0.9,
             "#4d9221"
            ],
            [
             1,
             "#276419"
            ]
           ],
           "sequential": [
            [
             0,
             "#0d0887"
            ],
            [
             0.1111111111111111,
             "#46039f"
            ],
            [
             0.2222222222222222,
             "#7201a8"
            ],
            [
             0.3333333333333333,
             "#9c179e"
            ],
            [
             0.4444444444444444,
             "#bd3786"
            ],
            [
             0.5555555555555556,
             "#d8576b"
            ],
            [
             0.6666666666666666,
             "#ed7953"
            ],
            [
             0.7777777777777778,
             "#fb9f3a"
            ],
            [
             0.8888888888888888,
             "#fdca26"
            ],
            [
             1,
             "#f0f921"
            ]
           ],
           "sequentialminus": [
            [
             0,
             "#0d0887"
            ],
            [
             0.1111111111111111,
             "#46039f"
            ],
            [
             0.2222222222222222,
             "#7201a8"
            ],
            [
             0.3333333333333333,
             "#9c179e"
            ],
            [
             0.4444444444444444,
             "#bd3786"
            ],
            [
             0.5555555555555556,
             "#d8576b"
            ],
            [
             0.6666666666666666,
             "#ed7953"
            ],
            [
             0.7777777777777778,
             "#fb9f3a"
            ],
            [
             0.8888888888888888,
             "#fdca26"
            ],
            [
             1,
             "#f0f921"
            ]
           ]
          },
          "colorway": [
           "#636efa",
           "#EF553B",
           "#00cc96",
           "#ab63fa",
           "#FFA15A",
           "#19d3f3",
           "#FF6692",
           "#B6E880",
           "#FF97FF",
           "#FECB52"
          ],
          "font": {
           "color": "#2a3f5f"
          },
          "geo": {
           "bgcolor": "white",
           "lakecolor": "white",
           "landcolor": "#E5ECF6",
           "showlakes": true,
           "showland": true,
           "subunitcolor": "white"
          },
          "hoverlabel": {
           "align": "left"
          },
          "hovermode": "closest",
          "mapbox": {
           "style": "light"
          },
          "paper_bgcolor": "white",
          "plot_bgcolor": "#E5ECF6",
          "polar": {
           "angularaxis": {
            "gridcolor": "white",
            "linecolor": "white",
            "ticks": ""
           },
           "bgcolor": "#E5ECF6",
           "radialaxis": {
            "gridcolor": "white",
            "linecolor": "white",
            "ticks": ""
           }
          },
          "scene": {
           "xaxis": {
            "backgroundcolor": "#E5ECF6",
            "gridcolor": "white",
            "gridwidth": 2,
            "linecolor": "white",
            "showbackground": true,
            "ticks": "",
            "zerolinecolor": "white"
           },
           "yaxis": {
            "backgroundcolor": "#E5ECF6",
            "gridcolor": "white",
            "gridwidth": 2,
            "linecolor": "white",
            "showbackground": true,
            "ticks": "",
            "zerolinecolor": "white"
           },
           "zaxis": {
            "backgroundcolor": "#E5ECF6",
            "gridcolor": "white",
            "gridwidth": 2,
            "linecolor": "white",
            "showbackground": true,
            "ticks": "",
            "zerolinecolor": "white"
           }
          },
          "shapedefaults": {
           "line": {
            "color": "#2a3f5f"
           }
          },
          "ternary": {
           "aaxis": {
            "gridcolor": "white",
            "linecolor": "white",
            "ticks": ""
           },
           "baxis": {
            "gridcolor": "white",
            "linecolor": "white",
            "ticks": ""
           },
           "bgcolor": "#E5ECF6",
           "caxis": {
            "gridcolor": "white",
            "linecolor": "white",
            "ticks": ""
           }
          },
          "title": {
           "x": 0.05
          },
          "xaxis": {
           "automargin": true,
           "gridcolor": "white",
           "linecolor": "white",
           "ticks": "",
           "title": {
            "standoff": 15
           },
           "zerolinecolor": "white",
           "zerolinewidth": 2
          },
          "yaxis": {
           "automargin": true,
           "gridcolor": "white",
           "linecolor": "white",
           "ticks": "",
           "title": {
            "standoff": 15
           },
           "zerolinecolor": "white",
           "zerolinewidth": 2
          }
         }
        }
       }
      }
     },
     "metadata": {},
     "output_type": "display_data"
    }
   ],
   "source": [
    "px.scatter_3d(test_data, x = top_3_feats[0], y = top_3_feats[1], z = top_3_feats[1], color = \"home_win_probs\").show()"
   ]
  },
  {
   "cell_type": "markdown",
   "metadata": {},
   "source": [
    "OLD:"
   ]
  },
  {
   "cell_type": "markdown",
   "metadata": {},
   "source": [
    "Investigate best aggregation technique:"
   ]
  },
  {
   "cell_type": "code",
   "execution_count": 48,
   "metadata": {},
   "outputs": [
    {
     "name": "stdout",
     "output_type": "stream",
     "text": [
      "*** mean ***\n",
      "rmse = 0.44886363636363635\n",
      "accuracy_score = 0.5511363636363636\n",
      "*** min ***\n",
      "rmse = 0.4318181818181818\n",
      "accuracy_score = 0.5681818181818182\n",
      "*** max ***\n",
      "rmse = 0.375\n",
      "accuracy_score = 0.625\n",
      "*** median ***\n",
      "rmse = 0.45454545454545453\n",
      "accuracy_score = 0.5454545454545454\n"
     ]
    }
   ],
   "source": [
    "# Train using only chance creation\n",
    "lrs = []\n",
    "for aggregation in aggregations:\n",
    "    print(f\"*** {aggregation} ***\")\n",
    "    lrs.append(logistic_regression(attr_data, [f\"{feature}_{aggregation}\" for feature in chance_creation_features]))"
   ]
  },
  {
   "cell_type": "markdown",
   "metadata": {},
   "source": [
    "Max seems to be the best-performing aggregation. Pick the top 2 best performing features and retrain"
   ]
  },
  {
   "cell_type": "code",
   "execution_count": 49,
   "metadata": {},
   "outputs": [
    {
     "name": "stdout",
     "output_type": "stream",
     "text": [
      "rmse = 0.3806818181818182\n",
      "accuracy_score = 0.6193181818181818\n"
     ]
    }
   ],
   "source": [
    "max_cr_features = [f\"{feature}_max\" for feature in chance_creation_features]\n",
    "# By trial and error 1 and 2 are the best\n",
    "max_cr_features_top_two = [max_cr_features[1], max_cr_features[2]]\n",
    "\n",
    "chance_creation_max_lr = logistic_regression(attr_data, max_cr_features_top_two)\n",
    "\n",
    "test = chance_creation_max_lr[\"test_data\"]\n",
    "y_pred = chance_creation_max_lr[\"model\"].predict(test[max_cr_features_top_two])"
   ]
  },
  {
   "cell_type": "markdown",
   "metadata": {},
   "source": [
    "Let's inspect the train and test errors in this prediction:"
   ]
  },
  {
   "cell_type": "code",
   "execution_count": 50,
   "metadata": {},
   "outputs": [
    {
     "name": "stdout",
     "output_type": "stream",
     "text": [
      "Train Error = 0.43631778058007564\n",
      "Test Error = 0.38068181818181823\n"
     ]
    },
    {
     "data": {
      "text/plain": [
       "(0.43631778058007564, 0.38068181818181823)"
      ]
     },
     "execution_count": 50,
     "metadata": {},
     "output_type": "execute_result"
    }
   ],
   "source": [
    "train_test_error(chance_creation_max_lr, max_cr_features_top_two)"
   ]
  },
  {
   "cell_type": "markdown",
   "metadata": {},
   "source": [
    "We have okay test and train error (44%, 38%). So, we are suffering from **underfitting** as error is still somewhat high. To improve underfitting, we introduce new features. To begin, we introduce polynomial features. We are initially using the following two features:"
   ]
  },
  {
   "cell_type": "code",
   "execution_count": 51,
   "metadata": {},
   "outputs": [
    {
     "name": "stdout",
     "output_type": "stream",
     "text": [
      "['chanceCreationCrossing_max', 'chanceCreationShooting_max']\n"
     ]
    }
   ],
   "source": [
    "print(max_cr_features_top_two)"
   ]
  },
  {
   "cell_type": "code",
   "execution_count": 52,
   "metadata": {},
   "outputs": [
    {
     "data": {
      "text/html": [
       "<div>\n",
       "<style scoped>\n",
       "    .dataframe tbody tr th:only-of-type {\n",
       "        vertical-align: middle;\n",
       "    }\n",
       "\n",
       "    .dataframe tbody tr th {\n",
       "        vertical-align: top;\n",
       "    }\n",
       "\n",
       "    .dataframe thead th {\n",
       "        text-align: right;\n",
       "    }\n",
       "</style>\n",
       "<table border=\"1\" class=\"dataframe\">\n",
       "  <thead>\n",
       "    <tr style=\"text-align: right;\">\n",
       "      <th></th>\n",
       "      <th>chanceCreationCrossing_max</th>\n",
       "      <th>chanceCreationShooting_max</th>\n",
       "      <th>home_team_win</th>\n",
       "    </tr>\n",
       "  </thead>\n",
       "  <tbody>\n",
       "    <tr>\n",
       "      <th>3248</th>\n",
       "      <td>-17.0</td>\n",
       "      <td>-7.0</td>\n",
       "      <td>0</td>\n",
       "    </tr>\n",
       "    <tr>\n",
       "      <th>3249</th>\n",
       "      <td>-2.0</td>\n",
       "      <td>-7.0</td>\n",
       "      <td>1</td>\n",
       "    </tr>\n",
       "    <tr>\n",
       "      <th>3250</th>\n",
       "      <td>-6.0</td>\n",
       "      <td>-7.0</td>\n",
       "      <td>1</td>\n",
       "    </tr>\n",
       "    <tr>\n",
       "      <th>3251</th>\n",
       "      <td>0.0</td>\n",
       "      <td>10.0</td>\n",
       "      <td>1</td>\n",
       "    </tr>\n",
       "    <tr>\n",
       "      <th>3252</th>\n",
       "      <td>0.0</td>\n",
       "      <td>-10.0</td>\n",
       "      <td>1</td>\n",
       "    </tr>\n",
       "  </tbody>\n",
       "</table>\n",
       "</div>"
      ],
      "text/plain": [
       "      chanceCreationCrossing_max  chanceCreationShooting_max  home_team_win\n",
       "3248                       -17.0                        -7.0              0\n",
       "3249                        -2.0                        -7.0              1\n",
       "3250                        -6.0                        -7.0              1\n",
       "3251                         0.0                        10.0              1\n",
       "3252                         0.0                       -10.0              1"
      ]
     },
     "execution_count": 52,
     "metadata": {},
     "output_type": "execute_result"
    }
   ],
   "source": [
    "# Select data\n",
    "attr_data_relevant = attr_data[max_cr_features_top_two + [binary_class_label]]\n",
    "attr_data_relevant.head()"
   ]
  },
  {
   "cell_type": "code",
   "execution_count": 53,
   "metadata": {},
   "outputs": [
    {
     "name": "stdout",
     "output_type": "stream",
     "text": [
      "Input data shape = (1762, 2)\n",
      "Output data shape = (1762, 12)\n",
      "10 new features generated of degree up to 5\n"
     ]
    },
    {
     "data": {
      "text/html": [
       "<div>\n",
       "<style scoped>\n",
       "    .dataframe tbody tr th:only-of-type {\n",
       "        vertical-align: middle;\n",
       "    }\n",
       "\n",
       "    .dataframe tbody tr th {\n",
       "        vertical-align: top;\n",
       "    }\n",
       "\n",
       "    .dataframe thead th {\n",
       "        text-align: right;\n",
       "    }\n",
       "</style>\n",
       "<table border=\"1\" class=\"dataframe\">\n",
       "  <thead>\n",
       "    <tr style=\"text-align: right;\">\n",
       "      <th></th>\n",
       "      <th>x_(0)^(0)</th>\n",
       "      <th>x_(1)^(0)</th>\n",
       "      <th>x_(0)^(1)</th>\n",
       "      <th>x_(1)^(1)</th>\n",
       "      <th>x_(0)^(2)</th>\n",
       "      <th>x_(1)^(2)</th>\n",
       "      <th>x_(0)^(3)</th>\n",
       "      <th>x_(1)^(3)</th>\n",
       "      <th>x_(0)^(4)</th>\n",
       "      <th>x_(1)^(4)</th>\n",
       "      <th>x_(0)^(5)</th>\n",
       "      <th>x_(1)^(5)</th>\n",
       "      <th>home_team_win</th>\n",
       "    </tr>\n",
       "  </thead>\n",
       "  <tbody>\n",
       "    <tr>\n",
       "      <th>0</th>\n",
       "      <td>1.0</td>\n",
       "      <td>1.0</td>\n",
       "      <td>-17.0</td>\n",
       "      <td>-7.0</td>\n",
       "      <td>289.0</td>\n",
       "      <td>49.0</td>\n",
       "      <td>-4913.0</td>\n",
       "      <td>-343.0</td>\n",
       "      <td>83521.0</td>\n",
       "      <td>2401.0</td>\n",
       "      <td>-1419857.0</td>\n",
       "      <td>-16807.0</td>\n",
       "      <td>0</td>\n",
       "    </tr>\n",
       "    <tr>\n",
       "      <th>1</th>\n",
       "      <td>1.0</td>\n",
       "      <td>1.0</td>\n",
       "      <td>-2.0</td>\n",
       "      <td>-7.0</td>\n",
       "      <td>4.0</td>\n",
       "      <td>49.0</td>\n",
       "      <td>-8.0</td>\n",
       "      <td>-343.0</td>\n",
       "      <td>16.0</td>\n",
       "      <td>2401.0</td>\n",
       "      <td>-32.0</td>\n",
       "      <td>-16807.0</td>\n",
       "      <td>1</td>\n",
       "    </tr>\n",
       "    <tr>\n",
       "      <th>2</th>\n",
       "      <td>1.0</td>\n",
       "      <td>1.0</td>\n",
       "      <td>-6.0</td>\n",
       "      <td>-7.0</td>\n",
       "      <td>36.0</td>\n",
       "      <td>49.0</td>\n",
       "      <td>-216.0</td>\n",
       "      <td>-343.0</td>\n",
       "      <td>1296.0</td>\n",
       "      <td>2401.0</td>\n",
       "      <td>-7776.0</td>\n",
       "      <td>-16807.0</td>\n",
       "      <td>1</td>\n",
       "    </tr>\n",
       "    <tr>\n",
       "      <th>3</th>\n",
       "      <td>1.0</td>\n",
       "      <td>1.0</td>\n",
       "      <td>0.0</td>\n",
       "      <td>10.0</td>\n",
       "      <td>0.0</td>\n",
       "      <td>100.0</td>\n",
       "      <td>0.0</td>\n",
       "      <td>1000.0</td>\n",
       "      <td>0.0</td>\n",
       "      <td>10000.0</td>\n",
       "      <td>0.0</td>\n",
       "      <td>100000.0</td>\n",
       "      <td>1</td>\n",
       "    </tr>\n",
       "    <tr>\n",
       "      <th>4</th>\n",
       "      <td>1.0</td>\n",
       "      <td>1.0</td>\n",
       "      <td>0.0</td>\n",
       "      <td>-10.0</td>\n",
       "      <td>0.0</td>\n",
       "      <td>100.0</td>\n",
       "      <td>0.0</td>\n",
       "      <td>-1000.0</td>\n",
       "      <td>0.0</td>\n",
       "      <td>10000.0</td>\n",
       "      <td>0.0</td>\n",
       "      <td>-100000.0</td>\n",
       "      <td>1</td>\n",
       "    </tr>\n",
       "  </tbody>\n",
       "</table>\n",
       "</div>"
      ],
      "text/plain": [
       "   x_(0)^(0)  x_(1)^(0)  x_(0)^(1)  x_(1)^(1)  x_(0)^(2)  x_(1)^(2)  \\\n",
       "0        1.0        1.0      -17.0       -7.0      289.0       49.0   \n",
       "1        1.0        1.0       -2.0       -7.0        4.0       49.0   \n",
       "2        1.0        1.0       -6.0       -7.0       36.0       49.0   \n",
       "3        1.0        1.0        0.0       10.0        0.0      100.0   \n",
       "4        1.0        1.0        0.0      -10.0        0.0      100.0   \n",
       "\n",
       "   x_(0)^(3)  x_(1)^(3)  x_(0)^(4)  x_(1)^(4)  x_(0)^(5)  x_(1)^(5)  \\\n",
       "0    -4913.0     -343.0    83521.0     2401.0 -1419857.0   -16807.0   \n",
       "1       -8.0     -343.0       16.0     2401.0      -32.0   -16807.0   \n",
       "2     -216.0     -343.0     1296.0     2401.0    -7776.0   -16807.0   \n",
       "3        0.0     1000.0        0.0    10000.0        0.0   100000.0   \n",
       "4        0.0    -1000.0        0.0    10000.0        0.0  -100000.0   \n",
       "\n",
       "   home_team_win  \n",
       "0              0  \n",
       "1              1  \n",
       "2              1  \n",
       "3              1  \n",
       "4              1  "
      ]
     },
     "execution_count": 53,
     "metadata": {},
     "output_type": "execute_result"
    }
   ],
   "source": [
    "poly_enhance_attr_cr_max = poly_enhance_data(attr_data_relevant, max_cr_features_top_two, degree = 5)\n",
    "poly_attr_cr_max_data = poly_enhance_attr_cr_max[0]\n",
    "poly_feats = poly_enhance_attr_cr_max[1]\n",
    "poly_attr_cr_max_data.head()"
   ]
  },
  {
   "cell_type": "markdown",
   "metadata": {},
   "source": [
    "Train a new LR model using the polynomial features"
   ]
  },
  {
   "cell_type": "code",
   "execution_count": 54,
   "metadata": {},
   "outputs": [
    {
     "name": "stdout",
     "output_type": "stream",
     "text": [
      "rmse = 0.39204545454545453\n",
      "accuracy_score = 0.6079545454545454\n"
     ]
    }
   ],
   "source": [
    "poly_lr = logistic_regression(poly_attr_cr_max_data, poly_feats)"
   ]
  },
  {
   "cell_type": "code",
   "execution_count": 55,
   "metadata": {},
   "outputs": [
    {
     "name": "stdout",
     "output_type": "stream",
     "text": [
      "Train Error = 0.4287515762925599\n",
      "Test Error = 0.3920454545454546\n"
     ]
    },
    {
     "data": {
      "text/plain": [
       "(0.4287515762925599, 0.3920454545454546)"
      ]
     },
     "execution_count": 55,
     "metadata": {},
     "output_type": "execute_result"
    }
   ],
   "source": [
    "train_test_error(poly_lr, poly_feats)"
   ]
  },
  {
   "cell_type": "markdown",
   "metadata": {},
   "source": [
    "Using degree 5, we saw a drop in train error of around 2% but increase in test error by around 1%. "
   ]
  },
  {
   "cell_type": "markdown",
   "metadata": {},
   "source": [
    "## 4. Formation shape\n",
    "Use unsupervised learning to categorize formations into narrow/wide, defensive/attacking, output \"formation width index\" and \"formation aggressiveness index\""
   ]
  },
  {
   "cell_type": "code",
   "execution_count": null,
   "metadata": {},
   "outputs": [],
   "source": []
  }
 ],
 "metadata": {
  "kernelspec": {
   "display_name": "Python 3",
   "language": "python",
   "name": "python3"
  },
  "language_info": {
   "codemirror_mode": {
    "name": "ipython",
    "version": 3
   },
   "file_extension": ".py",
   "mimetype": "text/x-python",
   "name": "python",
   "nbconvert_exporter": "python",
   "pygments_lexer": "ipython3",
   "version": "3.9.0"
  }
 },
 "nbformat": 4,
 "nbformat_minor": 2
}
